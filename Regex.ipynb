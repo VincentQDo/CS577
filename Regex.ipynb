{
  "cells": [
    {
      "metadata": {
        "slideshow": {
          "slide_type": "slide"
        }
      },
      "cell_type": "markdown",
      "source": "# Regular Expressions"
    },
    {
      "metadata": {
        "slideshow": {
          "slide_type": "slide"
        }
      },
      "cell_type": "markdown",
      "source": "## Outline\n\n1. Regular Expressions\n2. Regex Fundamentals\n3. Useful Applications of Regular Expressions"
    },
    {
      "metadata": {
        "slideshow": {
          "slide_type": "slide"
        }
      },
      "cell_type": "markdown",
      "source": "## Regular Expressions\n\n* Motivation"
    },
    {
      "metadata": {
        "slideshow": {
          "slide_type": "slide"
        }
      },
      "cell_type": "markdown",
      "source": "## Regular Expressions for Detecting Word Patterns!\n\nIn Python, how to find all words in some text that end with `ed`?\n\nCan use String method: `endswith('ed')`"
    },
    {
      "metadata": {
        "slideshow": {
          "slide_type": "fragment"
        }
      },
      "cell_type": "markdown",
      "source": "What is the code?"
    },
    {
      "metadata": {
        "slideshow": {
          "slide_type": "fragment"
        }
      },
      "cell_type": "markdown",
      "source": "_General form:_\n\n```python\n[w for w in text if w.endswith('ed')]\n```"
    },
    {
      "metadata": {
        "slideshow": {
          "slide_type": "slide"
        }
      },
      "cell_type": "markdown",
      "source": "Word Comparison Operators:\n\n| Method | Description |\n| --- | --- |\n| `s.startswith(t)` | test if s starts with t |\n| `s.endswith(t)` | test if s ends with t |\n| `t in s` | test if t is a substring of s |\n| `s.islower()` | test if s contains cased characters and all are lowercase |\n| `s.isupper()` | test if s contains cased characters and all are uppercase |\n| `s.isalpha()` | test if s is non-empty and all characters in s are alphabetic |\n| `s.isalnum()` | test if s is non-empty and all characters in s are alphanumeric |\n| `s.isdigit()` | test if s is non-empty and all characters in s are digits |\n| `s.istitle()` | test if s contains cased characters and is titlecased (i.e. all words in s have initial capitals) |\n"
    },
    {
      "metadata": {
        "slideshow": {
          "slide_type": "slide"
        }
      },
      "cell_type": "markdown",
      "source": "## Using Regular Expressions in Python\n\n**Regular expressions** provide a more powerful and flexible method for describing character patterns of interest: \n* standard notation for characterizing text sequences\n* “a language for specifying text search strings”\n* used in Unix’s grep, Python, Java, Perl, NotePad++, emacs, etc. \n* regular expressions (“regex”)’s can also be tricky! "
    },
    {
      "metadata": {
        "slideshow": {
          "slide_type": "slide"
        }
      },
      "cell_type": "markdown",
      "source": "Need to import the `re` library"
    },
    {
      "metadata": {
        "slideshow": {
          "slide_type": "fragment"
        },
        "trusted": true
      },
      "cell_type": "code",
      "source": "import re",
      "execution_count": 1,
      "outputs": []
    },
    {
      "metadata": {
        "slideshow": {
          "slide_type": "slide"
        }
      },
      "cell_type": "markdown",
      "source": "## Regex Fundamentals\n\n* `re.search`\n* Operators\n* Ranges and Closures\n* Advanced Operators"
    },
    {
      "metadata": {
        "slideshow": {
          "slide_type": "slide"
        }
      },
      "cell_type": "markdown",
      "source": "Regular expression requires a **search pattern** that will be searched for, and a **corpus** of “texts” to search through. \n\nAll “texts” that match that pattern are returned. \n\n“Texts” can be: \n* entire web pages\n* lines of a document\n* a sentence \n* or individual words or letters"
    },
    {
      "metadata": {
        "slideshow": {
          "slide_type": "slide"
        }
      },
      "cell_type": "markdown",
      "source": "`re.search(p, s)` function checks whether pattern `p` can be found somewhere inside string `s` \n\nif found, a python `Match` object is returned\n\nReturns the first match if found, otherwise returns `None`"
    },
    {
      "metadata": {
        "slideshow": {
          "slide_type": "slide"
        }
      },
      "cell_type": "markdown",
      "source": "### Example: Generating a List of Words to Search\n\nFrom the “Words” corpus\n* Integrated into NLTK\n* A copy of `/usr/share/dict/words` file, common on Unix systems\n* Commonly used by spellcheckers\n* Linked on course webpage"
    },
    {
      "metadata": {
        "slideshow": {
          "slide_type": "slide"
        }
      },
      "cell_type": "markdown",
      "source": "Preprocessing to remove any proper names:"
    },
    {
      "metadata": {
        "slideshow": {
          "slide_type": "fragment"
        },
        "trusted": true
      },
      "cell_type": "code",
      "source": "import nltk",
      "execution_count": 2,
      "outputs": []
    },
    {
      "metadata": {
        "slideshow": {
          "slide_type": "fragment"
        },
        "trusted": true
      },
      "cell_type": "code",
      "source": "nltk.download()",
      "execution_count": 4,
      "outputs": [
        {
          "output_type": "stream",
          "text": "NLTK Downloader\n---------------------------------------------------------------------------\n    d) Download   l) List    u) Update   c) Config   h) Help   q) Quit\n---------------------------------------------------------------------------\nDownloader> d\n\nDownload which package (l=list; x=cancel)?\n  Identifier> book\n    Downloading collection 'book'\n       | \n       | Downloading package abc to /home/nbuser/nltk_data...\n       |   Unzipping corpora/abc.zip.\n       | Downloading package brown to /home/nbuser/nltk_data...\n       |   Unzipping corpora/brown.zip.\n       | Downloading package chat80 to /home/nbuser/nltk_data...\n       |   Unzipping corpora/chat80.zip.\n       | Downloading package cmudict to /home/nbuser/nltk_data...\n       |   Unzipping corpora/cmudict.zip.\n       | Downloading package conll2000 to /home/nbuser/nltk_data...\n       |   Unzipping corpora/conll2000.zip.\n       | Downloading package conll2002 to /home/nbuser/nltk_data...\n       |   Unzipping corpora/conll2002.zip.\n       | Downloading package dependency_treebank to\n       |     /home/nbuser/nltk_data...\n       |   Unzipping corpora/dependency_treebank.zip.\n       | Downloading package genesis to /home/nbuser/nltk_data...\n       |   Unzipping corpora/genesis.zip.\n       | Downloading package gutenberg to /home/nbuser/nltk_data...\n       |   Unzipping corpora/gutenberg.zip.\n       | Downloading package ieer to /home/nbuser/nltk_data...\n       |   Unzipping corpora/ieer.zip.\n       | Downloading package inaugural to /home/nbuser/nltk_data...\n       |   Unzipping corpora/inaugural.zip.\n       | Downloading package movie_reviews to\n       |     /home/nbuser/nltk_data...\n       |   Unzipping corpora/movie_reviews.zip.\n       | Downloading package nps_chat to /home/nbuser/nltk_data...\n       |   Unzipping corpora/nps_chat.zip.\n       | Downloading package names to /home/nbuser/nltk_data...\n       |   Unzipping corpora/names.zip.\n       | Downloading package ppattach to /home/nbuser/nltk_data...\n       |   Unzipping corpora/ppattach.zip.\n       | Downloading package reuters to /home/nbuser/nltk_data...\n       | Downloading package senseval to /home/nbuser/nltk_data...\n       |   Unzipping corpora/senseval.zip.\n       | Downloading package state_union to /home/nbuser/nltk_data...\n       |   Unzipping corpora/state_union.zip.\n       | Downloading package stopwords to /home/nbuser/nltk_data...\n       |   Unzipping corpora/stopwords.zip.\n       | Downloading package swadesh to /home/nbuser/nltk_data...\n       |   Unzipping corpora/swadesh.zip.\n       | Downloading package timit to /home/nbuser/nltk_data...\n       |   Unzipping corpora/timit.zip.\n       | Downloading package treebank to /home/nbuser/nltk_data...\n       |   Unzipping corpora/treebank.zip.\n       | Downloading package toolbox to /home/nbuser/nltk_data...\n       |   Unzipping corpora/toolbox.zip.\n       | Downloading package udhr to /home/nbuser/nltk_data...\n       |   Unzipping corpora/udhr.zip.\n       | Downloading package udhr2 to /home/nbuser/nltk_data...\n       |   Unzipping corpora/udhr2.zip.\n       | Downloading package unicode_samples to\n       |     /home/nbuser/nltk_data...\n       |   Unzipping corpora/unicode_samples.zip.\n       | Downloading package webtext to /home/nbuser/nltk_data...\n       |   Unzipping corpora/webtext.zip.\n       | Downloading package wordnet to /home/nbuser/nltk_data...\n       |   Unzipping corpora/wordnet.zip.\n       | Downloading package wordnet_ic to /home/nbuser/nltk_data...\n       |   Unzipping corpora/wordnet_ic.zip.\n       | Downloading package words to /home/nbuser/nltk_data...\n       |   Unzipping corpora/words.zip.\n       | Downloading package maxent_treebank_pos_tagger to\n       |     /home/nbuser/nltk_data...\n       |   Unzipping taggers/maxent_treebank_pos_tagger.zip.\n       | Downloading package maxent_ne_chunker to\n       |     /home/nbuser/nltk_data...\n       |   Unzipping chunkers/maxent_ne_chunker.zip.\n       | Downloading package universal_tagset to\n       |     /home/nbuser/nltk_data...\n       |   Unzipping taggers/universal_tagset.zip.\n       | Downloading package punkt to /home/nbuser/nltk_data...\n       |   Unzipping tokenizers/punkt.zip.\n       | Downloading package book_grammars to\n       |     /home/nbuser/nltk_data...\n       |   Unzipping grammars/book_grammars.zip.\n       | Downloading package city_database to\n       |     /home/nbuser/nltk_data...\n       |   Unzipping corpora/city_database.zip.\n       | Downloading package tagsets to /home/nbuser/nltk_data...\n       |   Unzipping help/tagsets.zip.\n       | Downloading package panlex_swadesh to\n       |     /home/nbuser/nltk_data...\n       | Downloading package averaged_perceptron_tagger to\n       |     /home/nbuser/nltk_data...\n       |   Unzipping taggers/averaged_perceptron_tagger.zip.\n       | \n     Done downloading collection book\n\n---------------------------------------------------------------------------\n    d) Download   l) List    u) Update   c) Config   h) Help   q) Quit\n---------------------------------------------------------------------------\nDownloader> q\n",
          "name": "stdout"
        },
        {
          "output_type": "execute_result",
          "execution_count": 4,
          "data": {
            "text/plain": "True"
          },
          "metadata": {}
        }
      ]
    },
    {
      "metadata": {
        "slideshow": {
          "slide_type": "slide"
        },
        "trusted": true
      },
      "cell_type": "code",
      "source": "wordlist = [w for w in nltk.corpus.words.words('en') if w.islower()]\nwordlist",
      "execution_count": 24,
      "outputs": [
        {
          "output_type": "execute_result",
          "execution_count": 24,
          "data": {
            "text/plain": "['a',\n 'aa',\n 'aal',\n 'aalii',\n 'aam',\n 'aardvark',\n 'aardwolf',\n 'aba',\n 'abac',\n 'abaca',\n 'abacate',\n 'abacay',\n 'abacinate',\n 'abacination',\n 'abaciscus',\n 'abacist',\n 'aback',\n 'abactinal',\n 'abactinally',\n 'abaction',\n 'abactor',\n 'abaculus',\n 'abacus',\n 'abaff',\n 'abaft',\n 'abaisance',\n 'abaiser',\n 'abaissed',\n 'abalienate',\n 'abalienation',\n 'abalone',\n 'abampere',\n 'abandon',\n 'abandonable',\n 'abandoned',\n 'abandonedly',\n 'abandonee',\n 'abandoner',\n 'abandonment',\n 'abaptiston',\n 'abarthrosis',\n 'abarticular',\n 'abarticulation',\n 'abas',\n 'abase',\n 'abased',\n 'abasedly',\n 'abasedness',\n 'abasement',\n 'abaser',\n 'abash',\n 'abashed',\n 'abashedly',\n 'abashedness',\n 'abashless',\n 'abashlessly',\n 'abashment',\n 'abasia',\n 'abasic',\n 'abask',\n 'abastardize',\n 'abatable',\n 'abate',\n 'abatement',\n 'abater',\n 'abatis',\n 'abatised',\n 'abaton',\n 'abator',\n 'abattoir',\n 'abature',\n 'abave',\n 'abaxial',\n 'abaxile',\n 'abaze',\n 'abb',\n 'abbacomes',\n 'abbacy',\n 'abbas',\n 'abbasi',\n 'abbassi',\n 'abbatial',\n 'abbatical',\n 'abbess',\n 'abbey',\n 'abbeystede',\n 'abbot',\n 'abbotcy',\n 'abbotnullius',\n 'abbotship',\n 'abbreviate',\n 'abbreviately',\n 'abbreviation',\n 'abbreviator',\n 'abbreviatory',\n 'abbreviature',\n 'abcoulomb',\n 'abdal',\n 'abdat',\n 'abdest',\n 'abdicable',\n 'abdicant',\n 'abdicate',\n 'abdication',\n 'abdicative',\n 'abdicator',\n 'abditive',\n 'abditory',\n 'abdomen',\n 'abdominal',\n 'abdominalian',\n 'abdominally',\n 'abdominoanterior',\n 'abdominocardiac',\n 'abdominocentesis',\n 'abdominocystic',\n 'abdominogenital',\n 'abdominohysterectomy',\n 'abdominohysterotomy',\n 'abdominoposterior',\n 'abdominoscope',\n 'abdominoscopy',\n 'abdominothoracic',\n 'abdominous',\n 'abdominovaginal',\n 'abdominovesical',\n 'abduce',\n 'abducens',\n 'abducent',\n 'abduct',\n 'abduction',\n 'abductor',\n 'abeam',\n 'abear',\n 'abearance',\n 'abecedarian',\n 'abecedarium',\n 'abecedary',\n 'abed',\n 'abeigh',\n 'abele',\n 'abelite',\n 'abelmosk',\n 'abeltree',\n 'abenteric',\n 'abepithymia',\n 'aberdevine',\n 'aberrance',\n 'aberrancy',\n 'aberrant',\n 'aberrate',\n 'aberration',\n 'aberrational',\n 'aberrator',\n 'aberrometer',\n 'aberroscope',\n 'aberuncator',\n 'abet',\n 'abetment',\n 'abettal',\n 'abettor',\n 'abevacuation',\n 'abey',\n 'abeyance',\n 'abeyancy',\n 'abeyant',\n 'abfarad',\n 'abhenry',\n 'abhiseka',\n 'abhominable',\n 'abhor',\n 'abhorrence',\n 'abhorrency',\n 'abhorrent',\n 'abhorrently',\n 'abhorrer',\n 'abhorrible',\n 'abhorring',\n 'abidal',\n 'abidance',\n 'abide',\n 'abider',\n 'abidi',\n 'abiding',\n 'abidingly',\n 'abidingness',\n 'abietate',\n 'abietene',\n 'abietic',\n 'abietin',\n 'abietineous',\n 'abietinic',\n 'abigail',\n 'abigailship',\n 'abigeat',\n 'abigeus',\n 'abilao',\n 'ability',\n 'abilla',\n 'abilo',\n 'abintestate',\n 'abiogenesis',\n 'abiogenesist',\n 'abiogenetic',\n 'abiogenetical',\n 'abiogenetically',\n 'abiogenist',\n 'abiogenous',\n 'abiogeny',\n 'abiological',\n 'abiologically',\n 'abiology',\n 'abiosis',\n 'abiotic',\n 'abiotrophic',\n 'abiotrophy',\n 'abir',\n 'abirritant',\n 'abirritate',\n 'abirritation',\n 'abirritative',\n 'abiston',\n 'abiuret',\n 'abject',\n 'abjectedness',\n 'abjection',\n 'abjective',\n 'abjectly',\n 'abjectness',\n 'abjoint',\n 'abjudge',\n 'abjudicate',\n 'abjudication',\n 'abjunction',\n 'abjunctive',\n 'abjuration',\n 'abjuratory',\n 'abjure',\n 'abjurement',\n 'abjurer',\n 'abkar',\n 'abkari',\n 'ablach',\n 'ablactate',\n 'ablactation',\n 'ablare',\n 'ablastemic',\n 'ablastous',\n 'ablate',\n 'ablation',\n 'ablatitious',\n 'ablatival',\n 'ablative',\n 'ablator',\n 'ablaut',\n 'ablaze',\n 'able',\n 'ableeze',\n 'ablegate',\n 'ableness',\n 'ablepharia',\n 'ablepharon',\n 'ablepharous',\n 'ablepsia',\n 'ableptical',\n 'ableptically',\n 'abler',\n 'ablest',\n 'ablewhackets',\n 'ablins',\n 'abloom',\n 'ablow',\n 'ablude',\n 'abluent',\n 'ablush',\n 'ablution',\n 'ablutionary',\n 'abluvion',\n 'ably',\n 'abmho',\n 'abnegate',\n 'abnegation',\n 'abnegative',\n 'abnegator',\n 'abnerval',\n 'abnet',\n 'abneural',\n 'abnormal',\n 'abnormalism',\n 'abnormalist',\n 'abnormality',\n 'abnormalize',\n 'abnormally',\n 'abnormalness',\n 'abnormity',\n 'abnormous',\n 'abnumerable',\n 'aboard',\n 'abode',\n 'abodement',\n 'abody',\n 'abohm',\n 'aboil',\n 'abolish',\n 'abolisher',\n 'abolishment',\n 'abolition',\n 'abolitionary',\n 'abolitionism',\n 'abolitionist',\n 'abolitionize',\n 'abolla',\n 'aboma',\n 'abomasum',\n 'abomasus',\n 'abominable',\n 'abominableness',\n 'abominably',\n 'abominate',\n 'abomination',\n 'abominator',\n 'abomine',\n 'aboon',\n 'aborad',\n 'aboral',\n 'aborally',\n 'abord',\n 'aboriginal',\n 'aboriginality',\n 'aboriginally',\n 'aboriginary',\n 'aborigine',\n 'abort',\n 'aborted',\n 'aborticide',\n 'abortient',\n 'abortifacient',\n 'abortin',\n 'abortion',\n 'abortional',\n 'abortionist',\n 'abortive',\n 'abortively',\n 'abortiveness',\n 'abortus',\n 'abouchement',\n 'abound',\n 'abounder',\n 'abounding',\n 'aboundingly',\n 'about',\n 'abouts',\n 'above',\n 'aboveboard',\n 'abovedeck',\n 'aboveground',\n 'aboveproof',\n 'abovestairs',\n 'abox',\n 'abracadabra',\n 'abrachia',\n 'abradant',\n 'abrade',\n 'abrader',\n 'abraid',\n 'abranchial',\n 'abranchialism',\n 'abranchian',\n 'abranchiate',\n 'abranchious',\n 'abrasax',\n 'abrase',\n 'abrash',\n 'abrasiometer',\n 'abrasion',\n 'abrasive',\n 'abrastol',\n 'abraum',\n 'abraxas',\n 'abreact',\n 'abreaction',\n 'abreast',\n 'abrenounce',\n 'abret',\n 'abrico',\n 'abridge',\n 'abridgeable',\n 'abridged',\n 'abridgedly',\n 'abridger',\n 'abridgment',\n 'abrim',\n 'abrin',\n 'abristle',\n 'abroach',\n 'abroad',\n 'abrocome',\n 'abrogable',\n 'abrogate',\n 'abrogation',\n 'abrogative',\n 'abrogator',\n 'abrook',\n 'abrotanum',\n 'abrotine',\n 'abrupt',\n 'abruptedly',\n 'abruption',\n 'abruptly',\n 'abruptness',\n 'absampere',\n 'absarokite',\n 'abscess',\n 'abscessed',\n 'abscession',\n 'abscessroot',\n 'abscind',\n 'abscise',\n 'abscision',\n 'absciss',\n 'abscissa',\n 'abscissae',\n 'abscisse',\n 'abscission',\n 'absconce',\n 'abscond',\n 'absconded',\n 'abscondedly',\n 'abscondence',\n 'absconder',\n 'absconsa',\n 'abscoulomb',\n 'absence',\n 'absent',\n 'absentation',\n 'absentee',\n 'absenteeism',\n 'absenteeship',\n 'absenter',\n 'absently',\n 'absentment',\n 'absentmindedly',\n 'absentness',\n 'absfarad',\n 'abshenry',\n 'absinthe',\n 'absinthial',\n 'absinthian',\n 'absinthiate',\n 'absinthic',\n 'absinthin',\n 'absinthine',\n 'absinthism',\n 'absinthismic',\n 'absinthium',\n 'absinthol',\n 'absit',\n 'absmho',\n 'absohm',\n 'absolute',\n 'absolutely',\n 'absoluteness',\n 'absolution',\n 'absolutism',\n 'absolutist',\n 'absolutistic',\n 'absolutistically',\n 'absolutive',\n 'absolutization',\n 'absolutize',\n 'absolutory',\n 'absolvable',\n 'absolvatory',\n 'absolve',\n 'absolvent',\n 'absolver',\n 'absolvitor',\n 'absolvitory',\n 'absonant',\n 'absonous',\n 'absorb',\n 'absorbability',\n 'absorbable',\n 'absorbed',\n 'absorbedly',\n 'absorbedness',\n 'absorbefacient',\n 'absorbency',\n 'absorbent',\n 'absorber',\n 'absorbing',\n 'absorbingly',\n 'absorbition',\n 'absorpt',\n 'absorptance',\n 'absorptiometer',\n 'absorptiometric',\n 'absorption',\n 'absorptive',\n 'absorptively',\n 'absorptiveness',\n 'absorptivity',\n 'absquatulate',\n 'abstain',\n 'abstainer',\n 'abstainment',\n 'abstemious',\n 'abstemiously',\n 'abstemiousness',\n 'abstention',\n 'abstentionist',\n 'abstentious',\n 'absterge',\n 'abstergent',\n 'abstersion',\n 'abstersive',\n 'abstersiveness',\n 'abstinence',\n 'abstinency',\n 'abstinent',\n 'abstinential',\n 'abstinently',\n 'abstract',\n 'abstracted',\n 'abstractedly',\n 'abstractedness',\n 'abstracter',\n 'abstraction',\n 'abstractional',\n 'abstractionism',\n 'abstractionist',\n 'abstractitious',\n 'abstractive',\n 'abstractively',\n 'abstractiveness',\n 'abstractly',\n 'abstractness',\n 'abstractor',\n 'abstrahent',\n 'abstricted',\n 'abstriction',\n 'abstruse',\n 'abstrusely',\n 'abstruseness',\n 'abstrusion',\n 'abstrusity',\n 'absume',\n 'absumption',\n 'absurd',\n 'absurdity',\n 'absurdly',\n 'absurdness',\n 'absvolt',\n 'abterminal',\n 'abthain',\n 'abthainrie',\n 'abthainry',\n 'abthanage',\n 'abu',\n 'abucco',\n 'abulia',\n 'abulic',\n 'abulomania',\n 'abuna',\n 'abundance',\n 'abundancy',\n 'abundant',\n 'abundantly',\n 'abura',\n 'aburabozu',\n 'aburban',\n 'aburst',\n 'aburton',\n 'abusable',\n 'abuse',\n 'abusedly',\n 'abusee',\n 'abuseful',\n 'abusefully',\n 'abusefulness',\n 'abuser',\n 'abusion',\n 'abusious',\n 'abusive',\n 'abusively',\n 'abusiveness',\n 'abut',\n 'abutment',\n 'abuttal',\n 'abutter',\n 'abutting',\n 'abuzz',\n 'abvolt',\n 'abwab',\n 'aby',\n 'abysm',\n 'abysmal',\n 'abysmally',\n 'abyss',\n 'abyssal',\n 'abyssobenthonic',\n 'abyssolith',\n 'abyssopelagic',\n 'acacatechin',\n 'acacatechol',\n 'acacetin',\n 'acaciin',\n 'acacin',\n 'academe',\n 'academial',\n 'academian',\n 'academic',\n 'academical',\n 'academically',\n 'academicals',\n 'academician',\n 'academicism',\n 'academism',\n 'academist',\n 'academite',\n 'academization',\n 'academize',\n 'academy',\n 'acadialite',\n 'acajou',\n 'acaleph',\n 'acalephan',\n 'acalephoid',\n 'acalycal',\n 'acalycine',\n 'acalycinous',\n 'acalyculate',\n 'acalyptrate',\n 'acampsia',\n 'acana',\n 'acanaceous',\n 'acanonical',\n 'acanth',\n 'acantha',\n 'acanthaceous',\n 'acanthad',\n 'acanthial',\n 'acanthin',\n 'acanthine',\n 'acanthion',\n 'acanthite',\n 'acanthocarpous',\n 'acanthocephalan',\n 'acanthocephalous',\n 'acanthocladous',\n 'acanthodean',\n 'acanthodian',\n 'acanthoid',\n 'acanthological',\n 'acanthology',\n 'acantholysis',\n 'acanthoma',\n 'acanthon',\n 'acanthophorous',\n 'acanthopod',\n 'acanthopodous',\n 'acanthopomatous',\n 'acanthopore',\n 'acanthopteran',\n 'acanthopterous',\n 'acanthopterygian',\n 'acanthosis',\n 'acanthous',\n 'acanthus',\n 'acapnia',\n 'acapnial',\n 'acapsular',\n 'acapu',\n 'acapulco',\n 'acara',\n 'acardia',\n 'acardiac',\n 'acari',\n 'acarian',\n 'acariasis',\n 'acaricidal',\n 'acaricide',\n 'acarid',\n 'acaridean',\n 'acaridomatium',\n 'acariform',\n 'acarine',\n 'acarinosis',\n 'acarocecidium',\n 'acarodermatitis',\n 'acaroid',\n 'acarol',\n 'acarologist',\n 'acarology',\n 'acarophilous',\n 'acarophobia',\n 'acarotoxic',\n 'acarpelous',\n 'acarpous',\n 'acatalectic',\n 'acatalepsia',\n 'acatalepsy',\n 'acataleptic',\n 'acatallactic',\n 'acatamathesia',\n 'acataphasia',\n 'acataposis',\n 'acatastasia',\n 'acatastatic',\n 'acate',\n 'acategorical',\n 'acatery',\n 'acatharsia',\n 'acatharsy',\n 'acatholic',\n 'acaudal',\n 'acaudate',\n 'acaulescent',\n 'acauline',\n 'acaulose',\n 'acaulous',\n 'acca',\n 'accede',\n 'accedence',\n 'acceder',\n 'accelerable',\n 'accelerando',\n 'accelerant',\n 'accelerate',\n 'accelerated',\n 'acceleratedly',\n 'acceleration',\n 'accelerative',\n 'accelerator',\n 'acceleratory',\n 'accelerograph',\n 'accelerometer',\n 'accend',\n 'accendibility',\n 'accendible',\n 'accension',\n 'accensor',\n 'accent',\n 'accentless',\n 'accentor',\n 'accentuable',\n 'accentual',\n 'accentuality',\n 'accentually',\n 'accentuate',\n 'accentuation',\n 'accentuator',\n 'accentus',\n 'accept',\n 'acceptability',\n 'acceptable',\n 'acceptableness',\n 'acceptably',\n 'acceptance',\n 'acceptancy',\n 'acceptant',\n 'acceptation',\n 'accepted',\n 'acceptedly',\n 'accepter',\n 'acceptilate',\n 'acceptilation',\n 'acception',\n 'acceptive',\n 'acceptor',\n 'acceptress',\n 'accerse',\n 'accersition',\n 'accersitor',\n 'access',\n 'accessarily',\n 'accessariness',\n 'accessary',\n 'accessaryship',\n 'accessibility',\n 'accessible',\n 'accessibly',\n 'accession',\n 'accessional',\n 'accessioner',\n 'accessive',\n 'accessively',\n 'accessless',\n 'accessorial',\n 'accessorily',\n 'accessoriness',\n 'accessorius',\n 'accessory',\n 'accidence',\n 'accidency',\n 'accident',\n 'accidental',\n 'accidentalism',\n 'accidentalist',\n 'accidentality',\n 'accidentally',\n 'accidentalness',\n 'accidented',\n 'accidential',\n 'accidentiality',\n 'accidently',\n 'accidia',\n 'accidie',\n 'accinge',\n 'accipient',\n 'accipitral',\n 'accipitrary',\n 'accipitrine',\n 'accismus',\n 'accite',\n 'acclaim',\n 'acclaimable',\n 'acclaimer',\n 'acclamation',\n 'acclamator',\n 'acclamatory',\n 'acclimatable',\n 'acclimatation',\n 'acclimate',\n 'acclimatement',\n 'acclimation',\n 'acclimatizable',\n 'acclimatization',\n 'acclimatize',\n 'acclimatizer',\n 'acclimature',\n 'acclinal',\n 'acclinate',\n 'acclivitous',\n 'acclivity',\n 'acclivous',\n 'accloy',\n 'accoast',\n 'accoil',\n 'accolade',\n 'accoladed',\n 'accolated',\n 'accolent',\n 'accolle',\n 'accombination',\n 'accommodable',\n 'accommodableness',\n 'accommodate',\n 'accommodately',\n 'accommodateness',\n 'accommodating',\n 'accommodatingly',\n 'accommodation',\n 'accommodational',\n 'accommodative',\n 'accommodativeness',\n 'accommodator',\n 'accompanier',\n 'accompaniment',\n 'accompanimental',\n 'accompanist',\n 'accompany',\n 'accompanyist',\n 'accompletive',\n 'accomplice',\n 'accompliceship',\n 'accomplicity',\n 'accomplish',\n 'accomplishable',\n 'accomplished',\n 'accomplisher',\n 'accomplishment',\n 'accomplisht',\n 'accompt',\n 'accord',\n 'accordable',\n 'accordance',\n 'accordancy',\n 'accordant',\n 'accordantly',\n 'accorder',\n 'according',\n 'accordingly',\n 'accordion',\n 'accordionist',\n 'accorporate',\n 'accorporation',\n 'accost',\n 'accostable',\n 'accosted',\n 'accouche',\n 'accouchement',\n 'accoucheur',\n 'accoucheuse',\n 'account',\n 'accountability',\n 'accountable',\n 'accountableness',\n 'accountably',\n 'accountancy',\n 'accountant',\n 'accountantship',\n 'accounting',\n 'accountment',\n 'accouple',\n 'accouplement',\n 'accouter',\n 'accouterment',\n 'accoy',\n 'accredit',\n 'accreditate',\n 'accreditation',\n 'accredited',\n 'accreditment',\n 'accrementitial',\n 'accrementition',\n 'accresce',\n 'accrescence',\n 'accrescent',\n 'accretal',\n 'accrete',\n 'accretion',\n 'accretionary',\n 'accretive',\n 'accroach',\n 'accroides',\n 'accrual',\n 'accrue',\n 'accruement',\n 'accruer',\n 'accubation',\n 'accubitum',\n 'accubitus',\n 'accultural',\n 'acculturate',\n 'acculturation',\n 'acculturize',\n 'accumbency',\n 'accumbent',\n 'accumber',\n 'accumulable',\n 'accumulate',\n 'accumulation',\n 'accumulativ',\n 'accumulative',\n 'accumulatively',\n 'accumulativeness',\n 'accumulator',\n 'accuracy',\n 'accurate',\n 'accurately',\n 'accurateness',\n 'accurse',\n 'accursed',\n 'accursedly',\n 'accursedness',\n 'accusable',\n 'accusably',\n 'accusal',\n 'accusant',\n 'accusation',\n 'accusatival',\n 'accusative',\n 'accusatively',\n 'accusatorial',\n 'accusatorially',\n 'accusatory',\n 'accusatrix',\n 'accuse',\n 'accused',\n 'accuser',\n 'accusingly',\n 'accusive',\n 'accustom',\n 'accustomed',\n 'accustomedly',\n 'accustomedness',\n 'ace',\n 'aceacenaphthene',\n 'aceanthrene',\n 'aceanthrenequinone',\n 'acecaffine',\n 'aceconitic',\n 'acedia',\n 'acediamine',\n 'acediast',\n 'acedy',\n 'acenaphthene',\n 'acenaphthenyl',\n 'acenaphthylene',\n 'acentric',\n 'acentrous',\n 'aceologic',\n 'aceology',\n 'acephal',\n 'acephalan',\n 'acephalia',\n 'acephaline',\n 'acephalism',\n 'acephalist',\n ...]"
          },
          "metadata": {}
        }
      ]
    },
    {
      "metadata": {
        "slideshow": {
          "slide_type": "slide"
        },
        "trusted": true
      },
      "cell_type": "code",
      "source": "from nltk.book import *\nwordlist = [w for w in text1 if w.isalnum()]\nwordlist",
      "execution_count": 8,
      "outputs": [
        {
          "output_type": "stream",
          "text": "*** Introductory Examples for the NLTK Book ***\nLoading text1, ..., text9 and sent1, ..., sent9\nType the name of the text or sentence to view it.\nType: 'texts()' or 'sents()' to list the materials.\ntext1: Moby Dick by Herman Melville 1851\ntext2: Sense and Sensibility by Jane Austen 1811\ntext3: The Book of Genesis\ntext4: Inaugural Address Corpus\ntext5: Chat Corpus\ntext6: Monty Python and the Holy Grail\ntext7: Wall Street Journal\ntext8: Personals Corpus\ntext9: The Man Who Was Thursday by G . K . Chesterton 1908\n",
          "name": "stdout"
        },
        {
          "output_type": "execute_result",
          "execution_count": 8,
          "data": {
            "text/plain": "['Moby',\n 'Dick',\n 'by',\n 'Herman',\n 'Melville',\n '1851',\n 'ETYMOLOGY',\n 'Supplied',\n 'by',\n 'a',\n 'Late',\n 'Consumptive',\n 'Usher',\n 'to',\n 'a',\n 'Grammar',\n 'School',\n 'The',\n 'pale',\n 'Usher',\n 'threadbare',\n 'in',\n 'coat',\n 'heart',\n 'body',\n 'and',\n 'brain',\n 'I',\n 'see',\n 'him',\n 'now',\n 'He',\n 'was',\n 'ever',\n 'dusting',\n 'his',\n 'old',\n 'lexicons',\n 'and',\n 'grammars',\n 'with',\n 'a',\n 'queer',\n 'handkerchief',\n 'mockingly',\n 'embellished',\n 'with',\n 'all',\n 'the',\n 'gay',\n 'flags',\n 'of',\n 'all',\n 'the',\n 'known',\n 'nations',\n 'of',\n 'the',\n 'world',\n 'He',\n 'loved',\n 'to',\n 'dust',\n 'his',\n 'old',\n 'grammars',\n 'it',\n 'somehow',\n 'mildly',\n 'reminded',\n 'him',\n 'of',\n 'his',\n 'mortality',\n 'While',\n 'you',\n 'take',\n 'in',\n 'hand',\n 'to',\n 'school',\n 'others',\n 'and',\n 'to',\n 'teach',\n 'them',\n 'by',\n 'what',\n 'name',\n 'a',\n 'whale',\n 'fish',\n 'is',\n 'to',\n 'be',\n 'called',\n 'in',\n 'our',\n 'tongue',\n 'leaving',\n 'out',\n 'through',\n 'ignorance',\n 'the',\n 'letter',\n 'H',\n 'which',\n 'almost',\n 'alone',\n 'maketh',\n 'the',\n 'signification',\n 'of',\n 'the',\n 'word',\n 'you',\n 'deliver',\n 'that',\n 'which',\n 'is',\n 'not',\n 'true',\n 'HACKLUYT',\n 'WHALE',\n 'Sw',\n 'and',\n 'Dan',\n 'HVAL',\n 'This',\n 'animal',\n 'is',\n 'named',\n 'from',\n 'roundness',\n 'or',\n 'rolling',\n 'for',\n 'in',\n 'Dan',\n 'HVALT',\n 'is',\n 'arched',\n 'or',\n 'vaulted',\n 'WEBSTER',\n 'S',\n 'DICTIONARY',\n 'WHALE',\n 'It',\n 'is',\n 'more',\n 'immediately',\n 'from',\n 'the',\n 'Dut',\n 'and',\n 'Ger',\n 'WALLEN',\n 'A',\n 'S',\n 'WALW',\n 'IAN',\n 'to',\n 'roll',\n 'to',\n 'wallow',\n 'RICHARDSON',\n 'S',\n 'DICTIONARY',\n 'KETOS',\n 'GREEK',\n 'CETUS',\n 'LATIN',\n 'WHOEL',\n 'ANGLO',\n 'SAXON',\n 'HVALT',\n 'DANISH',\n 'WAL',\n 'DUTCH',\n 'HWAL',\n 'SWEDISH',\n 'WHALE',\n 'ICELANDIC',\n 'WHALE',\n 'ENGLISH',\n 'BALEINE',\n 'FRENCH',\n 'BALLENA',\n 'SPANISH',\n 'PEKEE',\n 'NUEE',\n 'NUEE',\n 'FEGEE',\n 'PEKEE',\n 'NUEE',\n 'NUEE',\n 'ERROMANGOAN',\n 'EXTRACTS',\n 'Supplied',\n 'by',\n 'a',\n 'Sub',\n 'Sub',\n 'Librarian',\n 'It',\n 'will',\n 'be',\n 'seen',\n 'that',\n 'this',\n 'mere',\n 'painstaking',\n 'burrower',\n 'and',\n 'grub',\n 'worm',\n 'of',\n 'a',\n 'poor',\n 'devil',\n 'of',\n 'a',\n 'Sub',\n 'Sub',\n 'appears',\n 'to',\n 'have',\n 'gone',\n 'through',\n 'the',\n 'long',\n 'Vaticans',\n 'and',\n 'street',\n 'stalls',\n 'of',\n 'the',\n 'earth',\n 'picking',\n 'up',\n 'whatever',\n 'random',\n 'allusions',\n 'to',\n 'whales',\n 'he',\n 'could',\n 'anyways',\n 'find',\n 'in',\n 'any',\n 'book',\n 'whatsoever',\n 'sacred',\n 'or',\n 'profane',\n 'Therefore',\n 'you',\n 'must',\n 'not',\n 'in',\n 'every',\n 'case',\n 'at',\n 'least',\n 'take',\n 'the',\n 'higgledy',\n 'piggledy',\n 'whale',\n 'statements',\n 'however',\n 'authentic',\n 'in',\n 'these',\n 'extracts',\n 'for',\n 'veritable',\n 'gospel',\n 'cetology',\n 'Far',\n 'from',\n 'it',\n 'As',\n 'touching',\n 'the',\n 'ancient',\n 'authors',\n 'generally',\n 'as',\n 'well',\n 'as',\n 'the',\n 'poets',\n 'here',\n 'appearing',\n 'these',\n 'extracts',\n 'are',\n 'solely',\n 'valuable',\n 'or',\n 'entertaining',\n 'as',\n 'affording',\n 'a',\n 'glancing',\n 'bird',\n 's',\n 'eye',\n 'view',\n 'of',\n 'what',\n 'has',\n 'been',\n 'promiscuously',\n 'said',\n 'thought',\n 'fancied',\n 'and',\n 'sung',\n 'of',\n 'Leviathan',\n 'by',\n 'many',\n 'nations',\n 'and',\n 'generations',\n 'including',\n 'our',\n 'own',\n 'So',\n 'fare',\n 'thee',\n 'well',\n 'poor',\n 'devil',\n 'of',\n 'a',\n 'Sub',\n 'Sub',\n 'whose',\n 'commentator',\n 'I',\n 'am',\n 'Thou',\n 'belongest',\n 'to',\n 'that',\n 'hopeless',\n 'sallow',\n 'tribe',\n 'which',\n 'no',\n 'wine',\n 'of',\n 'this',\n 'world',\n 'will',\n 'ever',\n 'warm',\n 'and',\n 'for',\n 'whom',\n 'even',\n 'Pale',\n 'Sherry',\n 'would',\n 'be',\n 'too',\n 'rosy',\n 'strong',\n 'but',\n 'with',\n 'whom',\n 'one',\n 'sometimes',\n 'loves',\n 'to',\n 'sit',\n 'and',\n 'feel',\n 'poor',\n 'devilish',\n 'too',\n 'and',\n 'grow',\n 'convivial',\n 'upon',\n 'tears',\n 'and',\n 'say',\n 'to',\n 'them',\n 'bluntly',\n 'with',\n 'full',\n 'eyes',\n 'and',\n 'empty',\n 'glasses',\n 'and',\n 'in',\n 'not',\n 'altogether',\n 'unpleasant',\n 'sadness',\n 'Give',\n 'it',\n 'up',\n 'Sub',\n 'Subs',\n 'For',\n 'by',\n 'how',\n 'much',\n 'the',\n 'more',\n 'pains',\n 'ye',\n 'take',\n 'to',\n 'please',\n 'the',\n 'world',\n 'by',\n 'so',\n 'much',\n 'the',\n 'more',\n 'shall',\n 'ye',\n 'for',\n 'ever',\n 'go',\n 'thankless',\n 'Would',\n 'that',\n 'I',\n 'could',\n 'clear',\n 'out',\n 'Hampton',\n 'Court',\n 'and',\n 'the',\n 'Tuileries',\n 'for',\n 'ye',\n 'But',\n 'gulp',\n 'down',\n 'your',\n 'tears',\n 'and',\n 'hie',\n 'aloft',\n 'to',\n 'the',\n 'royal',\n 'mast',\n 'with',\n 'your',\n 'hearts',\n 'for',\n 'your',\n 'friends',\n 'who',\n 'have',\n 'gone',\n 'before',\n 'are',\n 'clearing',\n 'out',\n 'the',\n 'seven',\n 'storied',\n 'heavens',\n 'and',\n 'making',\n 'refugees',\n 'of',\n 'long',\n 'pampered',\n 'Gabriel',\n 'Michael',\n 'and',\n 'Raphael',\n 'against',\n 'your',\n 'coming',\n 'Here',\n 'ye',\n 'strike',\n 'but',\n 'splintered',\n 'hearts',\n 'together',\n 'there',\n 'ye',\n 'shall',\n 'strike',\n 'unsplinterable',\n 'glasses',\n 'EXTRACTS',\n 'And',\n 'God',\n 'created',\n 'great',\n 'whales',\n 'GENESIS',\n 'Leviathan',\n 'maketh',\n 'a',\n 'path',\n 'to',\n 'shine',\n 'after',\n 'him',\n 'One',\n 'would',\n 'think',\n 'the',\n 'deep',\n 'to',\n 'be',\n 'hoary',\n 'JOB',\n 'Now',\n 'the',\n 'Lord',\n 'had',\n 'prepared',\n 'a',\n 'great',\n 'fish',\n 'to',\n 'swallow',\n 'up',\n 'Jonah',\n 'JONAH',\n 'There',\n 'go',\n 'the',\n 'ships',\n 'there',\n 'is',\n 'that',\n 'Leviathan',\n 'whom',\n 'thou',\n 'hast',\n 'made',\n 'to',\n 'play',\n 'therein',\n 'PSALMS',\n 'In',\n 'that',\n 'day',\n 'the',\n 'Lord',\n 'with',\n 'his',\n 'sore',\n 'and',\n 'great',\n 'and',\n 'strong',\n 'sword',\n 'shall',\n 'punish',\n 'Leviathan',\n 'the',\n 'piercing',\n 'serpent',\n 'even',\n 'Leviathan',\n 'that',\n 'crooked',\n 'serpent',\n 'and',\n 'he',\n 'shall',\n 'slay',\n 'the',\n 'dragon',\n 'that',\n 'is',\n 'in',\n 'the',\n 'sea',\n 'ISAIAH',\n 'And',\n 'what',\n 'thing',\n 'soever',\n 'besides',\n 'cometh',\n 'within',\n 'the',\n 'chaos',\n 'of',\n 'this',\n 'monster',\n 's',\n 'mouth',\n 'be',\n 'it',\n 'beast',\n 'boat',\n 'or',\n 'stone',\n 'down',\n 'it',\n 'goes',\n 'all',\n 'incontinently',\n 'that',\n 'foul',\n 'great',\n 'swallow',\n 'of',\n 'his',\n 'and',\n 'perisheth',\n 'in',\n 'the',\n 'bottomless',\n 'gulf',\n 'of',\n 'his',\n 'paunch',\n 'HOLLAND',\n 'S',\n 'PLUTARCH',\n 'S',\n 'MORALS',\n 'The',\n 'Indian',\n 'Sea',\n 'breedeth',\n 'the',\n 'most',\n 'and',\n 'the',\n 'biggest',\n 'fishes',\n 'that',\n 'are',\n 'among',\n 'which',\n 'the',\n 'Whales',\n 'and',\n 'Whirlpooles',\n 'called',\n 'Balaene',\n 'take',\n 'up',\n 'as',\n 'much',\n 'in',\n 'length',\n 'as',\n 'four',\n 'acres',\n 'or',\n 'arpens',\n 'of',\n 'land',\n 'HOLLAND',\n 'S',\n 'PLINY',\n 'Scarcely',\n 'had',\n 'we',\n 'proceeded',\n 'two',\n 'days',\n 'on',\n 'the',\n 'sea',\n 'when',\n 'about',\n 'sunrise',\n 'a',\n 'great',\n 'many',\n 'Whales',\n 'and',\n 'other',\n 'monsters',\n 'of',\n 'the',\n 'sea',\n 'appeared',\n 'Among',\n 'the',\n 'former',\n 'one',\n 'was',\n 'of',\n 'a',\n 'most',\n 'monstrous',\n 'size',\n 'This',\n 'came',\n 'towards',\n 'us',\n 'open',\n 'mouthed',\n 'raising',\n 'the',\n 'waves',\n 'on',\n 'all',\n 'sides',\n 'and',\n 'beating',\n 'the',\n 'sea',\n 'before',\n 'him',\n 'into',\n 'a',\n 'foam',\n 'TOOKE',\n 'S',\n 'LUCIAN',\n 'THE',\n 'TRUE',\n 'HISTORY',\n 'He',\n 'visited',\n 'this',\n 'country',\n 'also',\n 'with',\n 'a',\n 'view',\n 'of',\n 'catching',\n 'horse',\n 'whales',\n 'which',\n 'had',\n 'bones',\n 'of',\n 'very',\n 'great',\n 'value',\n 'for',\n 'their',\n 'teeth',\n 'of',\n 'which',\n 'he',\n 'brought',\n 'some',\n 'to',\n 'the',\n 'king',\n 'The',\n 'best',\n 'whales',\n 'were',\n 'catched',\n 'in',\n 'his',\n 'own',\n 'country',\n 'of',\n 'which',\n 'some',\n 'were',\n 'forty',\n 'eight',\n 'some',\n 'fifty',\n 'yards',\n 'long',\n 'He',\n 'said',\n 'that',\n 'he',\n 'was',\n 'one',\n 'of',\n 'six',\n 'who',\n 'had',\n 'killed',\n 'sixty',\n 'in',\n 'two',\n 'days',\n 'OTHER',\n 'OR',\n 'OCTHER',\n 'S',\n 'VERBAL',\n 'NARRATIVE',\n 'TAKEN',\n 'DOWN',\n 'FROM',\n 'HIS',\n 'MOUTH',\n 'BY',\n 'KING',\n 'ALFRED',\n 'A',\n 'D',\n '890',\n 'And',\n 'whereas',\n 'all',\n 'the',\n 'other',\n 'things',\n 'whether',\n 'beast',\n 'or',\n 'vessel',\n 'that',\n 'enter',\n 'into',\n 'the',\n 'dreadful',\n 'gulf',\n 'of',\n 'this',\n 'monster',\n 's',\n 'whale',\n 's',\n 'mouth',\n 'are',\n 'immediately',\n 'lost',\n 'and',\n 'swallowed',\n 'up',\n 'the',\n 'sea',\n 'gudgeon',\n 'retires',\n 'into',\n 'it',\n 'in',\n 'great',\n 'security',\n 'and',\n 'there',\n 'sleeps',\n 'MONTAIGNE',\n 'APOLOGY',\n 'FOR',\n 'RAIMOND',\n 'SEBOND',\n 'Let',\n 'us',\n 'fly',\n 'let',\n 'us',\n 'fly',\n 'Old',\n 'Nick',\n 'take',\n 'me',\n 'if',\n 'is',\n 'not',\n 'Leviathan',\n 'described',\n 'by',\n 'the',\n 'noble',\n 'prophet',\n 'Moses',\n 'in',\n 'the',\n 'life',\n 'of',\n 'patient',\n 'Job',\n 'RABELAIS',\n 'This',\n 'whale',\n 's',\n 'liver',\n 'was',\n 'two',\n 'cartloads',\n 'STOWE',\n 'S',\n 'ANNALS',\n 'The',\n 'great',\n 'Leviathan',\n 'that',\n 'maketh',\n 'the',\n 'seas',\n 'to',\n 'seethe',\n 'like',\n 'boiling',\n 'pan',\n 'LORD',\n 'BACON',\n 'S',\n 'VERSION',\n 'OF',\n 'THE',\n 'PSALMS',\n 'Touching',\n 'that',\n 'monstrous',\n 'bulk',\n 'of',\n 'the',\n 'whale',\n 'or',\n 'ork',\n 'we',\n 'have',\n 'received',\n 'nothing',\n 'certain',\n 'They',\n 'grow',\n 'exceeding',\n 'fat',\n 'insomuch',\n 'that',\n 'an',\n 'incredible',\n 'quantity',\n 'of',\n 'oil',\n 'will',\n 'be',\n 'extracted',\n 'out',\n 'of',\n 'one',\n 'whale',\n 'IBID',\n 'HISTORY',\n 'OF',\n 'LIFE',\n 'AND',\n 'DEATH',\n 'The',\n 'sovereignest',\n 'thing',\n 'on',\n 'earth',\n 'is',\n 'parmacetti',\n 'for',\n 'an',\n 'inward',\n 'bruise',\n 'KING',\n 'HENRY',\n 'Very',\n 'like',\n 'a',\n 'whale',\n 'HAMLET',\n 'Which',\n 'to',\n 'secure',\n 'no',\n 'skill',\n 'of',\n 'leach',\n 's',\n 'art',\n 'Mote',\n 'him',\n 'availle',\n 'but',\n 'to',\n 'returne',\n 'againe',\n 'To',\n 'his',\n 'wound',\n 's',\n 'worker',\n 'that',\n 'with',\n 'lowly',\n 'dart',\n 'Dinting',\n ...]"
          },
          "metadata": {}
        }
      ]
    },
    {
      "metadata": {
        "slideshow": {
          "slide_type": "slide"
        }
      },
      "cell_type": "markdown",
      "source": "## Regex Basic Patterns"
    },
    {
      "metadata": {
        "slideshow": {
          "slide_type": "fragment"
        }
      },
      "cell_type": "markdown",
      "source": "Finding all words in some text that have the letter `a` in the word:"
    },
    {
      "metadata": {
        "slideshow": {
          "slide_type": "fragment"
        },
        "trusted": true
      },
      "cell_type": "code",
      "source": "[w for w in wordlist if re.search('a', w)]",
      "execution_count": 9,
      "outputs": [
        {
          "output_type": "execute_result",
          "execution_count": 9,
          "data": {
            "text/plain": "['Herman',\n 'a',\n 'Late',\n 'a',\n 'Grammar',\n 'pale',\n 'threadbare',\n 'coat',\n 'heart',\n 'and',\n 'brain',\n 'was',\n 'and',\n 'grammars',\n 'a',\n 'handkerchief',\n 'all',\n 'gay',\n 'flags',\n 'all',\n 'nations',\n 'grammars',\n 'mortality',\n 'take',\n 'hand',\n 'and',\n 'teach',\n 'what',\n 'name',\n 'a',\n 'whale',\n 'called',\n 'leaving',\n 'ignorance',\n 'almost',\n 'alone',\n 'maketh',\n 'signification',\n 'that',\n 'and',\n 'Dan',\n 'animal',\n 'named',\n 'Dan',\n 'arched',\n 'vaulted',\n 'immediately',\n 'and',\n 'wallow',\n 'a',\n 'Librarian',\n 'that',\n 'painstaking',\n 'and',\n 'a',\n 'a',\n 'appears',\n 'have',\n 'Vaticans',\n 'and',\n 'stalls',\n 'earth',\n 'whatever',\n 'random',\n 'allusions',\n 'whales',\n 'anyways',\n 'any',\n 'whatsoever',\n 'sacred',\n 'profane',\n 'case',\n 'at',\n 'least',\n 'take',\n 'whale',\n 'statements',\n 'authentic',\n 'extracts',\n 'veritable',\n 'Far',\n 'ancient',\n 'authors',\n 'generally',\n 'as',\n 'as',\n 'appearing',\n 'extracts',\n 'are',\n 'valuable',\n 'entertaining',\n 'as',\n 'affording',\n 'a',\n 'glancing',\n 'what',\n 'has',\n 'said',\n 'fancied',\n 'and',\n 'Leviathan',\n 'many',\n 'nations',\n 'and',\n 'generations',\n 'fare',\n 'a',\n 'commentator',\n 'am',\n 'that',\n 'sallow',\n 'warm',\n 'and',\n 'Pale',\n 'and',\n 'and',\n 'convivial',\n 'tears',\n 'and',\n 'say',\n 'and',\n 'glasses',\n 'and',\n 'altogether',\n 'unpleasant',\n 'sadness',\n 'pains',\n 'take',\n 'please',\n 'shall',\n 'thankless',\n 'that',\n 'clear',\n 'Hampton',\n 'and',\n 'tears',\n 'and',\n 'aloft',\n 'royal',\n 'mast',\n 'hearts',\n 'have',\n 'are',\n 'clearing',\n 'heavens',\n 'and',\n 'making',\n 'pampered',\n 'Gabriel',\n 'Michael',\n 'and',\n 'Raphael',\n 'against',\n 'hearts',\n 'shall',\n 'unsplinterable',\n 'glasses',\n 'created',\n 'great',\n 'whales',\n 'Leviathan',\n 'maketh',\n 'a',\n 'path',\n 'after',\n 'hoary',\n 'had',\n 'prepared',\n 'a',\n 'great',\n 'swallow',\n 'Jonah',\n 'that',\n 'Leviathan',\n 'hast',\n 'made',\n 'play',\n 'that',\n 'day',\n 'and',\n 'great',\n 'and',\n 'shall',\n 'Leviathan',\n 'Leviathan',\n 'that',\n 'and',\n 'shall',\n 'slay',\n 'dragon',\n 'that',\n 'sea',\n 'what',\n 'chaos',\n 'beast',\n 'boat',\n 'all',\n 'that',\n 'great',\n 'swallow',\n 'and',\n 'paunch',\n 'Indian',\n 'Sea',\n 'and',\n 'that',\n 'are',\n 'among',\n 'Whales',\n 'and',\n 'called',\n 'Balaene',\n 'take',\n 'as',\n 'as',\n 'acres',\n 'arpens',\n 'land',\n 'Scarcely',\n 'had',\n 'days',\n 'sea',\n 'about',\n 'a',\n 'great',\n 'many',\n 'Whales',\n 'and',\n 'sea',\n 'appeared',\n 'was',\n 'a',\n 'came',\n 'towards',\n 'raising',\n 'waves',\n 'all',\n 'and',\n 'beating',\n 'sea',\n 'a',\n 'foam',\n 'also',\n 'a',\n 'catching',\n 'whales',\n 'had',\n 'great',\n 'value',\n 'whales',\n 'catched',\n 'yards',\n 'said',\n 'that',\n 'was',\n 'had',\n 'days',\n 'whereas',\n 'all',\n 'beast',\n 'that',\n 'dreadful',\n 'whale',\n 'are',\n 'immediately',\n 'and',\n 'swallowed',\n 'sea',\n 'great',\n 'and',\n 'take',\n 'Leviathan',\n 'patient',\n 'whale',\n 'was',\n 'cartloads',\n 'great',\n 'Leviathan',\n 'that',\n 'maketh',\n 'seas',\n 'pan',\n 'that',\n 'whale',\n 'have',\n 'certain',\n 'fat',\n 'that',\n 'an',\n 'quantity',\n 'extracted',\n 'whale',\n 'earth',\n 'parmacetti',\n 'an',\n 'inward',\n 'a',\n 'whale',\n 'leach',\n 'art',\n 'availle',\n 'againe',\n 'that',\n 'dart',\n 'breast',\n 'had',\n 'paine',\n 'as',\n 'whale',\n 'maine',\n 'as',\n 'whales',\n 'vast',\n 'can',\n 'a',\n 'peaceful',\n 'calm',\n 'ocean',\n 'What',\n 'spermacetti',\n 'learned',\n 'Hosmannus',\n 'years',\n 'saith',\n 'plainly',\n 'Talus',\n 'flail',\n 'threatens',\n 'tail',\n 'jav',\n 'wears',\n 'back',\n 'a',\n 'appears',\n 'art',\n 'created',\n 'that',\n 'great',\n 'Leviathan',\n 'called',\n 'a',\n 'Commonwealth',\n 'State',\n 'Latin',\n 'Civitas',\n 'an',\n 'artificial',\n 'man',\n 'Mansoul',\n 'swallowed',\n 'as',\n 'had',\n 'a',\n 'sprat',\n 'a',\n 'whale',\n 'That',\n 'sea',\n 'beast',\n 'Leviathan',\n 'all',\n 'Created',\n 'that',\n 'ocean',\n 'stream',\n 'Leviathan',\n 'creatures',\n 'a',\n 'a',\n 'land',\n 'and',\n 'at',\n 'Draws',\n 'and',\n 'at',\n 'breath',\n 'a',\n 'sea',\n 'whales',\n 'a',\n 'sea',\n 'water',\n 'and',\n 'have',\n 'a',\n 'sea',\n 'Leviathan',\n 'attend',\n 'chance',\n 'swallow',\n 'gaping',\n 'jaws',\n 'mistake',\n 'way',\n 'whale',\n 'floating',\n 'at',\n 'head',\n 'and',\n 'a',\n 'boat',\n 'as',\n 'near',\n 'as',\n 'aground',\n 'water',\n 'way',\n 'saw',\n 'many',\n 'whales',\n 'ocean',\n 'and',\n 'wantonness',\n 'water',\n 'and',\n 'nature',\n 'has',\n 'placed',\n 'saw',\n 'whales',\n 'that',\n 'a',\n 'great',\n 'deal',\n 'caution',\n 'fear',\n 'sail',\n 'called',\n 'Jonas',\n 'Whale',\n 'say',\n 'whale',\n 'can',\n 'that',\n 'a',\n 'fable',\n 'masts',\n 'can',\n 'a',\n 'whale',\n 'has',\n 'a',\n 'ducat',\n 'pains',\n 'was',\n 'a',\n 'whale',\n 'taken',\n 'near',\n 'Shetland',\n 'that',\n 'had',\n 'above',\n 'a',\n 'barrel',\n 'harpooneers',\n 'that',\n 'caught',\n 'a',\n 'whale',\n 'that',\n 'was',\n 'all',\n 'Several',\n 'whales',\n 'have',\n 'coast',\n 'whale',\n 'came',\n 'as',\n 'was',\n 'a',\n 'vast',\n 'quantity',\n 'afford',\n 'baleen',\n 'jaws',\n 'stand',\n 'a',\n 'gate',\n 'garden',\n 'have',\n 'agreed',\n 'can',\n 'master',\n 'and',\n 'Sperma',\n 'whale',\n 'hear',\n 'any',\n 'that',\n 'that',\n 'was',\n 'any',\n 'man',\n 'and',\n 'Whales',\n 'sea',\n 'saw',\n 'also',\n 'abundance',\n 'large',\n 'whales',\n 'seas',\n 'as',\n 'may',\n 'say',\n 'a',\n 'than',\n 'have',\n 'northward',\n 'and',\n 'breath',\n 'whale',\n 'attended',\n 'an',\n 'insupportable',\n 'as',\n 'a',\n 'brain',\n 'special',\n 'important',\n 'charge',\n 'petticoat',\n 'have',\n 'that',\n 'fail',\n 'and',\n 'armed',\n 'whale',\n 'compare',\n 'land',\n 'animals',\n 'magnitude',\n 'that',\n 'take',\n 'abode',\n 'shall',\n 'appear',\n 'comparison',\n 'whale',\n 'largest',\n 'animal',\n 'creation',\n 'a',\n 'fable',\n 'make',\n 'speak',\n 'great',\n 'wales',\n 'afternoon',\n 'saw',\n 'what',\n 'was',\n 'a',\n 'was',\n 'a',\n 'dead',\n 'whale',\n 'Asiatics',\n 'had',\n 'and',\n 'ashore',\n 'endeavor',\n 'conceal',\n 'whale',\n 'avoid',\n 'larger',\n 'whales',\n 'attack',\n 'stand',\n 'great',\n 'dread',\n 'that',\n 'at',\n 'sea',\n 'are',\n 'afraid',\n 'names',\n 'and',\n 'carry',\n 'and',\n 'articles',\n 'same',\n 'nature',\n 'boats',\n 'and',\n 'near',\n 'approach',\n 'Spermacetti',\n 'Whale',\n 'Nantuckois',\n 'an',\n 'active',\n 'animal',\n 'and',\n 'vast',\n 'address',\n 'and',\n 'pray',\n 'what',\n 'equal',\n 'Spain',\n 'a',\n 'great',\n 'whale',\n 'stranded',\n 'branch',\n 'ordinary',\n 'said',\n 'consideration',\n 'guarding',\n 'and',\n 'seas',\n 'pirates',\n 'and',\n 'royal',\n 'are',\n 'whale',\n 'and',\n 'ashore',\n 'caught',\n 'near',\n 'coast',\n 'are',\n 'death',\n 'repair',\n 'head',\n 'barbed',\n 'and',\n 'attends',\n 'hang',\n 'momentary',\n 'vault',\n 'heaven',\n 'water',\n 'compare',\n 'ocean',\n 'a',\n 'whale',\n 'air',\n 'gallons',\n 'are',\n 'heart',\n 'at',\n 'a',\n 'aorta',\n 'a',\n 'whale',\n 'larger',\n 'than',\n 'main',\n 'water',\n 'at',\n 'and',\n 'water',\n 'roaring',\n 'passage',\n 'that',\n 'and',\n 'whale',\n 'heart',\n 'whale',\n 'a',\n 'mammiferous',\n 'animal',\n 'saw',\n 'Spermacetti',\n 'Whales',\n 'take',\n 'any',\n 'May',\n 'sea',\n 'beneath',\n 'swam',\n 'and',\n 'play',\n 'chace',\n 'battle',\n 'and',\n 'language',\n 'cannot',\n 'paint',\n 'and',\n 'mariner',\n 'Had',\n 'dread',\n 'Leviathan',\n 'wave',\n 'Gather',\n 'shoals',\n 'floating',\n 'islands',\n 'that',\n 'waste',\n 'trackless',\n 'Assaulted',\n 'voracious',\n 'Whales',\n 'sharks',\n 'and',\n 'arm',\n 'jaw',\n 'saws',\n 'spiral',\n 'fangs',\n 'Paean',\n 'a',\n 'whale',\n 'than',\n 'vast',\n 'Atlantic',\n 'a',\n 'fatter',\n 'than',\n 'Polar',\n 'Sea',\n 'year',\n 'a',\n 'whales',\n 'and',\n 'each',\n 'sea',\n 'a',\n 'pasture',\n 'grand',\n 'bread',\n 'a',\n 'cottage',\n 'Susan',\n 'and',\n 'and',\n 'made',\n 'a',\n 'gateway',\n 'a',\n 'a',\n 'whale',\n 'jaw',\n 'came',\n 'bespeak',\n 'a',\n 'had',\n 'a',\n 'whale',\n 'Pacific',\n 'ocean',\n 'than',\n 'years',\n 'ago',\n 'a',\n 'Whale',\n 'answered',\n 'saw',\n 'a',\n 'pair',\n 'as',\n 'rainbows',\n 'as',\n 'a',\n 'Christian',\n 'at',\n 'a',\n 'raal',\n 'that',\n 'papers',\n 'and',\n 'saw',\n 'Gazette',\n 'that',\n 'whales',\n 'had',\n 'stage',\n 'Chace',\n 'what',\n 'matter',\n 'answered',\n 'have',\n 'a',\n 'whale',\n 'mariner',\n 'sat',\n 'was',\n 'was',\n 'pale',\n 'gleamed',\n 'wake',\n 'whale',\n 'sea',\n 'quantity',\n 'withdrawn',\n 'boats',\n 'engaged',\n 'capture',\n 'whale',\n 'amounted',\n 'altogether',\n 'yards',\n 'nearly',\n 'whale',\n 'shakes',\n 'tail',\n 'air',\n 'cracking',\n 'a',\n 'distance',\n 'Mad',\n 'agonies',\n 'attacks',\n 'infuriated',\n 'Whale',\n 'and',\n 'rears',\n 'head',\n 'and',\n 'expanded',\n 'jaws',\n 'snaps',\n 'at',\n 'around',\n 'at',\n 'boats',\n 'head',\n 'are',\n 'vast',\n 'and',\n 'a',\n 'matter',\n 'great',\n 'astonishment',\n 'that',\n 'consideration',\n 'habits',\n 'and',\n 'a',\n 'commercial',\n 'important',\n 'an',\n 'animal',\n 'as',\n 'Whale',\n 'have',\n 'have',\n 'among',\n 'and',\n 'many',\n 'that',\n 'late',\n 'years',\n 'have',\n 'abundant',\n 'and',\n 'habitudes',\n 'Cachalot',\n 'Whale',\n 'armed',\n 'than',\n 'Whale',\n 'Greenland',\n 'Whale',\n 'a',\n 'formidable',\n 'weapon',\n 'at',\n 'also',\n 'displays',\n 'a',\n 'weapons',\n 'and',\n 'manner',\n 'at',\n 'artful',\n 'and',\n 'as',\n 'lead',\n 'regarded',\n 'as',\n 'dangerous',\n 'attack',\n 'all',\n 'whale',\n 'was',\n 'mast',\n 'head',\n 'away',\n 'demanded',\n 'captain',\n 'Raise',\n 'Steady',\n 'Steady',\n 'Mast',\n 'head',\n 'ahoy',\n 'that',\n 'whale',\n 'ay',\n 'shoal',\n 'Whales',\n 'breaches',\n 'far',\n 'and',\n 'a',\n 'half',\n 'and',\n 'near',\n 'Call',\n 'all',\n 'hands',\n 'Whale',\n 'board',\n 'transactions',\n 'are',\n 'about',\n 'relate',\n 'island',\n 'Nantucket',\n 'a',\n 'whale',\n 'had',\n 'parried',\n 'assault',\n 'a',\n 'lance',\n 'at',\n 'boat',\n 'and',\n 'comrades',\n 'leaping',\n 'water',\n 'saw',\n 'was',\n 'inevitable',\n 'Nantucket',\n 'said',\n 'a',\n 'and',\n 'peculiar',\n 'National',\n 'a',\n 'population',\n 'thousand',\n 'sea',\n 'adding',\n 'largely',\n 'year',\n 'National',\n 'wealth',\n 'and',\n 'whale',\n 'and',\n 'probably',\n 'a',\n 'make',\n 'least',\n 'damn',\n 'Samuel',\n 'voyages',\n 'and',\n 'Ocean',\n 'a',\n 'passage',\n 'India',\n 'failed',\n 'main',\n 'laid',\n 'haunts',\n 'whale',\n 'are',\n 'reciprocal',\n 'ball',\n 'forward',\n 'again',\n 'laying',\n 'haunts',\n 'whale',\n 'whalemen',\n 'have',\n 'that',\n 'same',\n 'Passage',\n 'a',\n 'whale',\n 'ocean',\n 'near',\n 'appearance',\n 'sail',\n 'at',\n 'mast',\n 'heads',\n 'eagerly',\n 'scanning',\n 'expanse',\n 'around',\n 'has',\n 'a',\n 'totally',\n 'air',\n 'engaged',\n 'regular',\n 'voyage',\n ...]"
          },
          "metadata": {}
        }
      ]
    },
    {
      "metadata": {
        "slideshow": {
          "slide_type": "slide"
        }
      },
      "cell_type": "markdown",
      "source": "Finding all words that have `chuck` in them:"
    },
    {
      "metadata": {
        "slideshow": {
          "slide_type": "fragment"
        },
        "trusted": true
      },
      "cell_type": "code",
      "source": "[w for w in wordlist if re.search('chuck', w)]",
      "execution_count": 10,
      "outputs": [
        {
          "output_type": "execute_result",
          "execution_count": 10,
          "data": {
            "text/plain": "['chuckled', 'chuckle', 'chucks']"
          },
          "metadata": {}
        }
      ]
    },
    {
      "metadata": {
        "slideshow": {
          "slide_type": "slide"
        }
      },
      "cell_type": "markdown",
      "source": "Regular expressions are case sensitive."
    },
    {
      "metadata": {
        "slideshow": {
          "slide_type": "slide"
        }
      },
      "cell_type": "markdown",
      "source": "## Regex: Ranges and Disjunction\n\n\n| Symbol | Meaning | \n| --- | --- |\n| [A-Z] | an uppercase character |\n| [a-z] | a lowercase character |\n| [0-9] | a digit |\n\n\nDisjunction: when enclosed inside square brackets [ ] without the range symbol (-), a disjunction (or) is represented. \n\n| Symbol | Meaning | \n| --- | --- |\n| [abc]         |  ‘a’, ‘b’, or ‘c’ character |\n| [wW]oodchuck  |  Woodchuck or woodchuck |\n| [A-Z0-9]      |  Uppercase character or digit | "
    },
    {
      "metadata": {
        "slideshow": {
          "slide_type": "slide"
        }
      },
      "cell_type": "markdown",
      "source": "Searching for words that begin with `woodchuck` or `Woodchuck`"
    },
    {
      "metadata": {
        "slideshow": {
          "slide_type": "fragment"
        },
        "trusted": true
      },
      "cell_type": "code",
      "source": "[w for w in wordlist if re.search('[Ww]oodchuck', w)]",
      "execution_count": 11,
      "outputs": [
        {
          "output_type": "execute_result",
          "execution_count": 11,
          "data": {
            "text/plain": "[]"
          },
          "metadata": {}
        }
      ]
    },
    {
      "metadata": {
        "slideshow": {
          "slide_type": "slide"
        }
      },
      "cell_type": "markdown",
      "source": "Finding all words that have a digit in them"
    },
    {
      "metadata": {
        "slideshow": {
          "slide_type": "fragment"
        },
        "trusted": true
      },
      "cell_type": "code",
      "source": "[w for w in wordlist if re.search('[1234567890]', w)]",
      "execution_count": 12,
      "outputs": [
        {
          "output_type": "execute_result",
          "execution_count": 12,
          "data": {
            "text/plain": "['1851',\n '890',\n '1671',\n '1652',\n '500',\n '1668',\n '1729',\n '1772',\n '1778',\n '40',\n '1690',\n '1821',\n '10',\n '440',\n '1839',\n '1840',\n '13',\n '1846',\n '1828',\n '1828',\n '1',\n '2',\n '3',\n '4',\n '21st',\n '5',\n '6',\n '7',\n '1st',\n '1836',\n '31st',\n '1839',\n '3d',\n '1833',\n '8',\n '9',\n '10',\n '11',\n '12',\n '13',\n '14',\n '15',\n '16',\n '275th',\n '275th',\n '275th',\n '275th',\n '200th',\n '17',\n '18',\n '19',\n '20',\n '21',\n '22',\n '23',\n '24',\n '1750',\n '1788',\n 'L1',\n '000',\n '000',\n '4',\n '000',\n '000',\n '20',\n '000',\n '000',\n '7',\n '000',\n '000',\n '25',\n '26',\n '27',\n '28',\n '29',\n '30',\n '31',\n '32',\n '1820',\n '1839',\n '1776',\n '1850',\n '1',\n '33',\n '34',\n '35',\n '36',\n '37',\n '38',\n '39',\n '40',\n '1ST',\n '2ND',\n '3D',\n '4TH',\n '5TH',\n '41',\n '42',\n '43',\n '44',\n '16th',\n '1851',\n '45',\n '1820',\n '45',\n '1807',\n '46',\n '47',\n '48',\n '49',\n '50',\n '51',\n '52',\n '53',\n '54',\n '55',\n '15th',\n '1671',\n '1793',\n '1807',\n '1825',\n '1836',\n '56',\n '57',\n '58',\n '59',\n '60',\n '61',\n '62',\n '63',\n '64',\n '65',\n '66',\n '67',\n '68',\n '69',\n '70',\n '71',\n '72',\n '73',\n '74',\n '75',\n '500',\n '76',\n '77',\n '78',\n '79',\n '80',\n '81',\n '2000',\n '82',\n '83',\n '84',\n '85',\n '1851',\n '86',\n '87',\n '88',\n '89',\n '1695',\n 'L100',\n '000',\n 'L100',\n '000',\n '1492',\n '90',\n '3',\n '3',\n 'L150',\n '91',\n '92',\n '1791',\n '93',\n '94',\n '95',\n '15th',\n '96',\n '97',\n '98',\n '99',\n '100',\n '101',\n '1775',\n '1775',\n '1726',\n '1778',\n '1819',\n '180',\n '400',\n '000',\n '60',\n '000',\n '150',\n '000',\n '550',\n '000',\n '72',\n '000',\n '2',\n '800',\n '20',\n '000',\n '144',\n '000',\n '550',\n '10',\n '800',\n '10',\n '800',\n '30',\n '180',\n '5',\n '400',\n '550',\n '102',\n '103',\n '104',\n '1779',\n '1842',\n '25',\n '000',\n '105',\n '3',\n '1825',\n '13',\n '000',\n '4',\n '000',\n '106',\n '107',\n '108',\n '109',\n '110',\n '111',\n '112',\n '113',\n '114',\n '115',\n '116',\n '117',\n '118',\n '119',\n '120',\n '121',\n '122',\n '123',\n '124',\n '125',\n '126',\n '127',\n '128',\n '129',\n '130',\n '131',\n '132',\n '133',\n '134',\n '135']"
          },
          "metadata": {}
        }
      ]
    },
    {
      "metadata": {
        "slideshow": {
          "slide_type": "fragment"
        },
        "trusted": false
      },
      "cell_type": "code",
      "source": "[w for w in wordlist if re.search('[0-9]', w)]",
      "execution_count": null,
      "outputs": []
    },
    {
      "metadata": {
        "slideshow": {
          "slide_type": "slide"
        }
      },
      "cell_type": "markdown",
      "source": "Also possible:"
    },
    {
      "metadata": {
        "slideshow": {
          "slide_type": "fragment"
        },
        "trusted": true
      },
      "cell_type": "code",
      "source": "[w for w in wordlist if re.search('[2-5]', w)]",
      "execution_count": 13,
      "outputs": [
        {
          "output_type": "execute_result",
          "execution_count": 13,
          "data": {
            "text/plain": "['1851',\n '1652',\n '500',\n '1729',\n '1772',\n '40',\n '1821',\n '440',\n '1839',\n '1840',\n '13',\n '1846',\n '1828',\n '1828',\n '2',\n '3',\n '4',\n '21st',\n '5',\n '1836',\n '31st',\n '1839',\n '3d',\n '1833',\n '12',\n '13',\n '14',\n '15',\n '275th',\n '275th',\n '275th',\n '275th',\n '200th',\n '20',\n '21',\n '22',\n '23',\n '24',\n '1750',\n '4',\n '20',\n '25',\n '26',\n '27',\n '28',\n '29',\n '30',\n '31',\n '32',\n '1820',\n '1839',\n '1850',\n '33',\n '34',\n '35',\n '36',\n '37',\n '38',\n '39',\n '40',\n '2ND',\n '3D',\n '4TH',\n '5TH',\n '41',\n '42',\n '43',\n '44',\n '1851',\n '45',\n '1820',\n '45',\n '46',\n '47',\n '48',\n '49',\n '50',\n '51',\n '52',\n '53',\n '54',\n '55',\n '15th',\n '1793',\n '1825',\n '1836',\n '56',\n '57',\n '58',\n '59',\n '62',\n '63',\n '64',\n '65',\n '72',\n '73',\n '74',\n '75',\n '500',\n '2000',\n '82',\n '83',\n '84',\n '85',\n '1851',\n '1695',\n '1492',\n '3',\n '3',\n 'L150',\n '92',\n '93',\n '94',\n '95',\n '15th',\n '1775',\n '1775',\n '1726',\n '400',\n '150',\n '550',\n '72',\n '2',\n '20',\n '144',\n '550',\n '30',\n '5',\n '400',\n '550',\n '102',\n '103',\n '104',\n '1842',\n '25',\n '105',\n '3',\n '1825',\n '13',\n '4',\n '112',\n '113',\n '114',\n '115',\n '120',\n '121',\n '122',\n '123',\n '124',\n '125',\n '126',\n '127',\n '128',\n '129',\n '130',\n '131',\n '132',\n '133',\n '134',\n '135']"
          },
          "metadata": {}
        }
      ]
    },
    {
      "metadata": {
        "slideshow": {
          "slide_type": "slide"
        }
      },
      "cell_type": "markdown",
      "source": "## Regex Basic Operators\n\n| Symbol | Meaning |\n| --- | --- |\n| .   | matches any single character |\n| ˆ   | matches start of a string |\n| $   | matches end of a string |"
    },
    {
      "metadata": {
        "slideshow": {
          "slide_type": "slide"
        }
      },
      "cell_type": "markdown",
      "source": "Finding all words in some text that end in `ed`"
    },
    {
      "metadata": {
        "slideshow": {
          "slide_type": "fragment"
        },
        "trusted": true
      },
      "cell_type": "code",
      "source": "[w for w in wordlist if re.search('ed$', w)]",
      "execution_count": 14,
      "outputs": [
        {
          "output_type": "execute_result",
          "execution_count": 14,
          "data": {
            "text/plain": "['Supplied',\n 'embellished',\n 'loved',\n 'reminded',\n 'called',\n 'named',\n 'arched',\n 'vaulted',\n 'Supplied',\n 'sacred',\n 'fancied',\n 'storied',\n 'pampered',\n 'splintered',\n 'created',\n 'prepared',\n 'crooked',\n 'called',\n 'proceeded',\n 'appeared',\n 'mouthed',\n 'visited',\n 'catched',\n 'killed',\n 'swallowed',\n 'described',\n 'received',\n 'extracted',\n 'bred',\n 'wounded',\n 'learned',\n 'fixed',\n 'created',\n 'called',\n 'swallowed',\n 'Created',\n 'Stretched',\n 'placed',\n 'forced',\n 'proceed',\n 'called',\n 'informed',\n 'agreed',\n 'killed',\n 'hundred',\n 'attended',\n 'stuffed',\n 'armed',\n 'supposed',\n 'killed',\n 'seemed',\n 'stranded',\n 'grounded',\n 'barbed',\n 'spouted',\n 'covered',\n 'Floundered',\n 'dived',\n 'Led',\n 'Assaulted',\n 'hooked',\n 'observed',\n 'killed',\n 'answered',\n 'introduced',\n 'answered',\n 'dimmed',\n 'gleamed',\n 'floundered',\n 'engaged',\n 'amounted',\n 'infuriated',\n 'expanded',\n 'propelled',\n 'destroyed',\n 'neglected',\n 'excited',\n 'possessed',\n 'armed',\n 'regarded',\n 'demanded',\n 'occurred',\n 'belonged',\n 'pursued',\n 'wounded',\n 'parried',\n 'rushed',\n 'preserved',\n 'killed',\n 'replied',\n 'failed',\n 'engaged',\n 'curved',\n 'returned',\n 'enrolled',\n 'departed',\n 'emerged',\n 'harpooned',\n 'tied',\n 'extended',\n 'exclaimed',\n 'distended',\n 'belted',\n 'washed',\n 'cooled',\n 'Posted',\n 'fixed',\n 'seated',\n 'tied',\n 'nailed',\n 'clinched',\n 'minded',\n 'plunged',\n 'supplied',\n 'wedded',\n 'bathed',\n 'tranced',\n 'fixed',\n 'needed',\n 'plunged',\n 'drowned',\n 'inferred',\n 'fancied',\n 'broiled',\n 'buttered',\n 'salted',\n 'peppered',\n 'broiled',\n 'broiled',\n 'roasted',\n 'established',\n 'weighed',\n 'served',\n 'passed',\n 'entailed',\n 'monied',\n 'formed',\n 'presented',\n 'induced',\n 'unbiased',\n 'roused',\n 'rolled',\n 'helped',\n 'tormented',\n 'swayed',\n 'floated',\n 'hooded',\n 'stuffed',\n 'tucked',\n 'started',\n 'arrived',\n 'disappointed',\n 'sailed',\n 'related',\n 'connected',\n 'pleased',\n 'stranded',\n 'Red',\n 'imported',\n 'destined',\n 'sounded',\n 'paced',\n 'passed',\n 'Crossed',\n 'looked',\n 'red',\n 'seemed',\n 'melted',\n 'packed',\n 'congealed',\n 'patched',\n 'followed',\n 'proved',\n 'deserted',\n 'choked',\n 'destroyed',\n 'Crossed',\n 'picked',\n 'pushed',\n 'opened',\n 'seemed',\n 'hundred',\n 'turned',\n 'muttered',\n 'Wretched',\n 'looked',\n 'looked',\n 'dilapidated',\n 'looked',\n 'carted',\n 'ended',\n 'palsied',\n 'tossed',\n 'bed',\n 'called',\n 'occurred',\n 'finished',\n 'carted',\n 'red',\n 'stranded',\n 'moored',\n 'frosted',\n 'ended',\n 'fashioned',\n 'condemned',\n 'besmoked',\n 'defaced',\n 'viewed',\n 'endeavored',\n 'bewitched',\n 'repeated',\n 'unwarranted',\n 'puzzled',\n 'confounded',\n 'distracted',\n 'attained',\n 'blasted',\n 'yielded',\n 'seemed',\n 'based',\n 'aggregated',\n 'aged',\n 'conversed',\n 'foundered',\n 'dismantled',\n 'exasperated',\n 'tufted',\n 'shaped',\n 'armed',\n 'shuddered',\n 'gazed',\n 'wondered',\n 'Mixed',\n 'deformed',\n 'storied',\n 'elbowed',\n 'entered',\n 'travelled',\n 'imbedded',\n 'arched',\n 'wrinkled',\n 'anchored',\n 'rocked',\n 'covered',\n 'cracked',\n 'filled',\n 'gathered',\n 'arched',\n 'ranged',\n 'cursed',\n 'indeed',\n 'called',\n 'withered',\n 'tapered',\n 'pecked',\n 'gathered',\n 'desired',\n 'accommodated',\n 'received',\n 'bed',\n 'unoccupied',\n 'added',\n 'used',\n 'liked',\n 'bed',\n 'carved',\n 'summoned',\n 'addressed',\n 'whispered',\n 'complexioned',\n 'complexioned',\n 'turned',\n 'bed',\n 'resolved',\n 'cried',\n 'seed',\n 'reported',\n 'rolled',\n 'Enveloped',\n 'muffled',\n 'bedarned',\n 'ragged',\n 'seemed',\n 'landed',\n 'entered',\n 'wrinkled',\n 'poured',\n 'complained',\n 'mixed',\n 'mounted',\n 'landed',\n 'observed',\n 'seemed',\n 'refrained',\n 'interested',\n 'ordained',\n 'concerned',\n 'floated',\n 'announced',\n 'mounted',\n 'slipped',\n 'unobserved',\n 'missed',\n 'raised',\n 'darted',\n 'occurred',\n 'bed',\n 'bed',\n 'bed',\n 'pondered',\n 'abominated',\n 'changed',\n 'procured',\n 'bed',\n 'bed',\n 'mended',\n 'planed',\n 'placed',\n 'formed',\n 'bed',\n 'wakened',\n 'seemed',\n 'dismissed',\n 'popped',\n 'bed',\n 'bed',\n 'chuckled',\n 'seemed',\n 'tickled',\n 'answered',\n 'bed',\n 'engaged',\n 'blessed',\n 'overstocked',\n 'shouted',\n 'bed',\n 'arrived',\n 'balmed',\n 'wanted',\n 'stopped',\n 'cleared',\n 'showed',\n 'stayed',\n 'engaged',\n 'bed',\n 'bed',\n 'spliced',\n 'bed',\n 'bed',\n 'used',\n 'pitched',\n 'lighted',\n 'exclaimed',\n 'considered',\n 'ushered',\n 'furnished',\n 'bed',\n 'indeed',\n 'turned',\n 'bed',\n 'disappeared',\n 'stooped',\n 'bed',\n 'glanced',\n 'papered',\n 'lashed',\n 'bed',\n 'tried',\n 'ornamented',\n 'stained',\n 'weighed',\n 'bed',\n 'commenced',\n 'bed',\n 'undressed',\n 'jumped',\n 'tumbled',\n 'bed',\n 'commended',\n 'stuffed',\n 'rolled',\n 'resolved',\n 'entered',\n 'bed',\n 'placed',\n 'knotted',\n 'averted',\n 'employed',\n 'accomplished',\n 'turned',\n 'chanced',\n 'occurred',\n 'remembered',\n 'tattooed',\n 'concluded',\n 'produced',\n 'noticed',\n 'opened',\n 'commenced',\n 'pulled',\n 'crammed',\n 'twisted',\n 'looked',\n 'mildewed',\n 'bolted',\n 'bolted',\n 'passed',\n 'nonplussed',\n 'confounded',\n 'seemed',\n 'continued',\n 'showed',\n 'covered',\n 'checkered',\n 'seemed',\n 'escaped',\n 'marked',\n 'shipped',\n 'landed',\n 'quaked',\n 'fascinated',\n 'convinced',\n 'indeed',\n 'fumbled',\n 'produced',\n 'deformed',\n 'embalmed',\n 'preserved',\n 'glistened',\n 'polished',\n 'concluded',\n 'indeed',\n 'proved',\n 'papered',\n 'backed',\n 'screwed',\n 'kindled',\n 'seemed',\n 'succeeded',\n 'moved',\n 'accompanied',\n 'seemed',\n 'twitched',\n 'bagged',\n 'increased',\n 'bed',\n 'examined',\n 'puffed',\n 'extinguished',\n 'bed',\n 'rolled',\n 'conjured',\n 'satisfied',\n 'comprehended',\n 'lighted',\n 'shouted',\n 'growled',\n 'scattered',\n 'bed',\n 'shouted',\n 'grunted',\n 'bed',\n 'added',\n 'bed',\n 'insured',\n 'complied',\n 'motioned',\n 'bed',\n 'turned',\n 'coloured',\n 'tattooed',\n 'rolled',\n 'looked',\n 'Indeed',\n 'blended',\n 'bed',\n 'dragged',\n 'packed',\n 'bed',\n 'undressed',\n 'bed',\n 'ached',\n 'dressed',\n 'stockinged',\n 'indeed',\n 'abed',\n 'troubled',\n 'steeped',\n 'opened',\n 'wrapped',\n 'seemed',\n 'placed',\n 'belonged',\n 'seemed',\n 'seated',\n 'bed',\n 'seemed',\n 'piled',\n 'glided',\n 'remembered',\n 'experienced',\n 'recurred',\n 'fixed',\n 'tried',\n 'hugged',\n 'rolled',\n 'faced',\n 'abed',\n 'succeeded',\n 'bed',\n 'seemed',\n 'seemed',\n 'reconciled',\n 'jumped',\n 'pleased',\n 'civilized',\n 'treated',\n 'bed',\n 'commenced',\n 'hunted',\n 'bed',\n 'inferred',\n 'required',\n 'civilized',\n 'completed',\n 'civilized',\n 'troubled',\n 'bed',\n 'emerged',\n 'dented',\n 'crushed',\n 'accustomed',\n 'wrinkled',\n 'pinched',\n 'tormented',\n 'commanded',\n 'begged',\n 'complied',\n 'proceeded',\n 'washed',\n 'contented',\n 'donned',\n 'dipped',\n 'commenced',\n 'bed',\n 'wondered',\n 'achieved',\n 'marched',\n 'wrapped',\n 'followed',\n 'accosted',\n 'cherished',\n 'toasted',\n 'landed',\n 'bleached',\n 'tarried',\n 'barred',\n 'seemed',\n 'cried',\n 'possessed',\n 'possessed',\n 'occasioned',\n 'seated',\n 'maintained',\n 'looked',\n 'embarrassed',\n 'boarded',\n 'duelled',\n 'kindred',\n 'chanced',\n 'justified',\n 'eschewed',\n 'applied',\n 'undivided',\n 'lighted',\n 'sallied',\n 'astonished',\n 'civilized',\n 'departed',\n 'affrighted',\n 'scared',\n 'mentioned',\n 'unheeded',\n 'felled',\n 'tailed',\n 'girdled',\n 'bred',\n 'bred',\n 'distinguished',\n 'Seed',\n 'planted',\n 'answered',\n 'harpooned',\n 'dragged',\n 'congregated',\n 'superinduced',\n 'red',\n 'sallied',\n 'changed',\n 'called',\n 'scattered',\n 'muffled',\n 'reigned',\n 'seemed',\n 'arrived',\n 'masoned',\n 'erected',\n 'towed',\n 'placed',\n 'killed',\n 'erected',\n 'glazed',\n 'seated',\n 'surprised',\n 'Affected',\n 'seemed',\n 'appeared',\n 'unrecorded',\n 'assembled',\n 'caused',\n 'bleed',\n 'buried',\n 'beloved',\n 'bordered',\n 'perished',\n 'included',\n 'departed',\n 'died',\n 'comforted',\n 'regarded',\n 'darkened',\n 'seated',\n 'entered',\n 'pelted',\n 'attested',\n 'called',\n 'dedicated',\n 'engrafted',\n 'led',\n 'entered',\n 'observed',\n 'carried',\n 'seemed',\n 'absorbed',\n 'removed',\n 'arrayed',\n 'approached',\n 'fashioned',\n 'seemed',\n 'acted',\n 'finished',\n 'used',\n 'provided',\n 'red',\n 'worsted',\n 'headed',\n 'stained',\n 'seemed',\n 'mounted',\n 'covered',\n 'escaped',\n 'seemed',\n 'prepared',\n 'deposited',\n 'pondered',\n 'enjoyed',\n 'replenished',\n 'borrowed',\n 'formed',\n 'adorned',\n 'floated',\n 'beamed',\n 'shed',\n 'tossed',\n 'inserted',\n 'seemed',\n 'achieved',\n 'panelled',\n 'rested',\n 'fashioned',\n 'headed',\n 'descried',\n 'invoked',\n 'ordered',\n 'scattered',\n 'paused',\n 'folded',\n 'uplifted',\n 'closed',\n 'offered',\n 'seemed',\n 'ended',\n 'prolonged',\n 'commenced',\n 'Arched',\n 'rolled',\n 'called',\n 'bowed',\n 'speed',\n 'joined',\n 'swelled',\n 'ensued',\n 'turned',\n 'Beloved',\n 'prepared',\n 'weed',\n 'stranded',\n 'awakened',\n 'conveyed',\n 'unheeded',\n 'learned',\n 'sailed',\n 'slouched',\n 'disordered',\n 'arrested',\n 'touched',\n 'wretched',\n 'robbed',\n 'moored',\n 'hundred',\n 'prepared',\n 'Frighted',\n 'suspected',\n 'advertised',\n 'looked',\n 'answered',\n 'overlooked',\n 'stopped',\n 'assented',\n 'need',\n 'allowed',\n 'locked',\n 'dressed',\n 'contracted',\n 'Screwed',\n 'received',\n 'tormented',\n 'bed',\n 'passed',\n 'deserted',\n 'uncheered',\n 'recorded',\n 'wicked',\n 'frightened',\n 'Startled',\n 'affrighted',\n 'tormented',\n 'discovered',\n 'unsolicited',\n 'forced',\n 'appalled',\n 'wretched',\n 'raised',\n 'dropped',\n 'prayed',\n 'copied',\n 'heed',\n 'seemed',\n 'seemed',\n 'tossed',\n 'heaved',\n 'tossed',\n 'seemed',\n 'rolled',\n 'turned',\n 'closed',\n 'seemed',\n 'leaned',\n 'anointed',\n 'wicked',\n 'appalled',\n 'fled',\n 'reached',\n 'swallowed',\n 'sucked',\n 'wrapped',\n 'bowled',\n 'grounded',\n 'engulphed',\n 'cried',\n 'vomited',\n 'bruised',\n 'brewed',\n 'dropped',\n 'showed',\n 'cried',\n 'covered',\n 'remained',\n 'departed',\n 'interrupted',\n 'fancied',\n 'excited',\n 'marred',\n 'seemed',\n 'looked',\n 'cringed',\n 'shaved',\n 'looked',\n 'reminded',\n 'graded',\n 'wooded',\n 'developed',\n 'heeded',\n 'troubled',\n 'appeared',\n 'occupied',\n 'noticed',\n 'consorted',\n 'appeared',\n 'seemed',\n 'warmed',\n 'looked',\n 'splintered',\n 'maddened',\n 'turned',\n 'redeemed',\n 'lurked',\n 'civilized',\n 'repelled',\n 'proved',\n 'noticed',\n 'looked',\n 'pleased',\n 'complimented',\n 'turned',\n 'endeavored',\n 'engaged',\n 'proposed',\n 'offered',\n 'lurked',\n 'thawed',\n 'seemed',\n 'pressed',\n 'clasped',\n 'married',\n 'need',\n 'seemed',\n 'distrusted',\n 'embalmed',\n 'pushed',\n 'silenced',\n 'removed',\n 'seemed',\n 'deliberated',\n 'invited',\n 'bred',\n 'included',\n 'kindled',\n 'helped',\n 'offered',\n 'salamed',\n 'kissed',\n 'undressed',\n 'bed',\n 'bed',\n 'bed',\n 'tattooed',\n 'remained',\n 'departed',\n 'tucked',\n 'indeed',\n 'bed',\n 'bed',\n 'chilled',\n 'indeed',\n 'furnished',\n 'bed',\n 'closed',\n 'indeed',\n 'created',\n 'imposed',\n 'unilluminated',\n 'experienced',\n 'bed',\n 'liked',\n 'bed',\n 'seemed',\n 'concerned',\n 'condensed',\n 'passed',\n 'illuminated',\n 'rolled',\n 'begged',\n 'complied',\n 'comprehended',\n 'hatched',\n 'followed',\n 'lurked',\n 'boasted',\n 'vitiated',\n 'nourished',\n 'untutored',\n 'visited',\n 'spurned',\n 'vowed',\n 'paddled',\n 'quitted',\n 'covered',\n 'darted',\n 'gained',\n 'capsized',\n 'climbed',\n 'grappled',\n 'hacked',\n 'threatened',\n 'suspended',\n 'naked',\n 'budged',\n 'relented',\n 'disdained',\n 'untutored',\n 'actuated',\n 'convinced',\n 'wicked',\n 'Arrived',\n 'wicked',\n 'lived',\n 'tried',\n 'asked',\n 'answered',\n 'added',\n 'unfitted',\n 'undefiled',\n 'baptized',\n 'proposed',\n 'barbed',\n 'asked',\n 'answered',\n 'informed',\n 'resolved',\n 'assented',\n 'experienced',\n 'acquainted',\n 'ended',\n 'embraced',\n 'pressed',\n 'rolled',\n 'embalmed',\n 'settled',\n 'seemed',\n 'tickled',\n 'alarmed',\n 'companied',\n 'borrowed',\n 'moored',\n 'stared',\n 'used',\n 'heeded',\n 'asked',\n 'carried',\n 'replied',\n 'hinted',\n 'assured',\n 'tried',\n 'armed',\n 'obliged',\n 'preferred',\n 'stained',\n 'braided',\n 'touched',\n 'invited',\n 'turned',\n 'assembled',\n 'assigned',\n 'placed',\n 'consecrated',\n 'blessed',\n 'placed',\n 'glided',\n 'covered',\n 'piled',\n 'moored',\n 'blended',\n 'ended',\n 'ended',\n 'waxed',\n 'tossed',\n 'snuffed',\n 'spurned',\n 'dented',\n 'turned',\n 'seemed',\n 'swelled',\n 'showed',\n 'filed',\n 'pointed',\n 'gained',\n 'ducked',\n 'dived',\n 'darted',\n 'marvelled',\n 'dignified',\n 'whitewashed',\n 'landed',\n 'lighted',\n 'passed',\n 'yelled',\n 'cried',\n 'killed',\n 'turned',\n ...]"
          },
          "metadata": {}
        }
      ]
    },
    {
      "metadata": {
        "slideshow": {
          "slide_type": "slide"
        }
      },
      "cell_type": "markdown",
      "source": "Finding 8-letters words where `j` is the 3rd letter and `t` is the 6th letter:"
    },
    {
      "metadata": {
        "slideshow": {
          "slide_type": "fragment"
        },
        "trusted": true
      },
      "cell_type": "code",
      "source": "[w for w in wordlist if re.search('^..j..t..$', w)]",
      "execution_count": 15,
      "outputs": [
        {
          "output_type": "execute_result",
          "execution_count": 15,
          "data": {
            "text/plain": "['majestic',\n 'majestic',\n 'Abjectus',\n 'majestic',\n 'objected',\n 'majestic',\n 'majestic',\n 'majestic',\n 'abjectly',\n 'majestic',\n 'dejected']"
          },
          "metadata": {}
        }
      ]
    },
    {
      "metadata": {
        "slideshow": {
          "slide_type": "slide"
        }
      },
      "cell_type": "markdown",
      "source": "## ^ is overloaded\n\n\n| Symbol | Meaning |\n| --- | --- |\n| ˆ   | matches start of a string |\n| ˆ   | negation when used at beginning of a disjunction |"
    },
    {
      "metadata": {
        "slideshow": {
          "slide_type": "slide"
        }
      },
      "cell_type": "markdown",
      "source": "Finding all words that are not ALL CAPS:"
    },
    {
      "metadata": {
        "slideshow": {
          "slide_type": "fragment"
        },
        "trusted": true
      },
      "cell_type": "code",
      "source": "[w for w in wordlist if re.search('[^A-Z]', w)]",
      "execution_count": 18,
      "outputs": [
        {
          "output_type": "execute_result",
          "execution_count": 18,
          "data": {
            "text/plain": "['Moby',\n 'Dick',\n 'by',\n 'Herman',\n 'Melville',\n '1851',\n 'Supplied',\n 'by',\n 'a',\n 'Late',\n 'Consumptive',\n 'Usher',\n 'to',\n 'a',\n 'Grammar',\n 'School',\n 'The',\n 'pale',\n 'Usher',\n 'threadbare',\n 'in',\n 'coat',\n 'heart',\n 'body',\n 'and',\n 'brain',\n 'see',\n 'him',\n 'now',\n 'He',\n 'was',\n 'ever',\n 'dusting',\n 'his',\n 'old',\n 'lexicons',\n 'and',\n 'grammars',\n 'with',\n 'a',\n 'queer',\n 'handkerchief',\n 'mockingly',\n 'embellished',\n 'with',\n 'all',\n 'the',\n 'gay',\n 'flags',\n 'of',\n 'all',\n 'the',\n 'known',\n 'nations',\n 'of',\n 'the',\n 'world',\n 'He',\n 'loved',\n 'to',\n 'dust',\n 'his',\n 'old',\n 'grammars',\n 'it',\n 'somehow',\n 'mildly',\n 'reminded',\n 'him',\n 'of',\n 'his',\n 'mortality',\n 'While',\n 'you',\n 'take',\n 'in',\n 'hand',\n 'to',\n 'school',\n 'others',\n 'and',\n 'to',\n 'teach',\n 'them',\n 'by',\n 'what',\n 'name',\n 'a',\n 'whale',\n 'fish',\n 'is',\n 'to',\n 'be',\n 'called',\n 'in',\n 'our',\n 'tongue',\n 'leaving',\n 'out',\n 'through',\n 'ignorance',\n 'the',\n 'letter',\n 'which',\n 'almost',\n 'alone',\n 'maketh',\n 'the',\n 'signification',\n 'of',\n 'the',\n 'word',\n 'you',\n 'deliver',\n 'that',\n 'which',\n 'is',\n 'not',\n 'true',\n 'Sw',\n 'and',\n 'Dan',\n 'This',\n 'animal',\n 'is',\n 'named',\n 'from',\n 'roundness',\n 'or',\n 'rolling',\n 'for',\n 'in',\n 'Dan',\n 'is',\n 'arched',\n 'or',\n 'vaulted',\n 'It',\n 'is',\n 'more',\n 'immediately',\n 'from',\n 'the',\n 'Dut',\n 'and',\n 'Ger',\n 'to',\n 'roll',\n 'to',\n 'wallow',\n 'Supplied',\n 'by',\n 'a',\n 'Sub',\n 'Sub',\n 'Librarian',\n 'It',\n 'will',\n 'be',\n 'seen',\n 'that',\n 'this',\n 'mere',\n 'painstaking',\n 'burrower',\n 'and',\n 'grub',\n 'worm',\n 'of',\n 'a',\n 'poor',\n 'devil',\n 'of',\n 'a',\n 'Sub',\n 'Sub',\n 'appears',\n 'to',\n 'have',\n 'gone',\n 'through',\n 'the',\n 'long',\n 'Vaticans',\n 'and',\n 'street',\n 'stalls',\n 'of',\n 'the',\n 'earth',\n 'picking',\n 'up',\n 'whatever',\n 'random',\n 'allusions',\n 'to',\n 'whales',\n 'he',\n 'could',\n 'anyways',\n 'find',\n 'in',\n 'any',\n 'book',\n 'whatsoever',\n 'sacred',\n 'or',\n 'profane',\n 'Therefore',\n 'you',\n 'must',\n 'not',\n 'in',\n 'every',\n 'case',\n 'at',\n 'least',\n 'take',\n 'the',\n 'higgledy',\n 'piggledy',\n 'whale',\n 'statements',\n 'however',\n 'authentic',\n 'in',\n 'these',\n 'extracts',\n 'for',\n 'veritable',\n 'gospel',\n 'cetology',\n 'Far',\n 'from',\n 'it',\n 'As',\n 'touching',\n 'the',\n 'ancient',\n 'authors',\n 'generally',\n 'as',\n 'well',\n 'as',\n 'the',\n 'poets',\n 'here',\n 'appearing',\n 'these',\n 'extracts',\n 'are',\n 'solely',\n 'valuable',\n 'or',\n 'entertaining',\n 'as',\n 'affording',\n 'a',\n 'glancing',\n 'bird',\n 's',\n 'eye',\n 'view',\n 'of',\n 'what',\n 'has',\n 'been',\n 'promiscuously',\n 'said',\n 'thought',\n 'fancied',\n 'and',\n 'sung',\n 'of',\n 'Leviathan',\n 'by',\n 'many',\n 'nations',\n 'and',\n 'generations',\n 'including',\n 'our',\n 'own',\n 'So',\n 'fare',\n 'thee',\n 'well',\n 'poor',\n 'devil',\n 'of',\n 'a',\n 'Sub',\n 'Sub',\n 'whose',\n 'commentator',\n 'am',\n 'Thou',\n 'belongest',\n 'to',\n 'that',\n 'hopeless',\n 'sallow',\n 'tribe',\n 'which',\n 'no',\n 'wine',\n 'of',\n 'this',\n 'world',\n 'will',\n 'ever',\n 'warm',\n 'and',\n 'for',\n 'whom',\n 'even',\n 'Pale',\n 'Sherry',\n 'would',\n 'be',\n 'too',\n 'rosy',\n 'strong',\n 'but',\n 'with',\n 'whom',\n 'one',\n 'sometimes',\n 'loves',\n 'to',\n 'sit',\n 'and',\n 'feel',\n 'poor',\n 'devilish',\n 'too',\n 'and',\n 'grow',\n 'convivial',\n 'upon',\n 'tears',\n 'and',\n 'say',\n 'to',\n 'them',\n 'bluntly',\n 'with',\n 'full',\n 'eyes',\n 'and',\n 'empty',\n 'glasses',\n 'and',\n 'in',\n 'not',\n 'altogether',\n 'unpleasant',\n 'sadness',\n 'Give',\n 'it',\n 'up',\n 'Sub',\n 'Subs',\n 'For',\n 'by',\n 'how',\n 'much',\n 'the',\n 'more',\n 'pains',\n 'ye',\n 'take',\n 'to',\n 'please',\n 'the',\n 'world',\n 'by',\n 'so',\n 'much',\n 'the',\n 'more',\n 'shall',\n 'ye',\n 'for',\n 'ever',\n 'go',\n 'thankless',\n 'Would',\n 'that',\n 'could',\n 'clear',\n 'out',\n 'Hampton',\n 'Court',\n 'and',\n 'the',\n 'Tuileries',\n 'for',\n 'ye',\n 'But',\n 'gulp',\n 'down',\n 'your',\n 'tears',\n 'and',\n 'hie',\n 'aloft',\n 'to',\n 'the',\n 'royal',\n 'mast',\n 'with',\n 'your',\n 'hearts',\n 'for',\n 'your',\n 'friends',\n 'who',\n 'have',\n 'gone',\n 'before',\n 'are',\n 'clearing',\n 'out',\n 'the',\n 'seven',\n 'storied',\n 'heavens',\n 'and',\n 'making',\n 'refugees',\n 'of',\n 'long',\n 'pampered',\n 'Gabriel',\n 'Michael',\n 'and',\n 'Raphael',\n 'against',\n 'your',\n 'coming',\n 'Here',\n 'ye',\n 'strike',\n 'but',\n 'splintered',\n 'hearts',\n 'together',\n 'there',\n 'ye',\n 'shall',\n 'strike',\n 'unsplinterable',\n 'glasses',\n 'And',\n 'God',\n 'created',\n 'great',\n 'whales',\n 'Leviathan',\n 'maketh',\n 'a',\n 'path',\n 'to',\n 'shine',\n 'after',\n 'him',\n 'One',\n 'would',\n 'think',\n 'the',\n 'deep',\n 'to',\n 'be',\n 'hoary',\n 'Now',\n 'the',\n 'Lord',\n 'had',\n 'prepared',\n 'a',\n 'great',\n 'fish',\n 'to',\n 'swallow',\n 'up',\n 'Jonah',\n 'There',\n 'go',\n 'the',\n 'ships',\n 'there',\n 'is',\n 'that',\n 'Leviathan',\n 'whom',\n 'thou',\n 'hast',\n 'made',\n 'to',\n 'play',\n 'therein',\n 'In',\n 'that',\n 'day',\n 'the',\n 'Lord',\n 'with',\n 'his',\n 'sore',\n 'and',\n 'great',\n 'and',\n 'strong',\n 'sword',\n 'shall',\n 'punish',\n 'Leviathan',\n 'the',\n 'piercing',\n 'serpent',\n 'even',\n 'Leviathan',\n 'that',\n 'crooked',\n 'serpent',\n 'and',\n 'he',\n 'shall',\n 'slay',\n 'the',\n 'dragon',\n 'that',\n 'is',\n 'in',\n 'the',\n 'sea',\n 'And',\n 'what',\n 'thing',\n 'soever',\n 'besides',\n 'cometh',\n 'within',\n 'the',\n 'chaos',\n 'of',\n 'this',\n 'monster',\n 's',\n 'mouth',\n 'be',\n 'it',\n 'beast',\n 'boat',\n 'or',\n 'stone',\n 'down',\n 'it',\n 'goes',\n 'all',\n 'incontinently',\n 'that',\n 'foul',\n 'great',\n 'swallow',\n 'of',\n 'his',\n 'and',\n 'perisheth',\n 'in',\n 'the',\n 'bottomless',\n 'gulf',\n 'of',\n 'his',\n 'paunch',\n 'The',\n 'Indian',\n 'Sea',\n 'breedeth',\n 'the',\n 'most',\n 'and',\n 'the',\n 'biggest',\n 'fishes',\n 'that',\n 'are',\n 'among',\n 'which',\n 'the',\n 'Whales',\n 'and',\n 'Whirlpooles',\n 'called',\n 'Balaene',\n 'take',\n 'up',\n 'as',\n 'much',\n 'in',\n 'length',\n 'as',\n 'four',\n 'acres',\n 'or',\n 'arpens',\n 'of',\n 'land',\n 'Scarcely',\n 'had',\n 'we',\n 'proceeded',\n 'two',\n 'days',\n 'on',\n 'the',\n 'sea',\n 'when',\n 'about',\n 'sunrise',\n 'a',\n 'great',\n 'many',\n 'Whales',\n 'and',\n 'other',\n 'monsters',\n 'of',\n 'the',\n 'sea',\n 'appeared',\n 'Among',\n 'the',\n 'former',\n 'one',\n 'was',\n 'of',\n 'a',\n 'most',\n 'monstrous',\n 'size',\n 'This',\n 'came',\n 'towards',\n 'us',\n 'open',\n 'mouthed',\n 'raising',\n 'the',\n 'waves',\n 'on',\n 'all',\n 'sides',\n 'and',\n 'beating',\n 'the',\n 'sea',\n 'before',\n 'him',\n 'into',\n 'a',\n 'foam',\n 'He',\n 'visited',\n 'this',\n 'country',\n 'also',\n 'with',\n 'a',\n 'view',\n 'of',\n 'catching',\n 'horse',\n 'whales',\n 'which',\n 'had',\n 'bones',\n 'of',\n 'very',\n 'great',\n 'value',\n 'for',\n 'their',\n 'teeth',\n 'of',\n 'which',\n 'he',\n 'brought',\n 'some',\n 'to',\n 'the',\n 'king',\n 'The',\n 'best',\n 'whales',\n 'were',\n 'catched',\n 'in',\n 'his',\n 'own',\n 'country',\n 'of',\n 'which',\n 'some',\n 'were',\n 'forty',\n 'eight',\n 'some',\n 'fifty',\n 'yards',\n 'long',\n 'He',\n 'said',\n 'that',\n 'he',\n 'was',\n 'one',\n 'of',\n 'six',\n 'who',\n 'had',\n 'killed',\n 'sixty',\n 'in',\n 'two',\n 'days',\n '890',\n 'And',\n 'whereas',\n 'all',\n 'the',\n 'other',\n 'things',\n 'whether',\n 'beast',\n 'or',\n 'vessel',\n 'that',\n 'enter',\n 'into',\n 'the',\n 'dreadful',\n 'gulf',\n 'of',\n 'this',\n 'monster',\n 's',\n 'whale',\n 's',\n 'mouth',\n 'are',\n 'immediately',\n 'lost',\n 'and',\n 'swallowed',\n 'up',\n 'the',\n 'sea',\n 'gudgeon',\n 'retires',\n 'into',\n 'it',\n 'in',\n 'great',\n 'security',\n 'and',\n 'there',\n 'sleeps',\n 'Let',\n 'us',\n 'fly',\n 'let',\n 'us',\n 'fly',\n 'Old',\n 'Nick',\n 'take',\n 'me',\n 'if',\n 'is',\n 'not',\n 'Leviathan',\n 'described',\n 'by',\n 'the',\n 'noble',\n 'prophet',\n 'Moses',\n 'in',\n 'the',\n 'life',\n 'of',\n 'patient',\n 'Job',\n 'This',\n 'whale',\n 's',\n 'liver',\n 'was',\n 'two',\n 'cartloads',\n 'The',\n 'great',\n 'Leviathan',\n 'that',\n 'maketh',\n 'the',\n 'seas',\n 'to',\n 'seethe',\n 'like',\n 'boiling',\n 'pan',\n 'Touching',\n 'that',\n 'monstrous',\n 'bulk',\n 'of',\n 'the',\n 'whale',\n 'or',\n 'ork',\n 'we',\n 'have',\n 'received',\n 'nothing',\n 'certain',\n 'They',\n 'grow',\n 'exceeding',\n 'fat',\n 'insomuch',\n 'that',\n 'an',\n 'incredible',\n 'quantity',\n 'of',\n 'oil',\n 'will',\n 'be',\n 'extracted',\n 'out',\n 'of',\n 'one',\n 'whale',\n 'The',\n 'sovereignest',\n 'thing',\n 'on',\n 'earth',\n 'is',\n 'parmacetti',\n 'for',\n 'an',\n 'inward',\n 'bruise',\n 'Very',\n 'like',\n 'a',\n 'whale',\n 'Which',\n 'to',\n 'secure',\n 'no',\n 'skill',\n 'of',\n 'leach',\n 's',\n 'art',\n 'Mote',\n 'him',\n 'availle',\n 'but',\n 'to',\n 'returne',\n 'againe',\n 'To',\n 'his',\n 'wound',\n 's',\n 'worker',\n 'that',\n 'with',\n 'lowly',\n 'dart',\n 'Dinting',\n 'his',\n 'breast',\n 'had',\n 'bred',\n 'his',\n 'restless',\n 'paine',\n 'Like',\n 'as',\n 'the',\n 'wounded',\n 'whale',\n 'to',\n 'shore',\n 'flies',\n 'thro',\n 'the',\n 'maine',\n 'Immense',\n 'as',\n 'whales',\n 'the',\n 'motion',\n 'of',\n 'whose',\n 'vast',\n 'bodies',\n 'can',\n 'in',\n 'a',\n 'peaceful',\n 'calm',\n 'trouble',\n 'the',\n 'ocean',\n 'til',\n 'it',\n 'boil',\n 'What',\n 'spermacetti',\n 'is',\n 'men',\n 'might',\n 'justly',\n 'doubt',\n 'since',\n 'the',\n 'learned',\n 'Hosmannus',\n 'in',\n 'his',\n 'work',\n 'of',\n 'thirty',\n 'years',\n 'saith',\n 'plainly',\n 'Nescio',\n 'quid',\n 'sit',\n 'Like',\n 'Spencer',\n 's',\n 'Talus',\n 'with',\n 'his',\n 'modern',\n 'flail',\n 'He',\n 'threatens',\n 'ruin',\n 'with',\n 'his',\n 'ponderous',\n 'tail',\n 'Their',\n 'fixed',\n 'jav',\n 'lins',\n 'in',\n 'his',\n 'side',\n 'he',\n 'wears',\n 'And',\n 'on',\n 'his',\n 'back',\n 'a',\n 'grove',\n 'of',\n 'pikes',\n 'appears',\n 'By',\n 'art',\n 'is',\n 'created',\n 'that',\n 'great',\n 'Leviathan',\n 'called',\n 'a',\n 'Commonwealth',\n 'or',\n 'State',\n 'in',\n 'Latin',\n 'Civitas',\n 'which',\n 'is',\n 'but',\n 'an',\n ...]"
          },
          "metadata": {}
        }
      ]
    },
    {
      "metadata": {
        "slideshow": {
          "slide_type": "slide"
        }
      },
      "cell_type": "markdown",
      "source": "Finding all words where one character is not S or s:"
    },
    {
      "metadata": {
        "slideshow": {
          "slide_type": "fragment"
        },
        "trusted": true
      },
      "cell_type": "code",
      "source": "[w for w in wordlist if re.search('[^Ss]', w)]",
      "execution_count": 20,
      "outputs": [
        {
          "output_type": "execute_result",
          "execution_count": 20,
          "data": {
            "text/plain": "['Supplied',\n 'School',\n 'Sw',\n 'S',\n 'S',\n 'S',\n 'SAXON',\n 'SWEDISH',\n 'SPANISH',\n 'Supplied',\n 'Sub',\n 'Sub',\n 'Sub',\n 'Sub',\n 'So',\n 'Sub',\n 'Sub',\n 'Sherry',\n 'Sub',\n 'Subs',\n 'S',\n 'S',\n 'Sea',\n 'S',\n 'Scarcely',\n 'S',\n 'S',\n 'SEBOND',\n 'STOWE',\n 'S',\n 'S',\n 'SIR',\n 'SIR',\n 'SPERMA',\n 'SPERMA',\n 'Spencer',\n 'S',\n 'SUMMER',\n 'State',\n 'SENTENCE',\n 'S',\n 'Silly',\n 'S',\n 'Stretched',\n 'S',\n 'STATE',\n 'So',\n 'S',\n 'S',\n 'SPITZBERGEN',\n 'SIR',\n 'S',\n 'SCHOUTEN',\n 'S',\n 'SIXTH',\n 'Some',\n 'Shetland',\n 'Spitzbergen',\n 'Several',\n 'SIBBALD',\n 'S',\n 'Sperma',\n 'STRAFFORD',\n 'S',\n 'S',\n 'S',\n 'SOUTH',\n 'S',\n 'S',\n 'S',\n 'SOLANDER',\n 'S',\n 'Spermacetti',\n 'S',\n 'S',\n 'Spain',\n 'SOMEWHERE',\n 'Soon',\n 'S',\n 'SHIPWRECK',\n 'So',\n 'S',\n 'S',\n 'SMALL',\n 'SIZED',\n 'S',\n 'Spermacetti',\n 'S',\n 'SPERMACETI',\n 'S',\n 'Sea',\n 'S',\n 'S',\n 'Susan',\n 'S',\n 'She',\n 'Sir',\n 'S',\n 'S',\n 'SHIPWRECK',\n 'SHIP',\n 'SPERM',\n 'SAID',\n 'SMITH',\n 'Sometimes',\n 'SCORESBY',\n 'Sperm',\n 'Sperm',\n 'S',\n 'SPERM',\n 'Sperm',\n 'S',\n 'Steady',\n 'Steady',\n 'Sperm',\n 'Sing',\n 'S',\n 'SURVIVORS',\n 'S',\n 'SPEECH',\n 'S',\n 'SENATE',\n 'S',\n 'S',\n 'Samuel',\n 'SAMUEL',\n 'SHIP',\n 'S',\n 'SOMETHING',\n 'S',\n 'SHIP',\n 'Suddenly',\n 'S',\n 'Stern',\n 'Sperm',\n 'Stern',\n 'So',\n 'SONG',\n 'SONG',\n 'Some',\n 'Sabbath',\n 'Slip',\n 'Some',\n 'Strange',\n 'Say',\n 'Should',\n 'Saco',\n 'Surely',\n 'Seneca',\n 'Stoics',\n 'STATES',\n 'Such',\n 'Saturday',\n 'So',\n 'Sword',\n 'So',\n 'Such',\n 'Sword',\n 'Spouter',\n 'Spouter',\n 'Sumatra',\n 'Spouter',\n 'Spouter',\n 'Spouter',\n 'Such',\n 'Sea',\n 'Some',\n 'Some',\n 'Swain',\n 'SKRIMSHANDER',\n 'Supper',\n 'Supper',\n 'Supper',\n 'Starting',\n 'Southerner',\n 'Suppose',\n 'Skrimshander',\n 'So',\n 'So',\n 'Still',\n 'Saturday',\n 'Sunday',\n 'Sartain',\n 'Sunday',\n 'Sunday',\n 'Saturday',\n 'Sabbath',\n 'Sal',\n 'Sal',\n 'Sam',\n 'Sam',\n 'Sal',\n 'Sunday',\n 'South',\n 'Such',\n 'South',\n 'Seas',\n 'Still',\n 'South',\n 'Seas',\n 'Stammering',\n 'Speak',\n 'Stop',\n 'Sixteen',\n 'Seeing',\n 'So',\n 'Scotch',\n 'Siberia',\n 'Still',\n 'Street',\n 'Street',\n 'Street',\n 'Seed',\n 'Still',\n 'So',\n 'Salem',\n 'Sunday',\n 'SACRED',\n 'SISTER',\n 'SACRED',\n 'SETH',\n 'SAMUEL',\n 'SHIP',\n 'SHIPMATES',\n 'SACRED',\n 'Sperm',\n 'Shaking',\n 'Sands',\n 'Sermon',\n 'Starboard',\n 'Shipmates',\n 'Scriptures',\n 'Shipmates',\n 'Spain',\n 'Syrian',\n 'Straits',\n 'See',\n 'So',\n 'Strong',\n 'Sodom',\n 'So',\n 'Soon',\n 'So',\n 'Sir',\n 'Screwed',\n 'Startled',\n 'Straightway',\n 'Shipmates',\n 'Sin',\n 'Shipmates',\n 'Senators',\n 'Spouter',\n 'Savage',\n 'Socratic',\n 'Surely',\n 'So',\n 'Soon',\n 'So',\n 'South',\n 'Sag',\n 'Struck',\n 'Sag',\n 'Shifting',\n 'Sag',\n 'Seeing',\n 'Such',\n 'Sultan',\n 'Sideways',\n 'So',\n 'Shooting',\n 'Societies',\n 'See',\n 'Some',\n 'Setting',\n 'Straits',\n 'Spouter',\n 'Shirt',\n 'Stepping',\n 'Supper',\n 'Stiggs',\n 'So',\n 'Ship',\n 'She',\n 'Siberia',\n 'She',\n 'She',\n 'Scorning',\n 'Sachem',\n 'Such',\n 'Supposing',\n 'Sir',\n 'Sir',\n 'SURE',\n 'Sir',\n 'Seeing',\n 'Seated',\n 'So',\n 'Scripture',\n 'Scandinavian',\n 'Still',\n 'Such',\n 'Scriptures',\n 'Seven',\n 'S',\n 'So',\n 'Something',\n 'Stiggs',\n 'Snarles',\n 'Son',\n 'Splice',\n 'SPLICE',\n 'So',\n 'Son',\n 'Spurn',\n 'Something',\n 'Scriptural',\n 'Swaine',\n 'Shipmates',\n 'S',\n 'Stop',\n 'Say',\n 'Step',\n 'Spaniard',\n 'Santa',\n 'Somehow',\n 'So',\n 'SHE',\n 'So',\n 'Struck',\n 'See',\n 'Shan',\n 'Seeing',\n 'Shipped',\n 'She',\n 'Starbuck',\n 'Soon',\n 'Stubb',\n 'Starbuck',\n 'Starbuck',\n 'Starbuck',\n 'Strike',\n 'Spring',\n 'Scotch',\n 'Spring',\n 'Sweet',\n 'Stand',\n 'So',\n 'Spite',\n 'Starbuck',\n 'Stand',\n 'Starbuck',\n 'Stubb',\n 'Starbuck',\n 'Stubb',\n 'Starbuck',\n 'Ship',\n 'Shore',\n 'Some',\n 'S',\n 'Sperm',\n 'She',\n 'South',\n 'Sea',\n 'Spanish',\n 'Spanish',\n 'Spain',\n 'Syrian',\n 'See',\n 'South',\n 'Squires',\n 'Starbuck',\n 'Starbuck',\n 'Starbuck',\n 'Stubb',\n 'Starbuck',\n 'Stubb',\n 'Starbuck',\n 'Starbuck',\n 'Starbuck',\n 'Starbuck',\n 'Starbuck',\n 'Spirit',\n 'Squires',\n 'Stubb',\n 'Stubb',\n 'Stubb',\n 'Stubb',\n 'Stubb',\n 'So',\n 'Starbuck',\n 'Stubb',\n 'Starbuck',\n 'Stubb',\n 'Suspended',\n 'Squire',\n 'Shetland',\n 'Scandinavian',\n 'So',\n 'So',\n 'Stubb',\n 'Some',\n 'So',\n 'Some',\n 'Stubb',\n 'Stubb',\n 'Stubb',\n 'Starting',\n 'Stubb',\n 'Stubb',\n 'Stubb',\n 'Stubb',\n 'Stop',\n 'Stubb',\n 'Stubb',\n 'So',\n 'Stubb',\n 'Some',\n 'Stubb',\n 'Such',\n 'S',\n 'Slid',\n 'Such',\n 'Says',\n 'Stubb',\n 'Stubb',\n 'Seeing',\n 'Stubb',\n 'Stubb',\n 'Stop',\n 'Stubb',\n 'Stubb',\n 'Stubb',\n 'Stubb',\n 'Stubb',\n 'Stand',\n 'Scoresby',\n 'Surgeon',\n 'Sir',\n 'Sibbald',\n 'Scoresby',\n 'Scoresby',\n 'Scoresby',\n 'South',\n 'Sea',\n 'System',\n 'Simeon',\n 'SPOUTING',\n 'Sow',\n 'SPERM',\n 'SPERM',\n 'SULPHUR',\n 'SPERM',\n 'Some',\n 'Sperm',\n 'Swedes',\n 'Some',\n 'Spout',\n 'SULPHUR',\n 'Sulphur',\n 'So',\n 'Strictly',\n 'Sea',\n 'Sir',\n 'Sir',\n 'Sharks',\n 'Still',\n 'Sailors',\n 'Sperm',\n 'System',\n 'Scragg',\n 'System',\n 'Strength',\n 'Specksynder',\n 'Specksynder',\n 'Specksynder',\n 'Specksioneer',\n 'Southern',\n 'Such',\n 'Starbuck',\n 'Starbuck',\n 'Starbuck',\n 'Stubb',\n 'Slave',\n 'Starbuck',\n 'Stubb',\n 'Starbuck',\n 'Stubb',\n 'Stubb',\n 'Stubb',\n 'Such',\n 'So',\n 'Spring',\n 'Summer',\n 'Saint',\n 'Stylites',\n 'Square',\n 'S',\n 'Sleet',\n 'S',\n 'Sleet',\n 'SLEET',\n 'S',\n 'S',\n 'Sleet',\n 'Sleet',\n 'Sleet',\n 'Sleet',\n 'Southern',\n 'Sleet',\n 'South',\n 'Soon',\n 'Stubb',\n 'Suddenly',\n 'Starbuck',\n 'Sir',\n 'Send',\n 'Stubb',\n 'Sing',\n 'Spanish',\n 'Starbuck',\n 'Starbuck',\n 'Skin',\n 'Starbuck',\n 'Stubb',\n 'Starbuck',\n 'Steward',\n 'Starbuck',\n 'Starbuck',\n 'Stubb',\n 'Starbuck',\n 'Sometimes',\n 'So',\n 'Starbuck',\n 'See',\n 'Stubb',\n 'See',\n 'Stand',\n 'Starbuck',\n 'Starbuck',\n 'Speak',\n 'Something',\n 'Starbuck',\n 'Starbuck',\n 'Starbuck',\n 'Short',\n 'Satan',\n 'So',\n 'Steward',\n 'St',\n 'So',\n 'Starbuck',\n 'Stubb',\n 'Stubb',\n 'Stubb',\n 'Starbuck',\n 'Silently',\n 'Stab',\n 'So',\n 'Starbuck',\n 'Starbuck',\n 'Sunset',\n 'STERN',\n 'SITTING',\n 'Starbuck',\n 'Swerve',\n 'Swerve',\n 'STARBUCK',\n 'Stand',\n 'STUBB',\n 'SOLUS',\n 'Starbuck',\n 'Starbuck',\n 'Stubb',\n 'Stubb',\n 'Stubb',\n 'Stubb',\n 'Such',\n 'Starbuck',\n 'SAILORS',\n 'STANDING',\n 'SINGING',\n 'Spanish',\n 'Spain',\n 'SAILOR',\n 'SINGS',\n 'So',\n 'S',\n 'SAILOR',\n 'Strike',\n 'So',\n 'SCUTTLE',\n 'Star',\n 'SAILOR',\n 'S',\n 'SAILOR',\n 'Stand',\n 'SULKY',\n 'SLEEPY',\n 'SAILOR',\n 'SAILOR',\n 'SAILOR',\n 'SICILIAN',\n 'SAILOR',\n 'SAILOR',\n 'SAILOR',\n 'SCUTTLE',\n 'SOME',\n 'SOME',\n 'SLEEP',\n 'SAILOR',\n 'SAILOR',\n 'SAILOR',\n 'Split',\n 'SMOKING',\n 'SAILOR',\n 'SAILOR',\n 'Spell',\n 'SKY',\n 'SAILOR',\n 'Seeva',\n 'SAILOR',\n 'SHAKING',\n 'SICILIAN',\n 'SAILOR',\n 'SAILOR',\n 'SAILOR',\n 'Stand',\n 'SAILOR',\n 'SAILOR',\n 'SAILOR',\n 'SAILOR',\n 'Steady',\n 'SPANISH',\n 'SAILOR',\n 'ST',\n 'S',\n 'SAILOR',\n 'Spaniard',\n 'SAILOR',\n 'SPANISH',\n 'SAILOR',\n 'SPRINGING',\n 'Swallow',\n 'SPANISH',\n 'SAILOR',\n 'SAILOR',\n 'SAILOR',\n 'Snatch',\n 'Spaniard',\n 'SAILOR',\n 'Sweet',\n 'S',\n 'Stand',\n 'SCATTER',\n 'SHRINKING',\n 'Sperm',\n 'Sperm',\n 'Sperm',\n 'Sperm',\n 'So',\n 'Sperm',\n 'Sperm',\n 'Sperm',\n 'Southern',\n 'Sperm',\n 'Sperm',\n 'Sperm',\n 'So',\n 'Sperm',\n 'Sperm',\n 'Sperm',\n 'Scoresby',\n 'So',\n 'Strello',\n 'Syracuse',\n 'Small',\n 'So',\n 'State',\n 'Starbuck',\n 'Stubb',\n 'Such',\n 'Siam',\n 'Spirit',\n 'St',\n 'So',\n 'So',\n 'Steed',\n 'Steed',\n 'Steed',\n 'Southern',\n 'Seas',\n 'Squall',\n 'States',\n 'Sea',\n 'Sea',\n 'Sir',\n 'Second',\n 'Standing',\n 'Say',\n 'Stubb',\n 'So',\n 'Since',\n 'So',\n 'Seychelle',\n 'So',\n 'Season',\n 'Season',\n 'Seas',\n 'So',\n 'Simoon',\n 'So',\n 'Secondly',\n 'Sperm',\n 'Sylla',\n 'So',\n 'Secondly',\n 'Sperm',\n 'Sperm',\n 'Secondly',\n 'Some',\n 'Sandwich',\n 'Some',\n 'Saul',\n 'Siberian',\n 'Spanish',\n 'Solomon',\n 'Sea',\n 'Surmises',\n 'Starbuck',\n 'Starbuck',\n 'Starbuck',\n 'Starbuck',\n 'Starbuck',\n 'So',\n 'Sperm',\n 'Sperm',\n 'So',\n 'Such',\n 'Starbuck',\n 'Stubb',\n 'Starbuck',\n 'Spread',\n 'Stubb',\n 'So',\n 'So',\n 'Stop',\n 'Start',\n 'Start',\n 'Stubb',\n 'Stubb',\n 'Starbuck',\n 'Stubb',\n 'Stubb',\n 'Starbuck',\n 'Starbuck',\n 'Stubb',\n 'Smuggled',\n 'Strong',\n 'Stubb',\n 'Stubb',\n 'Spring',\n 'Stubb',\n 'Sperm',\n 'Stubb',\n 'Stubb',\n 'Starbuck',\n 'Starbuck',\n 'Still',\n 'So',\n 'Stubb',\n 'Stubb',\n 'Seen',\n 'Starbuck',\n 'Sing',\n 'See',\n 'Stubb',\n 'Softly',\n 'Starbuck',\n 'Soon',\n 'Starbuck',\n 'Spring',\n 'Soon',\n 'Starbuck',\n 'Stand',\n 'Starbuck',\n 'Squall',\n 'Swimming',\n 'So',\n 'Starbuck',\n 'Suddenly',\n 'Stubb',\n 'Stubb',\n 'Starbuck',\n 'Starbuck',\n 'Starbuck',\n 'Starbuck',\n 'Stubb',\n 'So',\n 'Spirit',\n 'Spout',\n 'St',\n 'So',\n 'Starbuck',\n 'Starbuck',\n 'South',\n 'Standing',\n 'Ship',\n 'Swim',\n 'Solomon',\n 'State',\n 'Salisbury',\n 'Salisbury',\n 'So',\n 'Slave',\n 'She',\n 'Slave',\n 'SOCIAL',\n 'SHIP',\n 'Story',\n 'She',\n 'Spanish',\n 'Sebastian',\n 'Some',\n 'Sperm',\n 'She',\n 'So',\n 'Steelkilt',\n 'Sebastian',\n 'Superior',\n 'State',\n 'Steelkilt',\n 'Steelkilt',\n 'Steelkilt',\n 'So',\n 'Steelkilt',\n 'Steelkilt',\n 'Steelkilt',\n 'Steelkilt',\n 'Steelkilt',\n 'Such',\n 'Steelkilt',\n 'Steelkilt',\n 'Steelkilt',\n 'Steelkilt',\n 'Steelkilt',\n 'Seeing',\n 'Steelkilt',\n 'Steelkilt',\n 'Steelkilt',\n 'Senor',\n 'Sebastian',\n 'Senor',\n 'So',\n 'St',\n 'St',\n 'Sydney',\n 'Steelkilt',\n 'Steelkilt',\n 'Steelkilt',\n 'Sink',\n 'Steelkilt',\n 'Steelkilt',\n 'Shall',\n 'Steelkilt',\n 'Steelkilt',\n 'Shut',\n 'Steelkilt',\n 'Steelkilt',\n 'Steelkilt',\n 'Say',\n 'Steelkilt',\n 'Such',\n 'So',\n 'Steelkilt',\n 'Still',\n 'Steelkilt',\n 'Steelkilt',\n 'Steelkilt',\n 'Shipmate',\n 'Steelkilt',\n 'Sebastian',\n 'St',\n 'Sir',\n 'Spaniards',\n 'Sirs',\n 'Steelkilt',\n 'Steelkilt',\n 'Steelkilt',\n 'Steelkilt',\n 'Senor',\n 'Steelkilt',\n 'Some',\n 'Steelkilt',\n 'Sebastian',\n 'Sebastian',\n 'Sebastian',\n 'Sebastian',\n 'Sebastian',\n 'So',\n 'Steelkilt',\n 'Saladin',\n 'St',\n 'Scotch',\n 'Sibbald',\n 'Saratoga',\n 'Spitzbergen',\n 'South',\n 'Seas',\n 'Spermaceti',\n 'Spermaceti',\n 'Scoresby',\n 'Sperm',\n 'Sperm',\n 'Sperm',\n 'Stubb',\n 'So',\n 'Scenes',\n 'Sperm',\n 'Sperm',\n 'Some',\n 'Sperm',\n 'Scoresby',\n 'Sperm',\n 'Sperm',\n 'Serious',\n 'Sea',\n 'Scoresby',\n 'Sheet',\n 'Stone',\n 'Stars',\n 'Sag',\n 'Sperm',\n 'Some',\n 'South',\n 'Sea',\n 'Some',\n 'Soloma',\n 'Steering',\n 'Sperm',\n 'Seen',\n 'Squid',\n 'Slowly',\n 'Soon',\n 'Starbuck',\n 'Sir',\n 'So',\n 'Squid',\n 'Some',\n 'Second',\n 'Stubb',\n 'Starbuck',\n 'Squid',\n 'So',\n 'Suddenly',\n 'Sperm',\n 'So',\n 'Stubb',\n 'Stubb',\n 'Stubb',\n 'So',\n 'Start',\n 'Stubb',\n 'Start',\n 'Start',\n 'Start',\n 'Stubb',\n 'Stand',\n 'Stern',\n 'Stubb',\n 'Stubb',\n 'Stubb',\n 'Stubb',\n 'Stubb',\n 'Soon',\n 'Stubb',\n 'Stubb',\n 'Stubb',\n 'Stubb',\n 'Stubb',\n 'Stand',\n 'So',\n 'Stubb',\n 'Supper',\n 'Stubb',\n 'Stubb',\n 'Such',\n 'Starbuck',\n 'Stubb',\n 'Stubb',\n 'Sperm',\n 'Stubb',\n 'Stubb',\n 'Stubb',\n 'Stubb',\n 'Stubb',\n 'Stubb',\n 'Sullenly',\n 'Stubb',\n 'Stop',\n 'Stubb',\n ...]"
          },
          "metadata": {}
        }
      ]
    },
    {
      "metadata": {
        "slideshow": {
          "slide_type": "slide"
        }
      },
      "cell_type": "markdown",
      "source": "Finding all words that have a `e` or `^` in them:"
    },
    {
      "metadata": {
        "slideshow": {
          "slide_type": "fragment"
        },
        "trusted": true
      },
      "cell_type": "code",
      "source": "[w for w in wordlist if re.search('[e^]', w)]",
      "execution_count": 21,
      "outputs": [
        {
          "output_type": "execute_result",
          "execution_count": 21,
          "data": {
            "text/plain": "['Herman',\n 'Melville',\n 'Supplied',\n 'Late',\n 'Consumptive',\n 'Usher',\n 'The',\n 'pale',\n 'Usher',\n 'threadbare',\n 'heart',\n 'see',\n 'He',\n 'ever',\n 'lexicons',\n 'queer',\n 'handkerchief',\n 'embellished',\n 'the',\n 'the',\n 'the',\n 'He',\n 'loved',\n 'somehow',\n 'reminded',\n 'While',\n 'take',\n 'others',\n 'teach',\n 'them',\n 'name',\n 'whale',\n 'be',\n 'called',\n 'tongue',\n 'leaving',\n 'ignorance',\n 'the',\n 'letter',\n 'alone',\n 'maketh',\n 'the',\n 'the',\n 'deliver',\n 'true',\n 'named',\n 'roundness',\n 'arched',\n 'vaulted',\n 'more',\n 'immediately',\n 'the',\n 'Ger',\n 'Supplied',\n 'be',\n 'seen',\n 'mere',\n 'burrower',\n 'devil',\n 'appears',\n 'have',\n 'gone',\n 'the',\n 'street',\n 'the',\n 'earth',\n 'whatever',\n 'whales',\n 'he',\n 'whatsoever',\n 'sacred',\n 'profane',\n 'Therefore',\n 'every',\n 'case',\n 'least',\n 'take',\n 'the',\n 'higgledy',\n 'piggledy',\n 'whale',\n 'statements',\n 'however',\n 'authentic',\n 'these',\n 'extracts',\n 'veritable',\n 'gospel',\n 'cetology',\n 'the',\n 'ancient',\n 'generally',\n 'well',\n 'the',\n 'poets',\n 'here',\n 'appearing',\n 'these',\n 'extracts',\n 'are',\n 'solely',\n 'valuable',\n 'entertaining',\n 'eye',\n 'view',\n 'been',\n 'fancied',\n 'Leviathan',\n 'generations',\n 'fare',\n 'thee',\n 'well',\n 'devil',\n 'whose',\n 'commentator',\n 'belongest',\n 'hopeless',\n 'tribe',\n 'wine',\n 'ever',\n 'even',\n 'Pale',\n 'Sherry',\n 'be',\n 'one',\n 'sometimes',\n 'loves',\n 'feel',\n 'devilish',\n 'tears',\n 'them',\n 'eyes',\n 'empty',\n 'glasses',\n 'altogether',\n 'unpleasant',\n 'sadness',\n 'Give',\n 'the',\n 'more',\n 'ye',\n 'take',\n 'please',\n 'the',\n 'the',\n 'more',\n 'ye',\n 'ever',\n 'thankless',\n 'clear',\n 'the',\n 'Tuileries',\n 'ye',\n 'tears',\n 'hie',\n 'the',\n 'hearts',\n 'friends',\n 'have',\n 'gone',\n 'before',\n 'are',\n 'clearing',\n 'the',\n 'seven',\n 'storied',\n 'heavens',\n 'refugees',\n 'pampered',\n 'Gabriel',\n 'Michael',\n 'Raphael',\n 'Here',\n 'ye',\n 'strike',\n 'splintered',\n 'hearts',\n 'together',\n 'there',\n 'ye',\n 'strike',\n 'unsplinterable',\n 'glasses',\n 'created',\n 'great',\n 'whales',\n 'Leviathan',\n 'maketh',\n 'shine',\n 'after',\n 'One',\n 'the',\n 'deep',\n 'be',\n 'the',\n 'prepared',\n 'great',\n 'There',\n 'the',\n 'there',\n 'Leviathan',\n 'made',\n 'therein',\n 'the',\n 'sore',\n 'great',\n 'Leviathan',\n 'the',\n 'piercing',\n 'serpent',\n 'even',\n 'Leviathan',\n 'crooked',\n 'serpent',\n 'he',\n 'the',\n 'the',\n 'sea',\n 'soever',\n 'besides',\n 'cometh',\n 'the',\n 'monster',\n 'be',\n 'beast',\n 'stone',\n 'goes',\n 'incontinently',\n 'great',\n 'perisheth',\n 'the',\n 'bottomless',\n 'The',\n 'Sea',\n 'breedeth',\n 'the',\n 'the',\n 'biggest',\n 'fishes',\n 'are',\n 'the',\n 'Whales',\n 'Whirlpooles',\n 'called',\n 'Balaene',\n 'take',\n 'length',\n 'acres',\n 'arpens',\n 'Scarcely',\n 'we',\n 'proceeded',\n 'the',\n 'sea',\n 'when',\n 'sunrise',\n 'great',\n 'Whales',\n 'other',\n 'monsters',\n 'the',\n 'sea',\n 'appeared',\n 'the',\n 'former',\n 'one',\n 'size',\n 'came',\n 'open',\n 'mouthed',\n 'the',\n 'waves',\n 'sides',\n 'beating',\n 'the',\n 'sea',\n 'before',\n 'He',\n 'visited',\n 'view',\n 'horse',\n 'whales',\n 'bones',\n 'very',\n 'great',\n 'value',\n 'their',\n 'teeth',\n 'he',\n 'some',\n 'the',\n 'The',\n 'best',\n 'whales',\n 'were',\n 'catched',\n 'some',\n 'were',\n 'eight',\n 'some',\n 'He',\n 'he',\n 'one',\n 'killed',\n 'whereas',\n 'the',\n 'other',\n 'whether',\n 'beast',\n 'vessel',\n 'enter',\n 'the',\n 'dreadful',\n 'monster',\n 'whale',\n 'are',\n 'immediately',\n 'swallowed',\n 'the',\n 'sea',\n 'gudgeon',\n 'retires',\n 'great',\n 'security',\n 'there',\n 'sleeps',\n 'Let',\n 'let',\n 'take',\n 'me',\n 'Leviathan',\n 'described',\n 'the',\n 'noble',\n 'prophet',\n 'Moses',\n 'the',\n 'life',\n 'patient',\n 'whale',\n 'liver',\n 'The',\n 'great',\n 'Leviathan',\n 'maketh',\n 'the',\n 'seas',\n 'seethe',\n 'like',\n 'the',\n 'whale',\n 'we',\n 'have',\n 'received',\n 'certain',\n 'They',\n 'exceeding',\n 'incredible',\n 'be',\n 'extracted',\n 'one',\n 'whale',\n 'The',\n 'sovereignest',\n 'earth',\n 'parmacetti',\n 'bruise',\n 'Very',\n 'like',\n 'whale',\n 'secure',\n 'leach',\n 'Mote',\n 'availle',\n 'returne',\n 'againe',\n 'worker',\n 'breast',\n 'bred',\n 'restless',\n 'paine',\n 'Like',\n 'the',\n 'wounded',\n 'whale',\n 'shore',\n 'flies',\n 'the',\n 'maine',\n 'Immense',\n 'whales',\n 'the',\n 'whose',\n 'bodies',\n 'peaceful',\n 'trouble',\n 'the',\n 'ocean',\n 'spermacetti',\n 'men',\n 'since',\n 'the',\n 'learned',\n 'years',\n 'Nescio',\n 'Like',\n 'Spencer',\n 'modern',\n 'He',\n 'threatens',\n 'ponderous',\n 'Their',\n 'fixed',\n 'side',\n 'he',\n 'wears',\n 'grove',\n 'pikes',\n 'appears',\n 'created',\n 'great',\n 'Leviathan',\n 'called',\n 'Commonwealth',\n 'State',\n 'swallowed',\n 'chewing',\n 'been',\n 'the',\n 'whale',\n 'sea',\n 'beast',\n 'Leviathan',\n 'Created',\n 'hugest',\n 'the',\n 'ocean',\n 'stream',\n 'There',\n 'Leviathan',\n 'Hugest',\n 'creatures',\n 'the',\n 'deep',\n 'Stretched',\n 'like',\n 'sleeps',\n 'seems',\n 'breath',\n 'sea',\n 'The',\n 'whales',\n 'sea',\n 'water',\n 'have',\n 'sea',\n 'them',\n 'close',\n 'behind',\n 'some',\n 'lie',\n 'The',\n 'huge',\n 'Leviathan',\n 'attend',\n 'their',\n 'prey',\n 'give',\n 'chance',\n 'the',\n 'their',\n 'mistake',\n 'the',\n 'While',\n 'the',\n 'whale',\n 'the',\n 'stern',\n 'the',\n 'they',\n 'head',\n 'near',\n 'the',\n 'shore',\n 'come',\n 'be',\n 'twelve',\n 'thirteen',\n 'feet',\n 'water',\n 'their',\n 'they',\n 'whales',\n 'the',\n 'ocean',\n 'wantonness',\n 'the',\n 'water',\n 'their',\n 'pipes',\n 'vents',\n 'nature',\n 'placed',\n 'their',\n 'shoulders',\n 'Here',\n 'they',\n 'huge',\n 'whales',\n 'they',\n 'were',\n 'forced',\n 'proceed',\n 'great',\n 'deal',\n 'fear',\n 'they',\n 'their',\n 'them',\n 'We',\n 'set',\n 'the',\n 'Elbe',\n 'the',\n 'called',\n 'The',\n 'the',\n 'Whale',\n 'Some',\n 'the',\n 'whale',\n 'open',\n 'fable',\n 'They',\n 'frequently',\n 'the',\n 'see',\n 'whether',\n 'they',\n 'see',\n 'whale',\n 'the',\n 'discoverer',\n 'whale',\n 'taken',\n 'near',\n 'Shetland',\n 'above',\n 'barrel',\n 'herrings',\n 'belly',\n 'One',\n 'harpooneers',\n 'me',\n 'he',\n 'once',\n 'whale',\n 'Spitzbergen',\n 'white',\n 'over',\n 'Several',\n 'whales',\n 'have',\n 'come',\n 'Fife',\n 'one',\n 'eighty',\n 'feet',\n 'length',\n 'the',\n 'whale',\n 'bone',\n 'came',\n 'informed',\n 'besides',\n 'weight',\n 'baleen',\n 'The',\n 'gate',\n 'the',\n 'garden',\n 'Pitferren',\n 'Myself',\n 'have',\n 'agreed',\n 'whether',\n 'master',\n 'Sperma',\n 'ceti',\n 'whale',\n 'never',\n 'hear',\n 'killed',\n 'fierceness',\n 'swiftness',\n 'Whales',\n 'the',\n 'sea',\n 'voice',\n 'obey',\n 'We',\n 'abundance',\n 'large',\n 'whales',\n 'there',\n 'being',\n 'more',\n 'those',\n 'southern',\n 'seas',\n 'hundred',\n 'one',\n 'we',\n 'have',\n 'the',\n 'the',\n 'breath',\n 'the',\n 'whale',\n 'frequendy',\n 'attended',\n 'insupportable',\n 'smell',\n 'disorder',\n 'the',\n 'chosen',\n 'special',\n 'note',\n 'We',\n 'the',\n 'charge',\n 'the',\n 'petticoat',\n 'have',\n 'we',\n 'seven',\n 'fence',\n 'stuffed',\n 'armed',\n 'whale',\n 'we',\n 'compare',\n 'respect',\n 'magnitude',\n 'those',\n 'take',\n 'their',\n 'abode',\n 'the',\n 'deep',\n 'we',\n 'they',\n 'appear',\n 'contemptible',\n 'the',\n 'The',\n 'whale',\n 'doubtless',\n 'the',\n 'largest',\n 'creation',\n 'write',\n 'fable',\n 'little',\n 'fishes',\n 'make',\n 'them',\n 'speak',\n 'like',\n 'great',\n 'wales',\n 'the',\n 'afternoon',\n 'we',\n 'supposed',\n 'be',\n 'be',\n 'dead',\n 'whale',\n 'some',\n 'killed',\n 'were',\n 'then',\n 'ashore',\n 'They',\n 'seemed',\n 'endeavor',\n 'conceal',\n 'themselves',\n 'behind',\n 'the',\n 'whale',\n 'order',\n 'being',\n 'seen',\n 'The',\n 'larger',\n 'whales',\n 'they',\n 'seldom',\n 'venture',\n 'They',\n 'great',\n 'dread',\n 'some',\n 'them',\n 'when',\n 'sea',\n 'they',\n 'are',\n 'mention',\n 'even',\n 'their',\n 'names',\n 'lime',\n 'stone',\n 'juniper',\n 'some',\n 'other',\n 'articles',\n 'the',\n 'same',\n 'nature',\n 'their',\n 'order',\n 'terrify',\n 'prevent',\n 'their',\n 'near',\n 'The',\n 'Spermacetti',\n 'Whale',\n 'the',\n 'active',\n 'fierce',\n 'requires',\n 'address',\n 'boldness',\n 'the',\n 'fishermen',\n 'the',\n 'equal',\n 'great',\n 'whale',\n 'stranded',\n 'the',\n 'shores',\n 'Europe',\n 'tenth',\n 'the',\n 'revenue',\n 'be',\n 'grounded',\n 'the',\n 'consideration',\n 'protecting',\n 'the',\n 'seas',\n 'pirates',\n 'robbers',\n 'the',\n 'are',\n 'whale',\n 'sturgeon',\n 'these',\n 'when',\n 'either',\n 'ashore',\n 'near',\n 'the',\n 'are',\n 'the',\n 'property',\n 'the',\n 'the',\n 'death',\n 'the',\n 'crews',\n 'repair',\n 'unerring',\n 'er',\n 'head',\n 'suspends',\n 'The',\n 'barbed',\n 'steel',\n 'every',\n 'attends',\n 'shone',\n 'the',\n 'the',\n 'domes',\n 'the',\n 'spires',\n 'rockets',\n 'blew',\n 'self',\n 'driven',\n 'their',\n 'momentary',\n 'fire',\n 'the',\n 'heaven',\n 'fire',\n 'water',\n 'compare',\n 'The',\n 'ocean',\n 'serves',\n 'spouted',\n 'whale',\n 'express',\n 'unwieldy',\n 'Ten',\n 'fifteen',\n 'are',\n 'the',\n 'heart',\n 'stroke',\n 'immense',\n 'velocity',\n 'The',\n 'whale',\n 'larger',\n 'the',\n 'bore',\n 'the',\n 'pipe',\n 'the',\n 'water',\n 'Bridge',\n 'the',\n 'water',\n 'passage',\n 'pipe',\n 'inferior',\n 'impetus',\n 'velocity',\n 'the',\n 'the',\n 'whale',\n 'heart',\n 'The',\n 'whale',\n 'mammiferous',\n 'feet',\n 'degrees',\n 'we',\n 'Spermacetti',\n 'Whales',\n 'take',\n 'the',\n 'the',\n 'sea',\n 'being',\n 'then',\n 'covered',\n 'them',\n 'the',\n 'free',\n 'element',\n 'beneath',\n 'me',\n 'Floundered',\n 'dived',\n 'chace',\n 'battle',\n 'Fishes',\n 'every',\n 'language',\n 'mariner',\n 'never',\n 'seen',\n 'dread',\n 'Leviathan',\n 'insect',\n 'peopling',\n 'every',\n 'wave',\n 'Gather',\n 'immense',\n 'like',\n 'Led',\n 'mysterious',\n 'waste',\n 'trackless',\n 'region',\n 'every',\n 'side',\n 'Assaulted',\n 'enemies',\n 'Whales',\n 'monsters',\n 'hooked',\n 'Paean',\n 'the',\n 'people',\n 'mightier',\n 'whale',\n 'the',\n 'fatter',\n 'he',\n 'Flounders',\n 'the',\n 'Sea',\n 'the',\n 'year',\n 'some',\n 'persons',\n 'were',\n 'observing',\n 'the',\n 'whales',\n 'each',\n 'other',\n 'when',\n 'one',\n 'observed',\n 'there',\n 'the',\n 'sea',\n 'green',\n 'pasture',\n 'where',\n 'children',\n 'children',\n 'bread',\n 'cottage',\n 'myself',\n 'made',\n 'gateway',\n 'the',\n 'setting',\n 'whale',\n 'bones',\n 'She',\n 'came',\n 'bespeak',\n 'monument',\n 'her',\n 'love',\n 'been',\n 'killed',\n 'whale',\n 'the',\n 'ocean',\n 'less',\n 'years',\n 'Whale',\n 'answered',\n 'he',\n 'threw',\n 'pretty',\n 'He',\n 'fellow',\n 'The',\n 'papers',\n 'were',\n 'we',\n 'the',\n 'Berlin',\n 'Gazette',\n 'whales',\n 'been',\n 'introduced',\n 'the',\n 'stage',\n 'there',\n 'Chace',\n 'the',\n 'matter',\n 'answered',\n 'we',\n 'have',\n 'been',\n 'stove',\n 'whale',\n 'mariner',\n 'the',\n 'one',\n 'The',\n 'free',\n 'dimmed',\n 'the',\n 'pale',\n 'the',\n 'phospher',\n 'gleamed',\n 'the',\n 'wake',\n 'the',\n 'whale',\n 'floundered',\n 'the',\n 'sea',\n 'The',\n 'line',\n 'the',\n 'engaged',\n 'the',\n ...]"
          },
          "metadata": {}
        }
      ]
    },
    {
      "metadata": {
        "slideshow": {
          "slide_type": "slide"
        }
      },
      "cell_type": "markdown",
      "source": "## Regex the ? Operator\n\n\n| Symbol | Meaning |\n| --- | --- |\n| ?   | Zero or one instance of the previous character |\n\n\n* (previous character is optional)"
    },
    {
      "metadata": {
        "slideshow": {
          "slide_type": "slide"
        }
      },
      "cell_type": "markdown",
      "source": "Counting occurrences of email and e-mail:"
    },
    {
      "metadata": {
        "slideshow": {
          "slide_type": "fragment"
        },
        "trusted": true
      },
      "cell_type": "code",
      "source": "sum(1 for w in wordlist if re.search('^e-?mail$', w))",
      "execution_count": 22,
      "outputs": [
        {
          "output_type": "execute_result",
          "execution_count": 22,
          "data": {
            "text/plain": "0"
          },
          "metadata": {}
        }
      ]
    },
    {
      "metadata": {
        "slideshow": {
          "slide_type": "slide"
        }
      },
      "cell_type": "markdown",
      "source": "Counting occurrences of `color` and `colour`:"
    },
    {
      "metadata": {
        "slideshow": {
          "slide_type": "fragment"
        },
        "trusted": true
      },
      "cell_type": "code",
      "source": "sum(1 for w in wordlist if re.search('^colou?r$', w))",
      "execution_count": 23,
      "outputs": [
        {
          "output_type": "execute_result",
          "execution_count": 23,
          "data": {
            "text/plain": "16"
          },
          "metadata": {}
        }
      ]
    },
    {
      "metadata": {
        "slideshow": {
          "slide_type": "slide"
        }
      },
      "cell_type": "markdown",
      "source": "### Textonymns\n\nT9 system used for entering text on mobile phones \n* **textonyms:** two or more words that are entered with the same sequence of keystrokes \n* both `hole` and `golf` are entered by pressing sequence 4653 \n\n<img src=\"https://www.nltk.org/images/T9.png\" width=\"300\"/>\n\n"
    },
    {
      "metadata": {
        "slideshow": {
          "slide_type": "slide"
        }
      },
      "cell_type": "markdown",
      "source": "Words that can be produced using sequence `4653`:"
    },
    {
      "metadata": {
        "slideshow": {
          "slide_type": "fragment"
        },
        "trusted": true
      },
      "cell_type": "code",
      "source": "[w for w in wordlist if re.search('^[ghi][mno][jlk][def]$', w)]",
      "execution_count": 25,
      "outputs": [
        {
          "output_type": "execute_result",
          "execution_count": 25,
          "data": {
            "text/plain": "['gold', 'golf', 'hold', 'hole']"
          },
          "metadata": {}
        }
      ]
    },
    {
      "metadata": {
        "slideshow": {
          "slide_type": "slide"
        }
      },
      "cell_type": "markdown",
      "source": "## Regex: Closures\n\n| Symbol | Meaning |\n| --- | --- |\n| * |        Zero or more of previous item (Kleene closure) |\n| + |        One or more of previous item (positive closure) |"
    },
    {
      "metadata": {
        "slideshow": {
          "slide_type": "fragment"
        },
        "trusted": true
      },
      "cell_type": "code",
      "source": "chat_words = sorted(set(w for w in nltk.corpus.nps_chat.words()))",
      "execution_count": 26,
      "outputs": []
    },
    {
      "metadata": {
        "slideshow": {
          "slide_type": "fragment"
        },
        "trusted": true
      },
      "cell_type": "code",
      "source": "[w for w in chat_words if re.search('^m+i+n+e+$', w)] ",
      "execution_count": 27,
      "outputs": [
        {
          "output_type": "execute_result",
          "execution_count": 27,
          "data": {
            "text/plain": "['miiiiiiiiiiiiinnnnnnnnnnneeeeeeeeee',\n 'miiiiiinnnnnnnnnneeeeeeee',\n 'mine',\n 'mmmmmmmmiiiiiiiiinnnnnnnnneeeeeeee']"
          },
          "metadata": {}
        }
      ]
    },
    {
      "metadata": {
        "slideshow": {
          "slide_type": "fragment"
        },
        "trusted": true
      },
      "cell_type": "code",
      "source": "[w for w in chat_words if re.search('^[ha]+$', w)]",
      "execution_count": 30,
      "outputs": [
        {
          "output_type": "execute_result",
          "execution_count": 30,
          "data": {
            "text/plain": "['a',\n 'aaaaaaaaaaaaaaaaa',\n 'aaahhhh',\n 'ah',\n 'ahah',\n 'ahahah',\n 'ahh',\n 'ahhahahaha',\n 'ahhh',\n 'ahhhh',\n 'ahhhhhh',\n 'ahhhhhhhhhhhhhh',\n 'h',\n 'ha',\n 'haaa',\n 'hah',\n 'haha',\n 'hahaaa',\n 'hahah',\n 'hahaha',\n 'hahahaa',\n 'hahahah',\n 'hahahaha',\n 'hahahahaaa',\n 'hahahahahaha',\n 'hahahahahahaha',\n 'hahahahahahahahahahahahahahahaha',\n 'hahahhahah',\n 'hahhahahaha']"
          },
          "metadata": {}
        }
      ]
    },
    {
      "metadata": {
        "slideshow": {
          "slide_type": "slide"
        }
      },
      "cell_type": "markdown",
      "source": "### What does this regex produce?"
    },
    {
      "metadata": {
        "slideshow": {
          "slide_type": "fragment"
        },
        "trusted": true
      },
      "cell_type": "code",
      "source": "[w for w in chat_words if re.search('^[^aeiouAEIOU].*$', w)]",
      "execution_count": 33,
      "outputs": [
        {
          "output_type": "execute_result",
          "execution_count": 33,
          "data": {
            "text/plain": "['!',\n '!!',\n '!!!',\n '!!!!',\n '!!!!!',\n '!!!!!!',\n '!!!!!!!',\n '!!!!!!!!',\n '!!!!!!!!!',\n '!!!!!!!!!!',\n '!!!!!!!!!!!',\n '!!!!!!!!!!!!!',\n '!!!!!!!!!!!!!!!!',\n '!!!!!!!!!!!!!!!!!!!!!!',\n '!!!!!!!!!!!!!!!!!!!!!!!',\n '!!!!!!!!!!!!!!!!!!!!!!!!!!!',\n '!!!!!!!!!!!!!!!!!!!!!!!!!!!!',\n '!!!!!!!!!!!!!!!!!!!!!!!!!!!!!!!!!!!!!!!!!!!!!!!!!!!!!!',\n '!!!!!!.',\n '!!!!!.',\n '!!!!....',\n '!!!.',\n '!!.',\n '!!...',\n '!.',\n '!...',\n '!=',\n '!?',\n '!??',\n '!???',\n '\"',\n '\"...',\n '\"?',\n '\"s',\n '#',\n '###',\n '####',\n '#14-19teens',\n '#40sPlus',\n '#prideIsland',\n '#prideisland',\n '#talkcity-20s',\n '#talkcity_adults',\n '$',\n '$$',\n '$27',\n '&',\n '&^',\n \"'\",\n \"''\",\n \"'.\",\n \"'d\",\n \"'ello\",\n \"'ll\",\n \"'m\",\n \"'n'\",\n \"'re\",\n \"'s\",\n \"'ve\",\n '(',\n '( o Y o )',\n '(((',\n '((((',\n '(((((',\n '((((((',\n '(((((((',\n '((((((((',\n '(((((((((',\n '((((((((((',\n '(((((((((((',\n '((((((((((((',\n '(((((((((((((',\n '((((((((((((((',\n '(((((((((((((((',\n '(((((((((((((((((',\n '((((((((((((((((((',\n '((((((((((((((((((((',\n '(((((((((((((((((((((',\n '(((((((((((((((((((((((',\n '((((((((((((((((((((((((',\n '(((((((((((((((((((((((((',\n '((((((((((((((((((((((((((',\n '(((((..',\n '(*&(^',\n '(.',\n '(__I__)',\n ')',\n ')))',\n '))))',\n ')))))',\n ')))))))',\n '))))))))',\n ')))))))))',\n '))))))))))',\n ')))))))))))',\n '))))))))))))',\n ')))))))))))))',\n '))))))))))))))',\n ')))))))))))))))',\n ')))))))))))))))))',\n ')))))))))))))))))))',\n ')))))))))))))))))))))',\n '))))))))))))))))))))))',\n '))))))))))))))))))))))))))))',\n ')))))))))))))))))))))))))))))))',\n ')?',\n '*',\n '******',\n '*VBS*',\n '*WOW*',\n '*blush*',\n '*drools*',\n '*grins*',\n '*hugs*',\n '*smewchies*',\n '*sniffs*',\n '*spank*',\n '*waves*',\n '+',\n '+*+*+*+*',\n '++',\n ',',\n ',,',\n ',,,',\n ',,,,',\n ',,,,,',\n ',,,,,,,',\n ',,,,,,,,,,,',\n '-',\n '-(',\n '--',\n '-------------',\n '--------------------',\n '--------->',\n '-->',\n '-...)...-',\n '-17',\n '-21',\n '-6',\n '-_-',\n '-o',\n '-s',\n '-stay-',\n '.',\n '. .',\n '. . .',\n '. ...',\n '.(.',\n '.(..(.vMp3 v1.7.4.).)',\n '.(..(.vMp3 vi.p.t.)..).',\n '.)',\n '.).',\n '..',\n '.. .',\n '..(..',\n '...',\n '....',\n '.....',\n '......',\n '.......',\n '........',\n '.........',\n '..........',\n '...........',\n '............',\n '.............',\n '................',\n '..................',\n '...................',\n '....................',\n '........................',\n '..............................',\n '.45',\n '.:',\n '.;)',\n '.A.n.a.c.?.n.?.a.',\n '.op.',\n '.owner.',\n '/',\n '//',\n '//www.wunderground.com/cgi-bin/findweather/getForecast?query=95953#FIR',\n '0',\n '05.',\n '06.',\n '1',\n '1-900-anal-sex',\n '1.98',\n '1.99',\n '10',\n '100',\n '100%',\n '1012.',\n '1016.',\n '102.6',\n '10:49',\n '10th',\n '11',\n '12',\n '12%',\n '1200',\n '121.7',\n '1299',\n '13',\n '138',\n '14',\n '14-16',\n '147.7',\n '15',\n '16',\n '16.',\n '17',\n '18',\n '185',\n '18ST',\n '19',\n '1900',\n '1930',\n '1980',\n '1985',\n '1996',\n '1cos',\n '2',\n '2.3',\n '20',\n '20.',\n '2006',\n '20S',\n '20s',\n '21',\n '22',\n '220',\n '224',\n '23',\n '24',\n '246',\n '247',\n '25',\n '26',\n '27',\n '28',\n '280',\n '28147',\n '29',\n '29.88.',\n '295',\n '29803',\n '2:55',\n '2DAY',\n '2Pac',\n '2nd',\n '3',\n '30',\n '30.',\n '30.00.',\n '300',\n '31',\n '32',\n '33',\n '3333333',\n '33982',\n '34',\n '35',\n '36',\n '360',\n '37',\n '38',\n '39',\n '39.3',\n '396',\n '3:45',\n '3~<-..4@.',\n '4',\n '4.20',\n '41',\n '423',\n '43',\n '43.',\n '45',\n '45.5',\n '453',\n '46',\n '46.',\n '47',\n '47.',\n '49',\n '4:03',\n '5',\n '50',\n '51',\n '53',\n '55',\n '55%',\n '55.',\n '56',\n '56.',\n '57',\n '57401',\n '579',\n '59',\n '59%',\n '6',\n '60',\n '60s',\n '64.8',\n '65%',\n '68%',\n '69',\n '6:38',\n '6:41',\n '6:51',\n '6:53',\n '7',\n '70%',\n '700',\n '73%',\n '73042',\n '75',\n '75%',\n '76%',\n '77',\n '7:45',\n '8',\n '80',\n '8082653953',\n '818',\n '85%',\n '9',\n '9.53',\n '90',\n '92129',\n '92780',\n '93',\n '93%',\n '95953',\n '98.5',\n '98.6',\n '99',\n '99701',\n '99703',\n '9:10',\n ':',\n ':(',\n ':)',\n ':):):)',\n ':-(',\n ':-)',\n ':-@',\n ':-o',\n ':.',\n ':/',\n ':@',\n ':D',\n ':O',\n ':P',\n ':]',\n ':beer:',\n ':blush:',\n ':love:',\n ':o *',\n ':p',\n ':tongue:',\n ':|',\n ';',\n '; ..',\n ';)',\n ';-(',\n ';-)',\n ';0',\n ';]',\n ';p',\n '<',\n '<,',\n '<-',\n '<--',\n '<---',\n '<----',\n '<----------',\n '<3',\n \"<3's\",\n '<33',\n '<333',\n '<3333',\n '<33333',\n '<333333333',\n '<3333333333333333',\n '<33333333333333333',\n '<<',\n '<<<',\n '<<<<',\n '<<<<,',\n '<<<<<',\n '<<<<<<',\n '<<<<<<,',\n '<<<<<<<',\n '<<<<<<<<<<<<<<',\n '<empty>',\n '<perk>',\n '<~~~',\n '=',\n \"='s\",\n '=(',\n '=)',\n '=-\\\\',\n '=/',\n '=D',\n '=O',\n '=[',\n '=]',\n '=p',\n '>',\n '>.>',\n '>.>->',\n '>:->',\n '>>>',\n '>>>>>>>>>>',\n '>>>>>>>>>>>',\n '>>>>>>>>>>>>',\n '>?',\n '>_>',\n '?',\n '?!',\n '?!?!',\n '?!?!?',\n \"?'\",\n '?.',\n '?..',\n '?....',\n '??',\n '??!!',\n '??!?!??!',\n '???',\n '????',\n '?????',\n '??????',\n '???????',\n '????????',\n '?????????',\n '??@',\n '@',\n '@$$',\n \"@-,'~\",\n \"@..3-,'~.\",\n 'B',\n 'BAAAAALLLLLLLLIIIIIIINNNNNNNNNNN',\n 'BE',\n 'BIG',\n 'BLONDES',\n 'BOOTS',\n 'BOOTY',\n 'BOY',\n 'BUT',\n 'BUt',\n 'BYE',\n 'Back',\n 'Barbieee',\n 'Barometer',\n 'Beach',\n 'Because',\n 'Been',\n 'Ben',\n 'Benjamin',\n 'Better',\n 'Bible',\n 'Biiiiiitch',\n 'Biographys',\n 'Birdgang',\n 'Bloooooooood',\n 'Bloooooooooood',\n 'Bloooooooooooood',\n 'Bone',\n 'Bonus',\n 'Books',\n 'Boone',\n 'Booyah',\n 'Borat',\n 'Born',\n 'Box',\n 'Boyz',\n 'Break',\n 'Breaking',\n 'Broken',\n 'Bud',\n 'Burger',\n 'But',\n 'Bwhaha',\n 'Bye',\n 'C',\n 'CA',\n 'CALI',\n 'CAN',\n 'CAPS',\n 'CDT',\n 'CHAT',\n 'CHATHIDE',\n 'CHIPS',\n 'CHOCO',\n 'CO',\n 'COM',\n 'COME',\n 'CSI',\n 'CST',\n 'CT',\n 'CUZ',\n 'California',\n 'Came',\n 'Can',\n 'CanEhda',\n 'Cardinals',\n 'Cardnials',\n 'Cards',\n 'Care',\n 'Carolina',\n 'Catterick',\n 'Ceiling',\n 'Chamillionaire',\n 'Change',\n 'Changing',\n 'Chat',\n 'Check',\n 'Checked',\n 'Cheeeez',\n 'Chica',\n 'Chickens',\n 'Children',\n 'China',\n 'Chingy',\n 'Chop',\n 'Chris',\n 'Christianity',\n 'Ciara',\n 'City',\n 'Cleveland',\n 'Clock',\n 'Coincidence',\n 'Come',\n 'Compliments',\n 'Connected',\n 'Connecticutt',\n 'Considerably',\n 'Constitution',\n 'Cookies',\n 'Cool',\n 'Could',\n 'Course',\n 'Covered',\n 'Cradle',\n 'Craig',\n 'Crazy',\n 'Cream',\n 'Cry',\n 'Ct',\n 'Ctrl',\n 'Cum',\n 'Current',\n 'Cute',\n 'Cyber',\n 'D',\n 'DAMN',\n 'DAamn',\n 'DELIGHTFUL',\n 'DETROIT',\n 'DING',\n 'DIRTY',\n 'DJ',\n 'DO',\n 'DOES',\n 'DOING',\n 'DON',\n 'DONT',\n 'DOWNS',\n 'DVD',\n 'Dakota',\n 'Damn',\n 'Dang',\n 'Daniel',\n 'Daveeee',\n 'David',\n 'Dawn',\n 'Dawnstar',\n 'Days',\n 'Death',\n 'Deep',\n 'Define',\n 'Denver',\n 'Depends',\n 'Devil',\n 'Dew',\n 'Diary',\n 'Did',\n 'Diego',\n 'Dipset',\n 'Dixie',\n 'Do',\n 'Does',\n 'Doing',\n 'Dokken',\n 'Dolls',\n 'Dood',\n 'Down',\n 'Downy',\n 'Dr',\n 'Dr.',\n 'Dreams',\n 'Drew',\n 'Drive',\n 'Drop',\n 'Dude',\n 'Dustin',\n 'Dying',\n 'F',\n 'F5',\n 'FACE',\n 'FEMALE',\n 'FF',\n 'FINE',\n 'FL',\n 'FOLKS',\n 'FROM',\n 'Fade',\n 'Fails',\n 'Fairbanks',\n 'Favorite',\n 'Females',\n 'Fergalicious',\n 'Fergie',\n 'Fetish',\n 'Fighting',\n 'Figured',\n 'Filth',\n 'Finally',\n 'Finding',\n 'Finger',\n 'Fingers',\n 'First',\n 'Fisher',\n 'Fishers',\n 'Fix',\n 'Fixed',\n 'Flames',\n 'Flatts',\n 'Florida',\n 'Foley',\n 'Food',\n 'For',\n 'Fort',\n 'Foxwoods',\n 'FreesBee',\n 'Friday',\n 'From',\n 'Froogle',\n 'G',\n 'G-Mobile',\n 'GA',\n 'GIRL',\n 'GIRLS',\n 'GN',\n 'GNG',\n 'GOING',\n 'GOOD',\n 'GUYS',\n 'Gay',\n 'Geographic',\n 'Get',\n 'Ghetto',\n 'Girl',\n 'Go',\n 'God',\n 'Good',\n 'Gorda',\n 'Gosh',\n 'Gothic',\n 'Gracemont',\n 'Great',\n 'Greetings',\n 'GrlZ',\n 'Groups',\n 'Gs',\n 'Guess',\n 'Guy',\n 'H',\n 'H0rny',\n 'HAHA',\n 'HAHAHA',\n 'HALO',\n 'HAVE',\n 'HE',\n 'HELLO',\n 'HERE',\n 'HEY',\n 'HHEEYYYYYYYYYYYYYYYYYYYYYYYYYYYYYYYYYYYYYYYYYYYYYYY',\n 'HI',\n 'HOT',\n 'HOTT',\n 'HOW',\n 'HUGE',\n 'HUH',\n 'Ha',\n 'Haha',\n 'Hahaaaa',\n 'Hahhaa',\n 'Hail',\n 'Hallo',\n 'Hand',\n 'Hard',\n 'Harmony',\n 'Have',\n 'Hay',\n 'He',\n 'Hello',\n 'Help',\n 'Her',\n 'Here',\n 'Hero',\n 'Hey',\n 'Heya',\n 'Heys',\n 'Heyy',\n 'Heyyy',\n 'Heyyyyyyy',\n 'Hi',\n 'High',\n 'Highway',\n 'Hill',\n 'History',\n 'Hiya',\n 'Hmm',\n 'Hold',\n 'Holla',\n 'Holland',\n 'HolocaustYourMom',\n 'Holy',\n 'Home',\n 'Horace',\n 'Hott',\n 'How',\n 'Howdy',\n 'Hug',\n 'Hughes',\n 'Hugs',\n 'Huh',\n 'Humidity',\n 'Hummmm',\n 'Hungry',\n 'JESUS',\n 'JOIN',\n 'JRZ',\n 'JTo',\n 'JUST',\n 'Jam',\n 'James',\n 'Jane',\n 'Jason',\n 'Jayse',\n 'Jerketts',\n 'Jess',\n 'Jesus',\n 'Jeter',\n 'Joe',\n 'Joey',\n 'John',\n 'Jon',\n 'Jones',\n 'Jonesboro',\n 'Jordison',\n 'Joshy',\n 'Judy',\n 'Just',\n 'Justin',\n 'K',\n 'K-Fed',\n 'KNOW',\n 'Kansas',\n 'Kellogs',\n 'Kent',\n 'Kentucky',\n 'Kewl',\n 'Kick',\n 'Kids',\n 'King',\n 'Kiss',\n 'Kittie',\n 'KoOL',\n 'Kold',\n 'LA',\n 'LATE',\n 'LATER',\n 'LAst',\n 'LIVE',\n 'LIX',\n 'LMAO',\n 'LOL',\n 'LOLOLOLLL',\n 'LONG',\n 'LONLEY',\n 'LOUD',\n 'LOUDER',\n 'LOVES',\n 'LOl',\n 'LPN',\n 'Ladies',\n 'Laguna',\n 'Lampert',\n 'Last',\n 'Laters',\n 'Lay',\n 'Lee',\n 'Leeches',\n 'Length',\n 'Let',\n 'Lets',\n 'Liam',\n 'Lies',\n 'Life',\n 'Like',\n 'Lil',\n 'Lime',\n 'Lion',\n 'Lithium',\n 'Little',\n 'Live',\n 'Lives',\n 'Living',\n 'Lmao',\n 'Lmfao',\n 'LoL',\n 'LoVe',\n 'Lol',\n 'London',\n 'Long',\n 'Look',\n 'Looking',\n 'Lord',\n 'Louisville',\n 'Lousiana',\n 'Love',\n 'Lovely',\n 'LuverZ',\n 'M',\n 'MAN',\n 'MATCH',\n 'MD',\n 'ME',\n 'MISHAP',\n 'MODE',\n 'MORE',\n 'MOUTH',\n 'MP3',\n 'MRIs',\n 'MSN',\n 'MUAH',\n 'MY',\n 'Maidstone',\n 'Male',\n 'Man',\n 'Maps',\n 'Marlaya',\n 'Martian',\n 'Marvin',\n 'Mary',\n 'Matt',\n 'Max',\n 'Maybe',\n 'Me',\n 'Meep',\n 'Meh',\n 'Memory',\n 'Men',\n 'Mercy',\n 'Messaging',\n 'Metallica',\n 'Michigan',\n 'Midwest',\n 'Mine',\n 'Mmm',\n 'Mo',\n 'Mom',\n 'Money',\n 'Mono',\n 'Mooooooooooooooooooooooooooo',\n 'Morgan',\n 'Mp3',\n 'Ms',\n 'MsUtah',\n 'Muahz',\n 'Music',\n 'My',\n 'N',\n 'N\"T',\n \"N'T\",\n 'NAME',\n 'NC',\n 'NICK',\n 'NIght',\n 'NO',\n 'NONE',\n 'NOT',\n 'NOTICE',\n 'NTMN',\n 'NY',\n 'Nadda',\n 'Naples',\n 'Nashville',\n 'Need',\n 'Nevermind',\n 'New',\n 'News',\n 'Nice',\n 'Niceeee',\n 'Niceeeee',\n 'Nickelback',\n 'Night',\n 'Niters',\n 'No',\n 'None',\n 'Nooo',\n 'Nooooooooooooooo',\n 'Nope',\n 'Norah',\n 'Norfolk',\n 'North',\n 'Not',\n 'Nothing',\n 'Nova',\n 'Now',\n 'Nu',\n 'P',\n 'P.',\n 'P.ussy',\n 'PA',\n 'PART',\n 'PDT',\n 'PEOPLE',\n 'PERVS',\n 'PErvs',\n 'PM',\n \"PM's\",\n 'PMING',\n 'PMSL',\n 'PMing',\n 'PMs',\n 'PRIVMSG',\n 'PS',\n 'PST',\n 'Pa',\n 'Painted',\n 'Parkway',\n 'Pastor',\n 'Pat',\n 'Patient',\n 'Paul',\n 'Paxil',\n 'PayPal',\n 'Pearl',\n 'People',\n 'Perception',\n 'Permenant',\n 'Phil',\n 'Pic',\n 'Pierre',\n 'Player',\n 'Playing',\n 'Playstation',\n 'Please',\n 'Plssss',\n 'PmS',\n 'Point',\n 'Poor',\n 'Post-haste',\n 'Pounder',\n 'Pour',\n 'Private',\n 'Prof',\n 'Puddle',\n 'Pullin',\n 'Punta',\n 'QQ',\n 'QUESTION',\n 'QUIT',\n 'Quarter',\n 'Question',\n 'R',\n 'RI',\n 'RIGHT',\n \"RN's\",\n 'ROFL',\n 'ROOM',\n 'RULES',\n 'RUN',\n 'Randy',\n 'Rang',\n 'Rascal',\n 'Raymond',\n 'Reading',\n 'Really',\n 'Record',\n 'Red',\n 'Relax',\n 'Remember',\n 'Reminder',\n 'Repeatedly',\n ...]"
          },
          "metadata": {}
        }
      ]
    },
    {
      "metadata": {
        "slideshow": {
          "slide_type": "fragment"
        }
      },
      "cell_type": "markdown",
      "source": "Finding words made up entirely of non-vowel characters"
    },
    {
      "metadata": {
        "slideshow": {
          "slide_type": "slide"
        }
      },
      "cell_type": "markdown",
      "source": "## Regex Precedence Hierarchy\n\n\n| Operator               | Examples |\n| --- | --- |\n| Parenthesis            | () |\n| Counters               | * + ? {} |\n| Sequences and anchors  | the      ^my end$ |\n| Disjunction            | | \n\n\n* The regex `guppy|ies` matches only `guppy` and `ies`\n* The regex `gupp(y|ies)` matches `guppy` and `guppies`\n* The regex `the*` matches `theeeee` but not `thethe`\n* The regex `(the)*` matches `thethe` but not `theeeeee`"
    },
    {
      "metadata": {
        "slideshow": {
          "slide_type": "slide"
        }
      },
      "cell_type": "markdown",
      "source": "## Regex: Counting Expressions\n\n\n| Symbol | Meaning |\n| --- | --- |\n| {n}   |       `n` number of previous RE |\n| {m,n} |      from `m` to `n` number of previous RE |\n| {n, } |      at least `n` number of previous RE |\n| {, n} |      no more than `n` repeats |\n"
    },
    {
      "metadata": {
        "slideshow": {
          "slide_type": "slide"
        },
        "trusted": true
      },
      "cell_type": "code",
      "source": "wsj = sorted(set(nltk.corpus.treebank.words()))\n[w for w in wsj if re.search('^[0-9]+\\.[0-9]+$', w)]",
      "execution_count": 35,
      "outputs": [
        {
          "output_type": "execute_result",
          "execution_count": 35,
          "data": {
            "text/plain": "['0.0085',\n '0.05',\n '0.1',\n '0.16',\n '0.2',\n '0.25',\n '0.28',\n '0.3',\n '0.4',\n '0.5',\n '0.50',\n '0.54',\n '0.56',\n '0.60',\n '0.7',\n '0.82',\n '0.84',\n '0.9',\n '0.95',\n '0.99',\n '1.01',\n '1.1',\n '1.125',\n '1.14',\n '1.1650',\n '1.17',\n '1.18',\n '1.19',\n '1.2',\n '1.20',\n '1.24',\n '1.25',\n '1.26',\n '1.28',\n '1.35',\n '1.39',\n '1.4',\n '1.457',\n '1.46',\n '1.49',\n '1.5',\n '1.50',\n '1.55',\n '1.56',\n '1.5755',\n '1.5805',\n '1.6',\n '1.61',\n '1.637',\n '1.64',\n '1.65',\n '1.7',\n '1.75',\n '1.76',\n '1.8',\n '1.82',\n '1.8415',\n '1.85',\n '1.8500',\n '1.9',\n '1.916',\n '1.92',\n '10.19',\n '10.2',\n '10.5',\n '107.03',\n '107.9',\n '109.73',\n '11.10',\n '11.5',\n '11.57',\n '11.6',\n '11.72',\n '11.95',\n '112.9',\n '113.2',\n '116.3',\n '116.4',\n '116.7',\n '116.9',\n '118.6',\n '12.09',\n '12.5',\n '12.52',\n '12.68',\n '12.7',\n '12.82',\n '12.97',\n '120.7',\n '1206.26',\n '121.6',\n '126.1',\n '126.15',\n '127.03',\n '129.91',\n '13.1',\n '13.15',\n '13.5',\n '13.50',\n '13.625',\n '13.65',\n '13.73',\n '13.8',\n '13.90',\n '130.6',\n '130.7',\n '131.01',\n '132.9',\n '133.7',\n '133.8',\n '14.00',\n '14.13',\n '14.26',\n '14.28',\n '14.43',\n '14.5',\n '14.53',\n '14.54',\n '14.6',\n '14.75',\n '14.99',\n '141.9',\n '142.84',\n '142.85',\n '143.08',\n '143.80',\n '143.93',\n '148.9',\n '149.9',\n '15.5',\n '150.00',\n '153.3',\n '154.2',\n '16.05',\n '16.09',\n '16.125',\n '16.2',\n '16.5',\n '16.68',\n '16.7',\n '16.9',\n '169.9',\n '17.3',\n '17.4',\n '17.5',\n '17.95',\n '1738.1',\n '176.1',\n '18.3',\n '18.6',\n '18.95',\n '185.9',\n '188.84',\n '19.3',\n '19.50',\n '19.6',\n '19.94',\n '19.95',\n '191.9',\n '2.07',\n '2.1',\n '2.15',\n '2.19',\n '2.2',\n '2.25',\n '2.29',\n '2.3',\n '2.30',\n '2.35',\n '2.375',\n '2.4',\n '2.42',\n '2.44',\n '2.46',\n '2.47',\n '2.5',\n '2.50',\n '2.6',\n '2.62',\n '2.65',\n '2.7',\n '2.75',\n '2.8',\n '2.80',\n '2.87',\n '2.875',\n '2.9',\n '2.95',\n '20.07',\n '20.5',\n '21.1',\n '21.9',\n '2141.7',\n '2160.1',\n '2163.2',\n '22.75',\n '220.45',\n '221.4',\n '225.6',\n '23.25',\n '23.4',\n '23.5',\n '23.72',\n '234.4',\n '236.74',\n '236.79',\n '24.95',\n '25.50',\n '25.6',\n '251.2',\n '26.2',\n '26.5',\n '26.8',\n '263.07',\n '2645.90',\n '2691.19',\n '27.1',\n '27.4',\n '273.5',\n '278.7',\n '28.25',\n '28.36',\n '28.4',\n '28.5',\n '28.53',\n '28.6',\n '29.3',\n '29.4',\n '29.9',\n '292.32',\n '3.01',\n '3.04',\n '3.1',\n '3.16',\n '3.18',\n '3.19',\n '3.2',\n '3.20',\n '3.23',\n '3.253',\n '3.28',\n '3.3',\n '3.35',\n '3.375',\n '3.4',\n '3.42',\n '3.43',\n '3.5',\n '3.55',\n '3.6',\n '3.61',\n '3.625',\n '3.7',\n '3.75',\n '3.8',\n '3.80',\n '3.9',\n '30.6',\n '30.9',\n '319.75',\n '32.8',\n '334.5',\n '34.625',\n '341.20',\n '3436.58',\n '35.2',\n '35.7',\n '352.7',\n '352.9',\n '35500.64',\n '35564.43',\n '36.9',\n '361.8',\n '3648.82',\n '37.3',\n '37.5',\n '372.14',\n '372.9',\n '374.19',\n '374.20',\n '377.60',\n '38.3',\n '38.375',\n '38.5',\n '38.875',\n '387.8',\n '4.1',\n '4.10',\n '4.2',\n '4.25',\n '4.3',\n '4.4',\n '4.5',\n '4.55',\n '4.6',\n '4.7',\n '4.75',\n '4.8',\n '4.875',\n '4.898',\n '4.9',\n '40.21',\n '41.60',\n '415.6',\n '415.8',\n '42.1',\n '42.5',\n '422.5',\n '43.875',\n '434.4',\n '436.01',\n '446.62',\n '449.04',\n '45.2',\n '45.3',\n '45.75',\n '456.64',\n '46.1',\n '47.1',\n '47.125',\n '47.5',\n '47.6',\n '49.9',\n '494.50',\n '497.34',\n '5.1',\n '5.2180',\n '5.276',\n '5.29',\n '5.3',\n '5.39',\n '5.4',\n '5.435',\n '5.5',\n '5.57',\n '5.6',\n '5.63',\n '5.7',\n '5.70',\n '5.8',\n '5.82',\n '5.9',\n '5.92',\n '50.1',\n '50.38',\n '50.45',\n '51.25',\n '51.6',\n '55.1',\n '566.54',\n '57.50',\n '57.6',\n '57.7',\n '58.64',\n '59.6',\n '59.9',\n '6.03',\n '6.1',\n '6.20',\n '6.21',\n '6.25',\n '6.4',\n '6.40',\n '6.44',\n '6.5',\n '6.50',\n '6.53',\n '6.6',\n '6.7',\n '6.70',\n '6.79',\n '6.84',\n '6.9',\n '60.36',\n '618.1',\n '62.1',\n '62.5',\n '62.625',\n '63.79',\n '630.9',\n '64.5',\n '66.5',\n '7.15',\n '7.2',\n '7.20',\n '7.272',\n '7.3',\n '7.4',\n '7.40',\n '7.422',\n '7.45',\n '7.458',\n '7.5',\n '7.50',\n '7.52',\n '7.55',\n '7.60',\n '7.62',\n '7.63',\n '7.65',\n '7.74',\n '7.78',\n '7.79',\n '7.8',\n '7.80',\n '7.84',\n '7.88',\n '7.90',\n '7.95',\n '70.2',\n '70.7',\n '705.6',\n '72.7',\n '734.9',\n '737.5',\n '77.56',\n '77.6',\n '77.70',\n '8.04',\n '8.06',\n '8.07',\n '8.1',\n '8.12',\n '8.14',\n '8.15',\n '8.19',\n '8.2',\n '8.22',\n '8.25',\n '8.30',\n '8.35',\n '8.45',\n '8.467',\n '8.47',\n '8.48',\n '8.5',\n '8.50',\n '8.53',\n '8.55',\n '8.56',\n '8.575',\n '8.60',\n '8.64',\n '8.65',\n '8.70',\n '8.75',\n '8.9',\n '80.50',\n '80.8',\n '81.8',\n '811.9',\n '83.4',\n '84.29',\n '84.9',\n '85.1',\n '85.7',\n '86.12',\n '87.5',\n '88.32',\n '89.7',\n '89.9',\n '9.3',\n '9.32',\n '9.37',\n '9.45',\n '9.5',\n '9.625',\n '9.75',\n '9.8',\n '9.82',\n '9.9',\n '92.9',\n '93.3',\n '93.9',\n '94.2',\n '94.8',\n '95.09',\n '96.4',\n '98.3',\n '99.1',\n '99.3']"
          },
          "metadata": {}
        }
      ]
    },
    {
      "metadata": {
        "slideshow": {
          "slide_type": "slide"
        },
        "trusted": true
      },
      "cell_type": "code",
      "source": "[w for w in wsj if re.search('^[0-9]{4}$', w)]",
      "execution_count": 37,
      "outputs": [
        {
          "output_type": "execute_result",
          "execution_count": 37,
          "data": {
            "text/plain": "['1614',\n '1637',\n '1787',\n '1901',\n '1903',\n '1917',\n '1925',\n '1929',\n '1933',\n '1934',\n '1948',\n '1953',\n '1955',\n '1956',\n '1961',\n '1965',\n '1966',\n '1967',\n '1968',\n '1969',\n '1970',\n '1971',\n '1972',\n '1973',\n '1975',\n '1976',\n '1977',\n '1979',\n '1980',\n '1981',\n '1982',\n '1983',\n '1984',\n '1985',\n '1986',\n '1987',\n '1988',\n '1989',\n '1990',\n '1991',\n '1992',\n '1993',\n '1994',\n '1995',\n '1996',\n '1997',\n '1998',\n '1999',\n '2000',\n '2005',\n '2009',\n '2017',\n '2019',\n '2029',\n '3057',\n '8300']"
          },
          "metadata": {}
        }
      ]
    },
    {
      "metadata": {
        "slideshow": {
          "slide_type": "slide"
        },
        "trusted": true
      },
      "cell_type": "code",
      "source": "[w for w in wsj if re.search('^[0-9]+-[a-z]{3,5}$', w)]",
      "execution_count": 39,
      "outputs": [
        {
          "output_type": "execute_result",
          "execution_count": 39,
          "data": {
            "text/plain": "['10-day',\n '10-lap',\n '10-year',\n '100-share',\n '12-point',\n '12-year',\n '14-hour',\n '15-day',\n '150-point',\n '190-point',\n '20-point',\n '20-stock',\n '21-month',\n '237-seat',\n '240-page',\n '27-year',\n '30-day',\n '30-point',\n '30-share',\n '30-year',\n '300-day',\n '36-day',\n '36-store',\n '42-year',\n '50-state',\n '500-stock',\n '52-week',\n '69-point',\n '84-month',\n '87-store',\n '90-day']"
          },
          "metadata": {}
        }
      ]
    },
    {
      "metadata": {
        "slideshow": {
          "slide_type": "slide"
        }
      },
      "cell_type": "markdown",
      "source": "## Regex: Other Abbreviations\n\n| Symbol | Meaning |\n| --- | --- |\n| \\    |      escape character  |\n| \\.   |      match a period  |\n| \\n   |      newline character  |\n| \\b   |      word boundary  |\n| \\d   |      any digit [0-9]  |\n| \\w   |      any alphanumeric/underscore [a-zA-Z0-9_]  |\n| \\s   |      whitespace (space, tab) [ \\r\\t\\n\\f]  |\n"
    },
    {
      "metadata": {
        "slideshow": {
          "slide_type": "slide"
        }
      },
      "cell_type": "markdown",
      "source": "| Symbol | Meaning |\n| --- | --- |\n| \\D   |      any non-digit |\n| \\W   |      a non-alphanumeric |\n| \\S   |      non-whitespace |\n"
    },
    {
      "metadata": {
        "slideshow": {
          "slide_type": "slide"
        }
      },
      "cell_type": "markdown",
      "source": "#### Raw Strings\n\nPython will interpret `\\b` in a string as an indicator of a backspace\n* raw strings in python have the form `r'...'` to indicate that python shouldn’t try to interpret the string, but instead pass it to the `re` library "
    },
    {
      "metadata": {
        "slideshow": {
          "slide_type": "fragment"
        },
        "trusted": true
      },
      "cell_type": "code",
      "source": "[w for w in wsj if re.search(r'99\\b', w)]",
      "execution_count": 41,
      "outputs": [
        {
          "output_type": "execute_result",
          "execution_count": 41,
          "data": {
            "text/plain": "['*-99',\n '*T*-199',\n '*T*-99',\n '0.99',\n '14.99',\n '1991-1999',\n '1992-1999',\n '1999',\n '2,099',\n '5,699',\n '6,799',\n '99',\n '99.1',\n '99.3']"
          },
          "metadata": {}
        }
      ]
    },
    {
      "metadata": {
        "slideshow": {
          "slide_type": "slide"
        }
      },
      "cell_type": "markdown",
      "source": "## Useful Applications of Regular Expressions\n\n* `re.findall`\n* Joining Word Pieces\n* Finding Word Stems\n* Searching Tokenized Text"
    },
    {
      "metadata": {
        "slideshow": {
          "slide_type": "slide"
        }
      },
      "cell_type": "markdown",
      "source": "## `re.search` vs. `re.findall`\n\n* `re.search(p,w)` searches string `w` to see if it matches pattern `p` \n  * What does it return? \n* `re.findall(p,w)` finds all non-overlapping matches of pattern `p` in string `w` \n  * What does it return? \n"
    },
    {
      "metadata": {
        "slideshow": {
          "slide_type": "slide"
        },
        "trusted": true
      },
      "cell_type": "code",
      "source": "word = 'supercalifragilisticexpialidocious'\nprint(re.findall(r'[aeiou]', word))\nlen(re.findall(r'[aeiou]', word))",
      "execution_count": 43,
      "outputs": [
        {
          "output_type": "stream",
          "text": "['u', 'e', 'a', 'i', 'a', 'i', 'i', 'i', 'e', 'i', 'a', 'i', 'o', 'i', 'o', 'u']\n",
          "name": "stdout"
        },
        {
          "output_type": "execute_result",
          "execution_count": 43,
          "data": {
            "text/plain": "16"
          },
          "metadata": {}
        }
      ]
    },
    {
      "metadata": {
        "slideshow": {
          "slide_type": "fragment"
        },
        "trusted": true
      },
      "cell_type": "code",
      "source": "print(re.search(r'[aeiou]',word))\nprint(re.search(r'[b]',word))",
      "execution_count": 45,
      "outputs": [
        {
          "output_type": "stream",
          "text": "<_sre.SRE_Match object; span=(1, 2), match='u'>\nNone\n",
          "name": "stdout"
        }
      ]
    },
    {
      "metadata": {
        "slideshow": {
          "slide_type": "fragment"
        },
        "trusted": true
      },
      "cell_type": "code",
      "source": "[w for w in wsj if re.search('^[0-9]+-[a-z]{3,5}$', w)]",
      "execution_count": 46,
      "outputs": [
        {
          "output_type": "execute_result",
          "execution_count": 46,
          "data": {
            "text/plain": "['10-day',\n '10-lap',\n '10-year',\n '100-share',\n '12-point',\n '12-year',\n '14-hour',\n '15-day',\n '150-point',\n '190-point',\n '20-point',\n '20-stock',\n '21-month',\n '237-seat',\n '240-page',\n '27-year',\n '30-day',\n '30-point',\n '30-share',\n '30-year',\n '300-day',\n '36-day',\n '36-store',\n '42-year',\n '50-state',\n '500-stock',\n '52-week',\n '69-point',\n '84-month',\n '87-store',\n '90-day']"
          },
          "metadata": {}
        }
      ]
    },
    {
      "metadata": {
        "slideshow": {
          "slide_type": "slide"
        }
      },
      "cell_type": "markdown",
      "source": "### Example: Sequences of two or more vowels, and counting their relative frequency:"
    },
    {
      "metadata": {
        "slideshow": {
          "slide_type": "fragment"
        },
        "trusted": true
      },
      "cell_type": "code",
      "source": "wsj = sorted(set(nltk.corpus.treebank.words()))\nfd = nltk.FreqDist(vs for word in wsj\n                      for vs in re.findall(r'[aeiou]{2,}', word))\nfd.items()",
      "execution_count": 47,
      "outputs": [
        {
          "output_type": "execute_result",
          "execution_count": 47,
          "data": {
            "text/plain": "dict_items([('iou', 27), ('uou', 5), ('oei', 1), ('ae', 11), ('ee', 217), ('uo', 8), ('eei', 2), ('ieu', 3), ('aii', 1), ('ao', 6), ('ia', 253), ('ua', 109), ('ai', 261), ('aiia', 1), ('au', 106), ('eou', 5), ('ei', 86), ('ie', 331), ('ioa', 1), ('uie', 3), ('eea', 1), ('eau', 10), ('oi', 65), ('iao', 1), ('oe', 15), ('oui', 6), ('ue', 105), ('oo', 174), ('io', 549), ('ueui', 1), ('iu', 14), ('aia', 1), ('ooi', 1), ('uu', 1), ('ou', 329), ('aa', 3), ('oa', 59), ('uee', 4), ('eo', 39), ('ui', 95), ('eu', 18), ('iai', 1), ('ea', 476)])"
          },
          "metadata": {}
        }
      ]
    },
    {
      "metadata": {
        "slideshow": {
          "slide_type": "slide"
        }
      },
      "cell_type": "markdown",
      "source": "### Example: use of `''.join()`"
    },
    {
      "metadata": {
        "slideshow": {
          "slide_type": "fragment"
        }
      },
      "cell_type": "markdown",
      "source": "Converting a list of words into a String:"
    },
    {
      "metadata": {
        "slideshow": {
          "slide_type": "fragment"
        },
        "trusted": true
      },
      "cell_type": "code",
      "source": "silly = ['We', 'called', 'him', 'Tortoise', 'because', 'he', 'taught', 'us', '.']\n' '.join(silly)",
      "execution_count": 48,
      "outputs": [
        {
          "output_type": "execute_result",
          "execution_count": 48,
          "data": {
            "text/plain": "'We called him Tortoise because he taught us .'"
          },
          "metadata": {}
        }
      ]
    },
    {
      "metadata": {
        "slideshow": {
          "slide_type": "fragment"
        },
        "trusted": true
      },
      "cell_type": "code",
      "source": "';'.join(silly)",
      "execution_count": 49,
      "outputs": [
        {
          "output_type": "execute_result",
          "execution_count": 49,
          "data": {
            "text/plain": "'We;called;him;Tortoise;because;he;taught;us;.'"
          },
          "metadata": {}
        }
      ]
    },
    {
      "metadata": {
        "slideshow": {
          "slide_type": "fragment"
        },
        "trusted": true
      },
      "cell_type": "code",
      "source": "''.join(silly)",
      "execution_count": 50,
      "outputs": [
        {
          "output_type": "execute_result",
          "execution_count": 50,
          "data": {
            "text/plain": "'WecalledhimTortoisebecausehetaughtus.'"
          },
          "metadata": {}
        }
      ]
    },
    {
      "metadata": {
        "slideshow": {
          "slide_type": "slide"
        }
      },
      "cell_type": "markdown",
      "source": "### Example: Removing Inner Vowels\n\nIn English, it is still possible to read text when word-internal vowels are removed.\n* `declaration` ⇒ `dclrtn`\n* `inalienable` ⇒ `inlnble` "
    },
    {
      "metadata": {
        "slideshow": {
          "slide_type": "slide"
        },
        "trusted": true
      },
      "cell_type": "code",
      "source": "regexp = r'^[AEIOUaeiou]+|[AEIOUaeiou]+$|[^AEIOUaeiou]'\n\ndef compress(word):\n  pieces = re.findall(regexp, word)\n  return ''.join(pieces)\n\nenglish_udhr = nltk.corpus.udhr.words('English-Latin1')\n\n' '.join(compress(w) for w in english_udhr[:75])",
      "execution_count": 52,
      "outputs": [
        {
          "output_type": "execute_result",
          "execution_count": 52,
          "data": {
            "text/plain": "'Unvrsl Dclrtn of Hmn Rghts Prmble Whrs rcgntn of the inhrnt dgnty and of the eql and inlnble rghts of all mmbrs of the hmn fmly is the fndtn of frdm , jstce and pce in the wrld , Whrs dsrgrd and cntmpt fr hmn rghts hve rsltd in brbrs acts whch hve outrgd the cnscnce of mnknd , and the advnt of a wrld in whch hmn bngs shll enjy frdm of spch and'"
          },
          "metadata": {}
        }
      ]
    },
    {
      "metadata": {
        "slideshow": {
          "slide_type": "fragment"
        }
      },
      "cell_type": "markdown",
      "source": "Why does it work? Is order of regex important?"
    },
    {
      "metadata": {
        "slideshow": {
          "slide_type": "fragment"
        }
      },
      "cell_type": "markdown",
      "source": "Yes, the search pattern disjunction is processed left to right"
    },
    {
      "metadata": {
        "slideshow": {
          "slide_type": "slide"
        }
      },
      "cell_type": "markdown",
      "source": "### Example: Suffix of a Word"
    },
    {
      "metadata": {
        "slideshow": {
          "slide_type": "fragment"
        }
      },
      "cell_type": "markdown",
      "source": "_Method_ that returns root of word:"
    },
    {
      "metadata": {
        "slideshow": {
          "slide_type": "fragment"
        },
        "trusted": true
      },
      "cell_type": "code",
      "source": "def stem(word):\n    for suffix in ['ing', 'ly', 'ed', 'ious', 'ies', 'ive', 'es', 's', 'men']:\n        if word.endswith(suffix):\n            return word[:-len(suffix)]\n    return word",
      "execution_count": 53,
      "outputs": []
    },
    {
      "metadata": {
        "slideshow": {
          "slide_type": "fragment"
        },
        "trusted": true
      },
      "cell_type": "code",
      "source": "stem('processing')",
      "execution_count": 54,
      "outputs": [
        {
          "output_type": "execute_result",
          "execution_count": 54,
          "data": {
            "text/plain": "'process'"
          },
          "metadata": {}
        }
      ]
    },
    {
      "metadata": {
        "slideshow": {
          "slide_type": "fragment"
        }
      },
      "cell_type": "markdown",
      "source": "_Regular Expression_ that returns suffix of word:"
    },
    {
      "metadata": {
        "slideshow": {
          "slide_type": "fragment"
        },
        "trusted": true
      },
      "cell_type": "code",
      "source": "re.findall(r'^.*(ing|ly|ed|ious|ies|ive|es|s|ment)$', 'processing')",
      "execution_count": 55,
      "outputs": [
        {
          "output_type": "execute_result",
          "execution_count": 55,
          "data": {
            "text/plain": "['ing']"
          },
          "metadata": {}
        }
      ]
    },
    {
      "metadata": {
        "slideshow": {
          "slide_type": "slide"
        }
      },
      "cell_type": "markdown",
      "source": "Why the parenthesis?\n* “order of operation” – to limit the scope of the disjunction \n* so that interpretation is not `.*ing | ly | ed | ...` \n* concatenation binds tighter than alternation "
    },
    {
      "metadata": {
        "slideshow": {
          "slide_type": "fragment"
        }
      },
      "cell_type": "markdown",
      "source": "* `re.findall()` returned only the suffix even though the entire word matched \n* parenthesis also selects substrings to be extracted/returned "
    },
    {
      "metadata": {
        "slideshow": {
          "slide_type": "slide"
        }
      },
      "cell_type": "markdown",
      "source": "Returning entire word:"
    },
    {
      "metadata": {
        "slideshow": {
          "slide_type": "fragment"
        },
        "trusted": true
      },
      "cell_type": "code",
      "source": "re.findall(r'^.*(?:ing|ly|ed|ious|ies|ive|es|s|ment)$', 'processing')",
      "execution_count": 57,
      "outputs": [
        {
          "output_type": "execute_result",
          "execution_count": 57,
          "data": {
            "text/plain": "['processing']"
          },
          "metadata": {}
        }
      ]
    },
    {
      "metadata": {
        "slideshow": {
          "slide_type": "slide"
        }
      },
      "cell_type": "markdown",
      "source": "Returning (root, stem) tuple pair:"
    },
    {
      "metadata": {
        "slideshow": {
          "slide_type": "fragment"
        },
        "trusted": true
      },
      "cell_type": "code",
      "source": "re.findall(r'^(.*)(ing|ly|ed|ious|ies|ive|es|s|ment)$', 'processing')",
      "execution_count": 58,
      "outputs": [
        {
          "output_type": "execute_result",
          "execution_count": 58,
          "data": {
            "text/plain": "[('process', 'ing')]"
          },
          "metadata": {}
        }
      ]
    },
    {
      "metadata": {
        "slideshow": {
          "slide_type": "slide"
        }
      },
      "cell_type": "markdown",
      "source": "### Closure is Greedy"
    },
    {
      "metadata": {
        "slideshow": {
          "slide_type": "fragment"
        }
      },
      "cell_type": "markdown",
      "source": "What will this regex return?"
    },
    {
      "metadata": {
        "slideshow": {
          "slide_type": "fragment"
        },
        "trusted": true
      },
      "cell_type": "code",
      "source": "re.findall(r'^(.*)(ing|ly|ed|ious|ies|ive|es|s|ment)$', 'processes')",
      "execution_count": 60,
      "outputs": [
        {
          "output_type": "execute_result",
          "execution_count": 60,
          "data": {
            "text/plain": "[('processe', 's')]"
          },
          "metadata": {}
        }
      ]
    },
    {
      "metadata": {
        "slideshow": {
          "slide_type": "slide"
        }
      },
      "cell_type": "markdown",
      "source": "UH OH!!!\n\nThe `*` operator is **greedy** in the sense that `.*` tries to consume as much of the input as possible. \n\nNon-greedy version of star operator: `*?`"
    },
    {
      "metadata": {
        "slideshow": {
          "slide_type": "fragment"
        },
        "trusted": true
      },
      "cell_type": "code",
      "source": "re.findall(r'^(.*?)(ing|ly|ed|ious|ies|ive|es|s|ment)$', 'processes')",
      "execution_count": 61,
      "outputs": [
        {
          "output_type": "execute_result",
          "execution_count": 61,
          "data": {
            "text/plain": "[('process', 'es')]"
          },
          "metadata": {}
        }
      ]
    },
    {
      "metadata": {
        "slideshow": {
          "slide_type": "slide"
        }
      },
      "cell_type": "markdown",
      "source": "### Regex stemmer does a decent job"
    },
    {
      "metadata": {
        "slideshow": {
          "slide_type": "fragment"
        },
        "trusted": true
      },
      "cell_type": "code",
      "source": "def stem(word):\n    regexp = r'^(.*?)(ing|ly|ed|ious|ies|ive|es|s|ment)?$'\n    stem, suffix = re.findall(regexp, word)[0]\n    return stem",
      "execution_count": 63,
      "outputs": []
    },
    {
      "metadata": {
        "slideshow": {
          "slide_type": "fragment"
        },
        "trusted": true
      },
      "cell_type": "code",
      "source": "raw = \"\"\"DENNIS: Listen, strange women lying in ponds distributing swords\nis no basis for a system of government.  Supreme executive power derives\nfrom a mandate from the masses, not from some farcical aquatic ceremony.\"\"\"\n\ntokens = nltk.word_tokenize(raw)\n\ntokens",
      "execution_count": 64,
      "outputs": [
        {
          "output_type": "execute_result",
          "execution_count": 64,
          "data": {
            "text/plain": "['DENNIS',\n ':',\n 'Listen',\n ',',\n 'strange',\n 'women',\n 'lying',\n 'in',\n 'ponds',\n 'distributing',\n 'swords',\n 'is',\n 'no',\n 'basis',\n 'for',\n 'a',\n 'system',\n 'of',\n 'government',\n '.',\n 'Supreme',\n 'executive',\n 'power',\n 'derives',\n 'from',\n 'a',\n 'mandate',\n 'from',\n 'the',\n 'masses',\n ',',\n 'not',\n 'from',\n 'some',\n 'farcical',\n 'aquatic',\n 'ceremony',\n '.']"
          },
          "metadata": {}
        }
      ]
    },
    {
      "metadata": {
        "slideshow": {
          "slide_type": "slide"
        },
        "trusted": true
      },
      "cell_type": "code",
      "source": "[stem(t) for t in tokens]",
      "execution_count": 65,
      "outputs": [
        {
          "output_type": "execute_result",
          "execution_count": 65,
          "data": {
            "text/plain": "['DENNIS',\n ':',\n 'Listen',\n ',',\n 'strange',\n 'women',\n 'ly',\n 'in',\n 'pond',\n 'distribut',\n 'sword',\n 'i',\n 'no',\n 'basi',\n 'for',\n 'a',\n 'system',\n 'of',\n 'govern',\n '.',\n 'Supreme',\n 'execut',\n 'power',\n 'deriv',\n 'from',\n 'a',\n 'mandate',\n 'from',\n 'the',\n 'mass',\n ',',\n 'not',\n 'from',\n 'some',\n 'farcical',\n 'aquatic',\n 'ceremony',\n '.']"
          },
          "metadata": {}
        }
      ]
    },
    {
      "metadata": {
        "slideshow": {
          "slide_type": "slide"
        }
      },
      "cell_type": "markdown",
      "source": "### Representing Word Boundaries"
    },
    {
      "metadata": {
        "slideshow": {
          "slide_type": "fragment"
        }
      },
      "cell_type": "markdown",
      "source": "Recall that:\n* `\\b` represents a word boundary \n* `\\s` represents white space character \n* `<` and `>` can also be used to mark token boundaries (NLTK only) \n  * whitespace between the angle brackets is ignored "
    },
    {
      "metadata": {
        "slideshow": {
          "slide_type": "slide"
        },
        "trusted": false
      },
      "cell_type": "code",
      "source": "from nltk.corpus import gutenberg\nmoby = nltk.Text(gutenberg.words('melville-moby_dick.txt'))\nmoby.findall(r\"<a> (<.*>) <man>\")",
      "execution_count": null,
      "outputs": []
    },
    {
      "metadata": {
        "slideshow": {
          "slide_type": "fragment"
        }
      },
      "cell_type": "markdown",
      "source": "Note: `moby` is an object with the method `findall()`"
    },
    {
      "metadata": {
        "slideshow": {
          "slide_type": "slide"
        },
        "trusted": false
      },
      "cell_type": "code",
      "source": "re.findall(r\"\\ba\\b (\\b\\w*\\b) \\bman\\b\", gutenberg.raw('melville-moby_dick.txt'))",
      "execution_count": null,
      "outputs": []
    },
    {
      "metadata": {
        "slideshow": {
          "slide_type": "slide"
        }
      },
      "cell_type": "markdown",
      "source": "### Regular Expressions in Python 3\n\nRegular expressions are compiled into **pattern objects**:\n* methods for **searching for string patterns**\n* or performing **string substitutions**"
    },
    {
      "metadata": {
        "slideshow": {
          "slide_type": "fragment"
        },
        "trusted": false
      },
      "cell_type": "code",
      "source": "import re\np = re.compile('ab*')\np",
      "execution_count": null,
      "outputs": []
    },
    {
      "metadata": {
        "slideshow": {
          "slide_type": "slide"
        }
      },
      "cell_type": "markdown",
      "source": "## Compiled regex object Methods\n\n| Method/Attribute  |      Purpose |\n| --- | --- |\n| match()    |             Determine if the RE matches at the beginning of the string. |\n| search()    |            Scan through a string, looking for any location where this RE matches. |\n| findall()    |           Find all substrings where the RE matches, and returns them as a list. |\n| finditer()    |          Find all substrings where the RE matches, and returns them as an iterator. |\n\n\n* `match()` and `search()` return a `Match` object or `None`\n* `findall()` has to create the entire list before it can be returned as the result.  \n* `finditer()` method returns a sequence of `Match` object instances as an **iterator**"
    },
    {
      "metadata": {
        "slideshow": {
          "slide_type": "slide"
        },
        "trusted": false
      },
      "cell_type": "code",
      "source": "import re\np = re.compile('[a-z]+')\np",
      "execution_count": null,
      "outputs": []
    },
    {
      "metadata": {
        "slideshow": {
          "slide_type": "fragment"
        },
        "trusted": false
      },
      "cell_type": "code",
      "source": "p.match(\"\")\nprint(p.match(\"\"))",
      "execution_count": null,
      "outputs": []
    },
    {
      "metadata": {
        "slideshow": {
          "slide_type": "fragment"
        },
        "trusted": false
      },
      "cell_type": "code",
      "source": "m = p.match('tempo')\nm",
      "execution_count": null,
      "outputs": []
    },
    {
      "metadata": {
        "slideshow": {
          "slide_type": "fragment"
        },
        "trusted": false
      },
      "cell_type": "code",
      "source": "m.group()",
      "execution_count": null,
      "outputs": []
    },
    {
      "metadata": {
        "slideshow": {
          "slide_type": "fragment"
        },
        "trusted": false
      },
      "cell_type": "code",
      "source": "m.span()",
      "execution_count": null,
      "outputs": []
    },
    {
      "metadata": {
        "slideshow": {
          "slide_type": "slide"
        }
      },
      "cell_type": "markdown",
      "source": "Common style:\n\n```python\np = re.compile( ... )\nm = p.match( 'string goes here’ )\nif m:    \n    print('Match found: ', m.group())\nelse:    \n    print('No match')\n```"
    },
    {
      "metadata": {
        "slideshow": {
          "slide_type": "slide"
        }
      },
      "cell_type": "markdown",
      "source": "### `findall` vs. `finditer`"
    },
    {
      "metadata": {
        "slideshow": {
          "slide_type": "fragment"
        },
        "trusted": false
      },
      "cell_type": "code",
      "source": "p = re.compile(r'\\d+')\np.findall('12 drummers drumming, 11 pipers piping, 10 lords a-leaping')",
      "execution_count": null,
      "outputs": []
    },
    {
      "metadata": {
        "slideshow": {
          "slide_type": "fragment"
        },
        "trusted": false
      },
      "cell_type": "code",
      "source": "iterator = p.finditer('12 drummers drumming, 11 ... 10 ...')\niterator",
      "execution_count": null,
      "outputs": []
    },
    {
      "metadata": {
        "slideshow": {
          "slide_type": "fragment"
        },
        "trusted": false
      },
      "cell_type": "code",
      "source": "for match in iterator:\n    print(match.span())",
      "execution_count": null,
      "outputs": []
    },
    {
      "metadata": {
        "slideshow": {
          "slide_type": "slide"
        }
      },
      "cell_type": "markdown",
      "source": "## Capture Groups\n\nUsed to refer back to a part of the string matching specification\n\nSyntax: parentheses `( )` around first pattern and a number operator in the second pattern\n\nExample:\n* Regex pattern: `/the (.*)er they were, the \\1er they will be/`\n* Matches: _The bigger they were, the bigger they will be_\n* Doesn’t match: _The bigger they were, the faster they will be_\n\nAnother example:\n* Regex pattern: `/the (.*)er they (.*), the \\1er we \\2/`\n* Matches: _The faster they ran, the faster we ran_\n* Doesn’t match: _The faster they ran, the faster we ate_"
    },
    {
      "metadata": {
        "slideshow": {
          "slide_type": "slide"
        }
      },
      "cell_type": "markdown",
      "source": "### Example: Detecting “double words” in a string"
    },
    {
      "metadata": {
        "slideshow": {
          "slide_type": "fragment"
        },
        "trusted": false
      },
      "cell_type": "code",
      "source": "p = re.compile(r'\\b(\\w+)\\s+\\1\\b')\np.search('Paris in the the spring').group()",
      "execution_count": null,
      "outputs": []
    },
    {
      "metadata": {
        "slideshow": {
          "slide_type": "slide"
        }
      },
      "cell_type": "markdown",
      "source": "### Subgroups"
    },
    {
      "metadata": {
        "slideshow": {
          "slide_type": "fragment"
        },
        "trusted": false
      },
      "cell_type": "code",
      "source": "p = re.compile('(a(b)c)d')\nm = p.match('abcd')",
      "execution_count": null,
      "outputs": []
    },
    {
      "metadata": {
        "slideshow": {
          "slide_type": "fragment"
        },
        "trusted": false
      },
      "cell_type": "code",
      "source": "m.group(0)",
      "execution_count": null,
      "outputs": []
    },
    {
      "metadata": {
        "slideshow": {
          "slide_type": "fragment"
        },
        "trusted": false
      },
      "cell_type": "code",
      "source": "m.group(1)",
      "execution_count": null,
      "outputs": []
    },
    {
      "metadata": {
        "slideshow": {
          "slide_type": "fragment"
        },
        "trusted": false
      },
      "cell_type": "code",
      "source": "m.group(2)",
      "execution_count": null,
      "outputs": []
    },
    {
      "metadata": {
        "slideshow": {
          "slide_type": "slide"
        }
      },
      "cell_type": "markdown",
      "source": "### Substitutions"
    },
    {
      "metadata": {
        "slideshow": {
          "slide_type": "fragment"
        }
      },
      "cell_type": "markdown",
      "source": "String substitution methods often make use of regular expressions"
    },
    {
      "metadata": {
        "slideshow": {
          "slide_type": "fragment"
        },
        "trusted": false
      },
      "cell_type": "code",
      "source": "p = re.compile('(blue|white|red)')\np.sub('colour', 'blue socks and red shoes')",
      "execution_count": null,
      "outputs": []
    },
    {
      "metadata": {
        "slideshow": {
          "slide_type": "fragment"
        }
      },
      "cell_type": "markdown",
      "source": "ELIZA made use of a series of regular expression substitutions!\n\n* `s/.* I’M (depressed|sad) .*/I AM SORRY TO HEAR YOU ARE \\1/`\n* `s/.* always .*/CAN YOU THINK OF A SPECIFIC EXAMPLE/`"
    },
    {
      "metadata": {
        "slideshow": {
          "slide_type": "slide"
        }
      },
      "cell_type": "markdown",
      "source": "### There’s Much More!!\n\ne.g. **negative lookahead** to match any single word that doesn’t start with Volcano\n\n`(?! pattern)`    returns true only if a pattern doesn’t match\n\n<u>Example Usage:</u>\n`/(ˆ?!Volcano)[A-Za-z]+/`"
    },
    {
      "metadata": {
        "slideshow": {
          "slide_type": "slide"
        }
      },
      "cell_type": "markdown",
      "source": "## Regular Expression Tester\n\nhttp://regexpal.com/"
    },
    {
      "metadata": {
        "slideshow": {
          "slide_type": "slide"
        }
      },
      "cell_type": "markdown",
      "source": "## Regular Expression Exercises"
    },
    {
      "metadata": {
        "slideshow": {
          "slide_type": "fragment"
        }
      },
      "cell_type": "markdown",
      "source": "1. Turn `burns, rich` into `rich burns` using regular expressions in python."
    },
    {
      "metadata": {
        "slideshow": {
          "slide_type": "skip"
        },
        "trusted": false
      },
      "cell_type": "code",
      "source": "# INSERT PYTHON CODE",
      "execution_count": null,
      "outputs": []
    },
    {
      "metadata": {
        "slideshow": {
          "slide_type": "fragment"
        }
      },
      "cell_type": "markdown",
      "source": "2. Write regular expressions to match the following classes of strings:\n  A single determiner (assume that `a`, `an`, and `the` are the only determiners)."
    },
    {
      "metadata": {
        "slideshow": {
          "slide_type": "skip"
        },
        "trusted": false
      },
      "cell_type": "code",
      "source": "# INSERT PYTHON CODE",
      "execution_count": null,
      "outputs": []
    },
    {
      "metadata": {
        "slideshow": {
          "slide_type": "fragment"
        }
      },
      "cell_type": "markdown",
      "source": "3. Write regular expressions to match the following classes of strings: An arithmetic expression using integers, addition, and multiplication, such as `2*3+8`."
    },
    {
      "metadata": {
        "slideshow": {
          "slide_type": "skip"
        },
        "trusted": false
      },
      "cell_type": "code",
      "source": "# INSERT PYTHON CODE",
      "execution_count": null,
      "outputs": []
    }
  ],
  "metadata": {
    "celltoolbar": "Slideshow",
    "kernelspec": {
      "name": "python3",
      "display_name": "Python 3",
      "language": "python"
    },
    "language_info": {
      "mimetype": "text/x-python",
      "nbconvert_exporter": "python",
      "name": "python",
      "pygments_lexer": "ipython3",
      "version": "3.5.4",
      "file_extension": ".py",
      "codemirror_mode": {
        "version": 3,
        "name": "ipython"
      }
    }
  },
  "nbformat": 4,
  "nbformat_minor": 2
}