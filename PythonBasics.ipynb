{
  "cells": [
    {
      "metadata": {
        "slideshow": {
          "slide_type": "slide"
        }
      },
      "cell_type": "markdown",
      "source": "# Introduction\n\nWe'll be using Jupyter python notebooks in this course. Today, they are extremely popular and there are an abundent number of python notebook and data science examples online.\n\n\n## Which Python? \n\nWe're going to use Python3. Note that Python3 is not compatible with Python2 code.\n\n* Python 2.x is legacy\n  * But it is still widely used\n* Python 3.x released “late” in 2008\n  * Not backwards compatible with Python 2.x\n\nMost major libraries and python modules have been updated to Python 3.x code\n\nBe careful! New python functions defined in Python 3.5 will not work on a system that only have Python 3.4 installed.\n\n## Interpretable Python and Notebooks\n\nPython is interpreted (though there is some behind-the-scenes compilation that eventually occurs to speed up runtime). Statements and expressions can be run in the python interpreter and executed immediately.\n\n## How to use this notebook?\n\nEach cell is either a \"Markdown\" cell or a \"Code\" cell. \n\n**Markdown syntax** is fairly basic and is worth exploring, to make your python notebooks more readable. Here are some reference links:\n\n* https://jupyter-notebook.readthedocs.io/en/stable/examples/Notebook/Working%20With%20Markdown%20Cells.html\n* https://medium.com/ibm-data-science-experience/markdown-for-jupyter-notebooks-cheatsheet-386c05aeebed\n\n**To exectue a cell:** first make it active by clicking on it, then press Cntl-Enter.\n\nCells are executed in the order that the user Cntl-Enter's on them."
    },
    {
      "metadata": {
        "slideshow": {
          "slide_type": "slide"
        }
      },
      "cell_type": "markdown",
      "source": "## Why Python?\n\nVery Object Oriented \n* Python much less verbose than Java \nNLP Processing: Symbolic \n* Python has built-in datatypes for strings, lists, and more. \nNLP Processing: Statistical \n* Python has strong numeric processing capabilities: matrix operations, etc. \n* Suitable for probability and machine learning code \nNLTK is implemented as set of Python modules\n* (There are also some more “industrial” NLP modules for other programming languages.) "
    },
    {
      "metadata": {
        "slideshow": {
          "slide_type": "slide"
        }
      },
      "cell_type": "markdown",
      "source": "## How I Learn Python\n\nLook at code from other programmers\n1. Determine if it's good code that I should be modeling\n2. Figure out if it's legacy python 2.x code\n\nRead/Query unfamiliar functions\n* There is a lot in the language!\n\nGoogle\n\nEasy to get better with practice!\n\nPython API: https://docs.python.org/3/library/index.html"
    },
    {
      "metadata": {
        "slideshow": {
          "slide_type": "slide"
        }
      },
      "cell_type": "markdown",
      "source": "## Learning Python from Scratch\n\nhttp://www.learnpython.org/ is very good these days!\n\nEspecially relevant sections:\n1. Learn the Basics\n2. Advanced: List Comprehensions, Multiple Function Arguments, Regular Expressions, Exception Handling"
    },
    {
      "metadata": {
        "slideshow": {
          "slide_type": "slide"
        }
      },
      "cell_type": "markdown",
      "source": "## Arithmetic\n\nExpressions can be directly typed in."
    },
    {
      "metadata": {
        "slideshow": {
          "slide_type": "subslide"
        },
        "trusted": true
      },
      "cell_type": "code",
      "source": "5+9",
      "execution_count": 1,
      "outputs": [
        {
          "output_type": "execute_result",
          "execution_count": 1,
          "data": {
            "text/plain": "14"
          },
          "metadata": {}
        }
      ]
    },
    {
      "metadata": {
        "slideshow": {
          "slide_type": "subslide"
        }
      },
      "cell_type": "markdown",
      "source": "Though both of the below expressions are evaluated, only the result of last one is displayed when the cell is run."
    },
    {
      "metadata": {
        "trusted": true
      },
      "cell_type": "code",
      "source": "2.5+3\n\n4-3*2",
      "execution_count": 2,
      "outputs": [
        {
          "output_type": "execute_result",
          "execution_count": 2,
          "data": {
            "text/plain": "-2"
          },
          "metadata": {}
        }
      ]
    },
    {
      "metadata": {
        "slideshow": {
          "slide_type": "subslide"
        }
      },
      "cell_type": "markdown",
      "source": "Unless `print` statements are used.\n\nComments in python begin with a `#`"
    },
    {
      "metadata": {
        "trusted": true
      },
      "cell_type": "code",
      "source": "# no semicolons needed!\nprint(4/3)\n2.0+5\n4 % 2",
      "execution_count": 3,
      "outputs": [
        {
          "output_type": "stream",
          "text": "1.3333333333333333\n",
          "name": "stdout"
        },
        {
          "output_type": "execute_result",
          "execution_count": 3,
          "data": {
            "text/plain": "0"
          },
          "metadata": {}
        }
      ]
    },
    {
      "metadata": {},
      "cell_type": "markdown",
      "source": "## Variables\n\nVariables have **types**, but don't need to be declared. The type of a variable can change. The type of an expression can be returned with the `type` function.\n\n* Variables come into existence when they are first assigned \n* A variable can refer to an object of any type\n* Drawback: <u>type errors are only caught at runtime </u>"
    },
    {
      "metadata": {
        "trusted": true
      },
      "cell_type": "code",
      "source": "x = 5\ny = 'Hello World'\nz = 10.5",
      "execution_count": 4,
      "outputs": []
    },
    {
      "metadata": {
        "trusted": true
      },
      "cell_type": "code",
      "source": "z+5",
      "execution_count": 5,
      "outputs": [
        {
          "output_type": "execute_result",
          "execution_count": 5,
          "data": {
            "text/plain": "15.5"
          },
          "metadata": {}
        }
      ]
    },
    {
      "metadata": {
        "trusted": true
      },
      "cell_type": "code",
      "source": "print(type(x))\nprint(type(y))\nprint(type(z))",
      "execution_count": 6,
      "outputs": [
        {
          "output_type": "stream",
          "text": "<class 'int'>\n<class 'str'>\n<class 'float'>\n",
          "name": "stdout"
        }
      ]
    },
    {
      "metadata": {},
      "cell_type": "markdown",
      "source": "Returning the floor of a float:"
    },
    {
      "metadata": {
        "trusted": true
      },
      "cell_type": "code",
      "source": "int(z)",
      "execution_count": 7,
      "outputs": [
        {
          "output_type": "execute_result",
          "execution_count": 7,
          "data": {
            "text/plain": "10"
          },
          "metadata": {}
        }
      ]
    },
    {
      "metadata": {
        "slideshow": {
          "slide_type": "notes"
        }
      },
      "cell_type": "markdown",
      "source": "# Whitespace Formatting\n\nPython uses indentation to delimit blocks of code. No more curly braces!"
    },
    {
      "metadata": {
        "slideshow": {
          "slide_type": "-"
        },
        "trusted": true
      },
      "cell_type": "code",
      "source": "for i in [1,2,3,4,5]:\n    print(i)\n    for j in [6,7,8,9,10]:\n        print(j)\n        print(i+j)\n    print(i)\nprint('done')",
      "execution_count": 8,
      "outputs": [
        {
          "output_type": "stream",
          "text": "1\n6\n7\n7\n8\n8\n9\n9\n10\n10\n11\n1\n2\n6\n8\n7\n9\n8\n10\n9\n11\n10\n12\n2\n3\n6\n9\n7\n10\n8\n11\n9\n12\n10\n13\n3\n4\n6\n10\n7\n11\n8\n12\n9\n13\n10\n14\n4\n5\n6\n11\n7\n12\n8\n13\n9\n14\n10\n15\n5\ndone\n",
          "name": "stdout"
        }
      ]
    },
    {
      "metadata": {},
      "cell_type": "markdown",
      "source": "## Strings\n\nStrings can be delimited by either single or double quotation marks."
    },
    {
      "metadata": {
        "trusted": true
      },
      "cell_type": "code",
      "source": "x = 'rich is a string'\ny = \"Richie is still a string\"\nprint(y)",
      "execution_count": 9,
      "outputs": [
        {
          "output_type": "stream",
          "text": "Richie is still a string\n",
          "name": "stdout"
        }
      ]
    },
    {
      "metadata": {},
      "cell_type": "markdown",
      "source": "Unmatched can occur within the string."
    },
    {
      "metadata": {
        "trusted": true
      },
      "cell_type": "code",
      "source": "\"matt's\"",
      "execution_count": 10,
      "outputs": [
        {
          "output_type": "execute_result",
          "execution_count": 10,
          "data": {
            "text/plain": "\"matt's\""
          },
          "metadata": {}
        }
      ]
    },
    {
      "metadata": {},
      "cell_type": "markdown",
      "source": "Use triple double-quotes for multi-line strings or strings than contain both ' and ” inside of them."
    },
    {
      "metadata": {
        "trusted": true
      },
      "cell_type": "code",
      "source": "\"\"\"\nA very long\nstring over multiple\nlines including \" and '.\n\"\"\"",
      "execution_count": 11,
      "outputs": [
        {
          "output_type": "execute_result",
          "execution_count": 11,
          "data": {
            "text/plain": "'\\nA very long\\nstring over multiple\\nlines including \" and \\'.\\n'"
          },
          "metadata": {}
        }
      ]
    },
    {
      "metadata": {},
      "cell_type": "markdown",
      "source": "### String Functions"
    },
    {
      "metadata": {
        "trusted": true
      },
      "cell_type": "code",
      "source": "len(x)     # length of a string",
      "execution_count": 12,
      "outputs": [
        {
          "output_type": "execute_result",
          "execution_count": 12,
          "data": {
            "text/plain": "16"
          },
          "metadata": {}
        }
      ]
    },
    {
      "metadata": {},
      "cell_type": "markdown",
      "source": "The `dir` function returns operations that are defined on an object."
    },
    {
      "metadata": {
        "trusted": true
      },
      "cell_type": "code",
      "source": "dir('x')",
      "execution_count": 13,
      "outputs": [
        {
          "output_type": "execute_result",
          "execution_count": 13,
          "data": {
            "text/plain": "['__add__',\n '__class__',\n '__contains__',\n '__delattr__',\n '__dir__',\n '__doc__',\n '__eq__',\n '__format__',\n '__ge__',\n '__getattribute__',\n '__getitem__',\n '__getnewargs__',\n '__gt__',\n '__hash__',\n '__init__',\n '__iter__',\n '__le__',\n '__len__',\n '__lt__',\n '__mod__',\n '__mul__',\n '__ne__',\n '__new__',\n '__reduce__',\n '__reduce_ex__',\n '__repr__',\n '__rmod__',\n '__rmul__',\n '__setattr__',\n '__sizeof__',\n '__str__',\n '__subclasshook__',\n 'capitalize',\n 'casefold',\n 'center',\n 'count',\n 'encode',\n 'endswith',\n 'expandtabs',\n 'find',\n 'format',\n 'format_map',\n 'index',\n 'isalnum',\n 'isalpha',\n 'isdecimal',\n 'isdigit',\n 'isidentifier',\n 'islower',\n 'isnumeric',\n 'isprintable',\n 'isspace',\n 'istitle',\n 'isupper',\n 'join',\n 'ljust',\n 'lower',\n 'lstrip',\n 'maketrans',\n 'partition',\n 'replace',\n 'rfind',\n 'rindex',\n 'rjust',\n 'rpartition',\n 'rsplit',\n 'rstrip',\n 'split',\n 'splitlines',\n 'startswith',\n 'strip',\n 'swapcase',\n 'title',\n 'translate',\n 'upper',\n 'zfill']"
          },
          "metadata": {}
        }
      ]
    },
    {
      "metadata": {},
      "cell_type": "markdown",
      "source": "Using the `upper` method:"
    },
    {
      "metadata": {
        "trusted": true
      },
      "cell_type": "code",
      "source": "x.upper()",
      "execution_count": 14,
      "outputs": [
        {
          "output_type": "execute_result",
          "execution_count": 14,
          "data": {
            "text/plain": "'RICH IS A STRING'"
          },
          "metadata": {}
        }
      ]
    },
    {
      "metadata": {},
      "cell_type": "markdown",
      "source": "## Printing + String Concatenation + Int2Str\n\nIn Python3, `print` statements are functions and always have a `(` and `)`. (Python2 notably differs.)"
    },
    {
      "metadata": {
        "trusted": true
      },
      "cell_type": "code",
      "source": "print(2+3, 5, 4*20.0)    # prints the result of each expression, space seperated",
      "execution_count": 15,
      "outputs": [
        {
          "output_type": "stream",
          "text": "5 5 80.0\n",
          "name": "stdout"
        }
      ]
    },
    {
      "metadata": {},
      "cell_type": "markdown",
      "source": "Converting an int to a string:"
    },
    {
      "metadata": {
        "trusted": true
      },
      "cell_type": "code",
      "source": "s = \"Hello World\" + str(5)   # conversion function\ns",
      "execution_count": 16,
      "outputs": [
        {
          "output_type": "execute_result",
          "execution_count": 16,
          "data": {
            "text/plain": "'Hello World5'"
          },
          "metadata": {}
        }
      ]
    },
    {
      "metadata": {},
      "cell_type": "markdown",
      "source": "## Null Values\n\nJava's `null` = Python's `None`"
    },
    {
      "metadata": {
        "trusted": true
      },
      "cell_type": "code",
      "source": "found = None\nx = 5\ntype(found)",
      "execution_count": 17,
      "outputs": [
        {
          "output_type": "execute_result",
          "execution_count": 17,
          "data": {
            "text/plain": "NoneType"
          },
          "metadata": {}
        }
      ]
    },
    {
      "metadata": {},
      "cell_type": "markdown",
      "source": "## Sequence Types\n\n1. Tuples\n  * A simple immutable ordered sequence of items\n  * Items can be of mixed types, including collection types \n2. Strings \n  * Immutable \n  * Conceptually very much like a tuple \n3. Lists \n  * Mutable ordered sequence of items of mixed types\n  * The mutability of lists means that they aren't as fast as tuples\n  \nAll three sequence types share much of the same syntax and functionality.\nhttps://docs.python.org/3/library/stdtypes.html#sequence-types-list-tuple-range \n\n### Lists\n\nThe list data structure is really useful and cool in Python. It's an ordered collection, similar to arrays in Java. However, a python list can have values of different types in them.\n\n<u>Lists are defined using square brackets (and commas).</u>"
    },
    {
      "metadata": {
        "trusted": true
      },
      "cell_type": "code",
      "source": "x = [1,2,3]\ny = [1,'a',2.3,False]\nz = [1,x]      # lists can have different types in them\nw = range(50)  # is the list [0,1,...,49]",
      "execution_count": 18,
      "outputs": []
    },
    {
      "metadata": {},
      "cell_type": "markdown",
      "source": "### Tuples\n\nA tuple is immutable. Very similar to a list.\n<u>Uses parentheses instead of the square brackets of a list.</u>"
    },
    {
      "metadata": {
        "trusted": true
      },
      "cell_type": "code",
      "source": "tu = (23, 'abc', 4.56, (2,3),'def')\ntu",
      "execution_count": 19,
      "outputs": [
        {
          "output_type": "execute_result",
          "execution_count": 19,
          "data": {
            "text/plain": "(23, 'abc', 4.56, (2, 3), 'def')"
          },
          "metadata": {}
        }
      ]
    },
    {
      "metadata": {},
      "cell_type": "markdown",
      "source": "### Strings\n\nStrings are defined using quotes (”, ', or ”””). "
    },
    {
      "metadata": {
        "trusted": true
      },
      "cell_type": "code",
      "source": "st1 = \"Hello World\"\nst2 = 'Hello World'\nst3 = \"\"\"This is a multi-line\nstring that uses triple quotes.\"\"\"",
      "execution_count": 20,
      "outputs": []
    },
    {
      "metadata": {},
      "cell_type": "markdown",
      "source": "### Are tuples <u>iterable</u>?"
    },
    {
      "metadata": {
        "trusted": true
      },
      "cell_type": "code",
      "source": "t = (1,2,3,(4,5))\nfor i in t:    \n    print (i)",
      "execution_count": 21,
      "outputs": [
        {
          "output_type": "stream",
          "text": "1\n2\n3\n(4, 5)\n",
          "name": "stdout"
        }
      ]
    },
    {
      "metadata": {},
      "cell_type": "markdown",
      "source": "### Sequence Types\n\nWe can access individual members of a tuple, list, or string using square bracket ”array” notation. \n\nNote that all are 0 based... "
    },
    {
      "metadata": {
        "trusted": true
      },
      "cell_type": "code",
      "source": "tu = (23, 'abc', 4.56, (2,3),'def')\ntu[1] # Second item in the tuple. ",
      "execution_count": 22,
      "outputs": [
        {
          "output_type": "execute_result",
          "execution_count": 22,
          "data": {
            "text/plain": "'abc'"
          },
          "metadata": {}
        }
      ]
    },
    {
      "metadata": {
        "trusted": true
      },
      "cell_type": "code",
      "source": "li = [\"abc\", 34, 4.34, 23]\nli[1] # Second item in the list.",
      "execution_count": 23,
      "outputs": [
        {
          "output_type": "execute_result",
          "execution_count": 23,
          "data": {
            "text/plain": "34"
          },
          "metadata": {}
        }
      ]
    },
    {
      "metadata": {
        "trusted": true
      },
      "cell_type": "code",
      "source": "st = \"Hello World\"\nst[1] # Second character in string. ",
      "execution_count": 24,
      "outputs": [
        {
          "output_type": "execute_result",
          "execution_count": 24,
          "data": {
            "text/plain": "'e'"
          },
          "metadata": {}
        }
      ]
    },
    {
      "metadata": {},
      "cell_type": "markdown",
      "source": "### Positive and Negative Indicies\n\n* Positive index: count from the left, starting with 0. \n* Negative lookup: count from right, starting with -1. "
    },
    {
      "metadata": {
        "trusted": true
      },
      "cell_type": "code",
      "source": "tu[-3]",
      "execution_count": 25,
      "outputs": [
        {
          "output_type": "execute_result",
          "execution_count": 25,
          "data": {
            "text/plain": "4.56"
          },
          "metadata": {}
        }
      ]
    },
    {
      "metadata": {},
      "cell_type": "markdown",
      "source": "### Slicing: Return Copy of a Subset\n\nReturn a copy of the container with a subset of the original members. Start copying at the first index, and stop copying before the second index. \n\nYou can also use negative indices when slicing. "
    },
    {
      "metadata": {
        "trusted": true
      },
      "cell_type": "code",
      "source": "tu[1:4]",
      "execution_count": 26,
      "outputs": [
        {
          "output_type": "execute_result",
          "execution_count": 26,
          "data": {
            "text/plain": "('abc', 4.56, (2, 3))"
          },
          "metadata": {}
        }
      ]
    },
    {
      "metadata": {
        "trusted": true
      },
      "cell_type": "code",
      "source": "tu[1:-1]",
      "execution_count": 27,
      "outputs": [
        {
          "output_type": "execute_result",
          "execution_count": 27,
          "data": {
            "text/plain": "('abc', 4.56, (2, 3))"
          },
          "metadata": {}
        }
      ]
    },
    {
      "metadata": {},
      "cell_type": "markdown",
      "source": "* Omit the first index to make a copy starting from the beginning of the container.\n* Omit the second index to make a copy starting at the first index and going to the end of the container. "
    },
    {
      "metadata": {
        "trusted": true
      },
      "cell_type": "code",
      "source": "tu[:2]",
      "execution_count": 28,
      "outputs": [
        {
          "output_type": "execute_result",
          "execution_count": 28,
          "data": {
            "text/plain": "(23, 'abc')"
          },
          "metadata": {}
        }
      ]
    },
    {
      "metadata": {
        "trusted": true
      },
      "cell_type": "code",
      "source": "tu[2:]",
      "execution_count": 29,
      "outputs": [
        {
          "output_type": "execute_result",
          "execution_count": 29,
          "data": {
            "text/plain": "(4.56, (2, 3), 'def')"
          },
          "metadata": {}
        }
      ]
    },
    {
      "metadata": {},
      "cell_type": "markdown",
      "source": "### Other List Operations\n\n1. length: `len() `\n2. append: `b.append('a') `\n3. insert: `b.insert(2, 'a')` \n4. sorting: `b.sort() `\n5. reversing: `b.reverse() `\n6. iteration: `for item in a: `\n7. double indexing: `b[2][1] `\n8. finding index of first occurrence: `b.index('green') `\n1. number of occurrences: `b.count('green') `\n1. remove first occurrence: `b.remove('green') `"
    },
    {
      "metadata": {},
      "cell_type": "markdown",
      "source": "## The `in` operator\n\nCan be used as a Boolean test to:\n* test whether a value is inside a container\n* test for substrings"
    },
    {
      "metadata": {
        "trusted": true
      },
      "cell_type": "code",
      "source": "t = [1,2,4,5]\n3 in t",
      "execution_count": 30,
      "outputs": [
        {
          "output_type": "execute_result",
          "execution_count": 30,
          "data": {
            "text/plain": "False"
          },
          "metadata": {}
        }
      ]
    },
    {
      "metadata": {
        "trusted": true
      },
      "cell_type": "code",
      "source": "4 in t",
      "execution_count": 31,
      "outputs": [
        {
          "output_type": "execute_result",
          "execution_count": 31,
          "data": {
            "text/plain": "True"
          },
          "metadata": {}
        }
      ]
    },
    {
      "metadata": {
        "trusted": true
      },
      "cell_type": "code",
      "source": "4 not in t",
      "execution_count": 32,
      "outputs": [
        {
          "output_type": "execute_result",
          "execution_count": 32,
          "data": {
            "text/plain": "False"
          },
          "metadata": {}
        }
      ]
    },
    {
      "metadata": {
        "trusted": true
      },
      "cell_type": "code",
      "source": "a = 'abcde'\nprint('c' in a)\nprint('ac' in a)",
      "execution_count": 33,
      "outputs": [
        {
          "output_type": "stream",
          "text": "True\nFalse\n",
          "name": "stdout"
        }
      ]
    },
    {
      "metadata": {},
      "cell_type": "markdown",
      "source": "## The `+` operator\n\nThe + operator produces a new tuple, list, or string whose value is the concatenation of its arguments. "
    },
    {
      "metadata": {
        "trusted": true
      },
      "cell_type": "code",
      "source": "(1, 2, 3) + (4, 5, 6) ",
      "execution_count": 34,
      "outputs": [
        {
          "output_type": "execute_result",
          "execution_count": 34,
          "data": {
            "text/plain": "(1, 2, 3, 4, 5, 6)"
          },
          "metadata": {}
        }
      ]
    },
    {
      "metadata": {
        "trusted": true
      },
      "cell_type": "code",
      "source": "[1, 2, 3] + [4, 5, 6] ",
      "execution_count": 35,
      "outputs": [
        {
          "output_type": "execute_result",
          "execution_count": 35,
          "data": {
            "text/plain": "[1, 2, 3, 4, 5, 6]"
          },
          "metadata": {}
        }
      ]
    },
    {
      "metadata": {
        "trusted": true
      },
      "cell_type": "code",
      "source": "\"Hello” + ” \" + \"World\" ",
      "execution_count": 36,
      "outputs": [
        {
          "output_type": "execute_result",
          "execution_count": 36,
          "data": {
            "text/plain": "'Hello” + ” World'"
          },
          "metadata": {}
        }
      ]
    },
    {
      "metadata": {},
      "cell_type": "markdown",
      "source": "## The `*` operator\n\nThe * operator produces a new tuple, list, or string that “repeats” the original content."
    },
    {
      "metadata": {
        "trusted": true
      },
      "cell_type": "code",
      "source": "print((1, 2, 3) * 3)\nprint([1, 2, 3] * 3)\nprint(\"Hello\" * 3)",
      "execution_count": 37,
      "outputs": [
        {
          "output_type": "stream",
          "text": "(1, 2, 3, 1, 2, 3, 1, 2, 3)\n[1, 2, 3, 1, 2, 3, 1, 2, 3]\nHelloHelloHello\n",
          "name": "stdout"
        }
      ]
    },
    {
      "metadata": {},
      "cell_type": "markdown",
      "source": "### Other String Operations\n\n1. joining: `c = ' '.join(b) `\n2. splitting: `c.split('r') `"
    },
    {
      "metadata": {},
      "cell_type": "markdown",
      "source": "## Checking for equality\n\n`==` is used to check whether two values are the same, or if the content of two objects are identical\n\n`is` is used to check whether two objects are identical (have the same memory address)\n* `is` is often used to check if an object is null (`None`)"
    },
    {
      "metadata": {
        "trusted": true
      },
      "cell_type": "code",
      "source": "x = [1,2,3]\ny = [1,2,3]",
      "execution_count": 38,
      "outputs": []
    },
    {
      "metadata": {
        "trusted": true
      },
      "cell_type": "code",
      "source": "x == y",
      "execution_count": 39,
      "outputs": [
        {
          "output_type": "execute_result",
          "execution_count": 39,
          "data": {
            "text/plain": "True"
          },
          "metadata": {}
        }
      ]
    },
    {
      "metadata": {
        "trusted": true
      },
      "cell_type": "code",
      "source": "x is y",
      "execution_count": 40,
      "outputs": [
        {
          "output_type": "execute_result",
          "execution_count": 40,
          "data": {
            "text/plain": "False"
          },
          "metadata": {}
        }
      ]
    },
    {
      "metadata": {
        "trusted": true
      },
      "cell_type": "code",
      "source": "x is None",
      "execution_count": 41,
      "outputs": [
        {
          "output_type": "execute_result",
          "execution_count": 41,
          "data": {
            "text/plain": "False"
          },
          "metadata": {}
        }
      ]
    },
    {
      "metadata": {},
      "cell_type": "markdown",
      "source": "### Dictionaries\n\nDictionaries store a mapping between a set of keys and a set of values. \n* Keys can be any immutable type. \n  * (usually a String)\n* Keys must be unique. (Assigning to an existing key replaces its value) \n* Values can be any type.\n* A single dictionary can store values of different types. \n* Dictionaries are unordered. (New entry may appear anywhere in the output.) \n\nYou can define, modify, view, lookup, and delete the key-value pairs in the dictionary. \n\nCurly braces creates a empty dictionary."
    },
    {
      "metadata": {
        "trusted": true
      },
      "cell_type": "code",
      "source": "d = {}\nd1 = { 'age':50, 'weight':250, 'height':\"5'6\"}   # initializing a dictionary",
      "execution_count": 42,
      "outputs": []
    },
    {
      "metadata": {},
      "cell_type": "markdown",
      "source": "### Returning a list of keys in the dictionary"
    },
    {
      "metadata": {
        "trusted": true
      },
      "cell_type": "code",
      "source": "d1.keys()",
      "execution_count": 43,
      "outputs": [
        {
          "output_type": "execute_result",
          "execution_count": 43,
          "data": {
            "text/plain": "dict_keys(['height', 'weight', 'age'])"
          },
          "metadata": {}
        }
      ]
    },
    {
      "metadata": {
        "trusted": true
      },
      "cell_type": "code",
      "source": "d1.values() # list of values",
      "execution_count": 44,
      "outputs": [
        {
          "output_type": "execute_result",
          "execution_count": 44,
          "data": {
            "text/plain": "dict_values([\"5'6\", 250, 50])"
          },
          "metadata": {}
        }
      ]
    },
    {
      "metadata": {
        "trusted": true
      },
      "cell_type": "code",
      "source": "d1.items()  # list of (key,value) tuples in the dictionary",
      "execution_count": 45,
      "outputs": [
        {
          "output_type": "execute_result",
          "execution_count": 45,
          "data": {
            "text/plain": "dict_items([('height', \"5'6\"), ('weight', 250), ('age', 50)])"
          },
          "metadata": {}
        }
      ]
    },
    {
      "metadata": {},
      "cell_type": "markdown",
      "source": "### Checking for the existance of a key"
    },
    {
      "metadata": {
        "trusted": true
      },
      "cell_type": "code",
      "source": "print ('age' in d1)\nprint ('marital_status' in d1)",
      "execution_count": 46,
      "outputs": [
        {
          "output_type": "stream",
          "text": "True\nFalse\n",
          "name": "stdout"
        }
      ]
    },
    {
      "metadata": {},
      "cell_type": "markdown",
      "source": "### Accessing a value from its key"
    },
    {
      "metadata": {
        "trusted": true
      },
      "cell_type": "code",
      "source": "d1['age']",
      "execution_count": 47,
      "outputs": [
        {
          "output_type": "execute_result",
          "execution_count": 47,
          "data": {
            "text/plain": "50"
          },
          "metadata": {}
        }
      ]
    },
    {
      "metadata": {},
      "cell_type": "markdown",
      "source": "### Updating a dictionary value"
    },
    {
      "metadata": {
        "trusted": true
      },
      "cell_type": "code",
      "source": "# assignment\nd1['age'] = 24\nd1['age']",
      "execution_count": 48,
      "outputs": [
        {
          "output_type": "execute_result",
          "execution_count": 48,
          "data": {
            "text/plain": "24"
          },
          "metadata": {}
        }
      ]
    },
    {
      "metadata": {},
      "cell_type": "markdown",
      "source": "### Removing dictionary entries"
    },
    {
      "metadata": {
        "trusted": true
      },
      "cell_type": "code",
      "source": "del d1['age']\nd1.items()",
      "execution_count": 49,
      "outputs": [
        {
          "output_type": "execute_result",
          "execution_count": 49,
          "data": {
            "text/plain": "dict_items([('height', \"5'6\"), ('weight', 250)])"
          },
          "metadata": {}
        }
      ]
    },
    {
      "metadata": {},
      "cell_type": "markdown",
      "source": "### If Statements\n\nelif instead of else if\nAlso note the :, no parentheses, and the tabbing."
    },
    {
      "metadata": {
        "trusted": true
      },
      "cell_type": "code",
      "source": "avg = 95\nif avg == 100:\n    print (\"super, you get an A\")\nelif avg > 90:\n    print (\"a-\")\nelif avg >= 80:\n    print (\"BBBBBB\")\nelse:\n    print (\"you fail\")",
      "execution_count": 50,
      "outputs": [
        {
          "output_type": "stream",
          "text": "a-\n",
          "name": "stdout"
        }
      ]
    },
    {
      "metadata": {},
      "cell_type": "markdown",
      "source": "## List Comprehensions\n\nReally neat.\nCan transform a list into another list, or only select certain elements, similar to how a mathematician would."
    },
    {
      "metadata": {
        "trusted": true
      },
      "cell_type": "code",
      "source": "evens = [x for x in range(5) if x % 2 == 0]\nsquares = [x * x for x in range(5)]\neven_squares = [x * x for x in evens]\n\nprint(evens)\nprint(squares)\nprint(even_squares)",
      "execution_count": 51,
      "outputs": [
        {
          "output_type": "stream",
          "text": "[0, 2, 4]\n[0, 1, 4, 9, 16]\n[0, 4, 16]\n",
          "name": "stdout"
        }
      ]
    },
    {
      "metadata": {},
      "cell_type": "markdown",
      "source": "**Another example:** Create a list of integers which specify the length of each word in a certain sentence, but only if the word is not the word `the`:"
    },
    {
      "metadata": {},
      "cell_type": "markdown",
      "source": "<u>not pythonic:</u>"
    },
    {
      "metadata": {
        "trusted": true
      },
      "cell_type": "code",
      "source": "sentence = \"the quick brown fox jumps over the lazy dog\"\nwords = sentence.split()\nword_lengths = []\nfor word in words:\n    if word != \"the\":\n        word_lengths.append(len(word))\n        \nword_lengths",
      "execution_count": 52,
      "outputs": [
        {
          "output_type": "execute_result",
          "execution_count": 52,
          "data": {
            "text/plain": "[5, 5, 3, 5, 4, 4, 3]"
          },
          "metadata": {}
        }
      ]
    },
    {
      "metadata": {},
      "cell_type": "markdown",
      "source": "<u>pythonic:</u>"
    },
    {
      "metadata": {
        "trusted": true
      },
      "cell_type": "code",
      "source": "sentence = \"the quick brown fox jumps over the lazy dog\"\nwords = sentence.split()\nword_lengths = [len(word) for word in words if word != \"the\"]\n\nword_lengths",
      "execution_count": 53,
      "outputs": [
        {
          "output_type": "execute_result",
          "execution_count": 53,
          "data": {
            "text/plain": "[5, 5, 3, 5, 4, 4, 3]"
          },
          "metadata": {}
        }
      ]
    },
    {
      "metadata": {
        "trusted": true
      },
      "cell_type": "code",
      "source": "words = 'The quick brown fox jumps over the lazy dog'.split()\nwords",
      "execution_count": 54,
      "outputs": [
        {
          "output_type": "execute_result",
          "execution_count": 54,
          "data": {
            "text/plain": "['The', 'quick', 'brown', 'fox', 'jumps', 'over', 'the', 'lazy', 'dog']"
          },
          "metadata": {}
        }
      ]
    },
    {
      "metadata": {
        "trusted": true
      },
      "cell_type": "code",
      "source": "[[w.upper(), w.lower(), len(w)] for w in words]",
      "execution_count": 55,
      "outputs": [
        {
          "output_type": "execute_result",
          "execution_count": 55,
          "data": {
            "text/plain": "[['THE', 'the', 3],\n ['QUICK', 'quick', 5],\n ['BROWN', 'brown', 5],\n ['FOX', 'fox', 3],\n ['JUMPS', 'jumps', 5],\n ['OVER', 'over', 4],\n ['THE', 'the', 3],\n ['LAZY', 'lazy', 4],\n ['DOG', 'dog', 3]]"
          },
          "metadata": {}
        }
      ]
    },
    {
      "metadata": {},
      "cell_type": "markdown",
      "source": "### Nested loops are permitted in list comprehensions"
    },
    {
      "metadata": {
        "trusted": true
      },
      "cell_type": "code",
      "source": "pairs = [(x,y)\n        for x in range (5)\n        for y in range (3)]\npairs",
      "execution_count": 56,
      "outputs": [
        {
          "output_type": "execute_result",
          "execution_count": 56,
          "data": {
            "text/plain": "[(0, 0),\n (0, 1),\n (0, 2),\n (1, 0),\n (1, 1),\n (1, 2),\n (2, 0),\n (2, 1),\n (2, 2),\n (3, 0),\n (3, 1),\n (3, 2),\n (4, 0),\n (4, 1),\n (4, 2)]"
          },
          "metadata": {}
        }
      ]
    },
    {
      "metadata": {},
      "cell_type": "markdown",
      "source": "### Random Number Generation\n\nNeed to first import the random library.\nProduces deterministic numbers (if you want) for reproducible results."
    },
    {
      "metadata": {
        "trusted": true
      },
      "cell_type": "code",
      "source": "import random\n\ny = [random.random() for x in range(3)]\nprint(y)\n\ny = [random.random() for x in range(3)]\nprint(y)\n\n    \n# now reproducible\nrandom.seed(5)\ny = [random.random() for x in range(3)]\nprint(y)\n\nrandom.seed(5)\ny = [random.random() for x in range(3)]\nprint(y)  ",
      "execution_count": null,
      "outputs": []
    },
    {
      "metadata": {},
      "cell_type": "markdown",
      "source": "## Functions"
    },
    {
      "metadata": {
        "trusted": true
      },
      "cell_type": "code",
      "source": "def double(x):\n    \"\"\"documentation about the function\n    this function multiplies its input by 2\"\"\"\n    x = x * 3\n    return x\n\n# the triple quoted string can be extended over multiple lines!   ",
      "execution_count": 57,
      "outputs": []
    },
    {
      "metadata": {
        "trusted": true
      },
      "cell_type": "code",
      "source": "y = [1,2,3]\nprint(double(y))\nprint(double(3))\nprint(double(\"Cat\"))",
      "execution_count": 58,
      "outputs": [
        {
          "output_type": "stream",
          "text": "[1, 2, 3, 1, 2, 3, 1, 2, 3]\n9\nCatCatCat\n",
          "name": "stdout"
        }
      ]
    },
    {
      "metadata": {
        "trusted": true
      },
      "cell_type": "code",
      "source": "# multiple parameters\ndef another_method(x,y):\n    x = x + 5\n    y += 3\n    return (y,x)   # can return multiple values",
      "execution_count": 59,
      "outputs": []
    },
    {
      "metadata": {
        "trusted": true
      },
      "cell_type": "code",
      "source": "a,b = another_method(10,100)\nprint (a)\nprint (a,b)  # printing multiple values on same line",
      "execution_count": 60,
      "outputs": [
        {
          "output_type": "stream",
          "text": "103\n103 15\n",
          "name": "stdout"
        }
      ]
    },
    {
      "metadata": {
        "trusted": true
      },
      "cell_type": "code",
      "source": "# optional arguments\ndef one_final_method(x,y,z=100):  # z has a default value if it is unspecified\n    x = y+z\n    return z",
      "execution_count": 61,
      "outputs": []
    },
    {
      "metadata": {
        "trusted": true
      },
      "cell_type": "code",
      "source": "print (one_final_method(3,4,5))\nprint (one_final_method(3,4))",
      "execution_count": 62,
      "outputs": [
        {
          "output_type": "stream",
          "text": "5\n100\n",
          "name": "stdout"
        }
      ]
    },
    {
      "metadata": {},
      "cell_type": "markdown",
      "source": "## Object-Oriented Programming\n\nEverybody ok?\n\nObjects are usually composed of:\n1. class variables\n2. instance variables\n3. method definitions (with object instance passed as first argument)\n\n\n* A **static class variable** is shared by all instances of an object.\n* Each object has its own **instance variables**.\n\n`__init__` is the constructor (note the double underscore)\n* Note the static variable\n* Note the instance variables\n* Note the use of `self` to refer to the instance."
    },
    {
      "metadata": {
        "trusted": true
      },
      "cell_type": "code",
      "source": "class Employee:\n    'Common base class for all employees'\n    empCount = 0\n    \n    def __init__(self, name, salary):\n        self.name = name\n        self.salary = salary\n        Employee.empCount += 1\n\n    def display_count(self):\n        print (\"Total Employee \", Employee.empCount)\n\n    def display_employee(self):\n        print (\"Name : \", self.name,  \", Salary: \", self.salary)\n        \n    def modify_salary(self, newsalary):\n        self.salary = newsalary",
      "execution_count": 63,
      "outputs": []
    },
    {
      "metadata": {
        "trusted": true
      },
      "cell_type": "code",
      "source": "worker1 = Employee('burns', 90000)\nworker2 = Employee('wyatt', 60000)\n\nprint(Employee.empCount)\nworker1.display_count()\nworker2.display_employee()\n\nworker1.modify_salary(100000)\n\nworker1.display_employee()\nprint(worker1.name)\n",
      "execution_count": 64,
      "outputs": [
        {
          "output_type": "stream",
          "text": "2\nTotal Employee  2\nName :  wyatt , Salary:  60000\nName :  burns , Salary:  100000\nburns\n",
          "name": "stdout"
        }
      ]
    },
    {
      "metadata": {},
      "cell_type": "markdown",
      "source": "### Another Example"
    },
    {
      "metadata": {
        "trusted": true
      },
      "cell_type": "code",
      "source": "class Dog:\n    def __init__(self, name):\n        self.name = name\n        self.tricks = []    # creates a new empty list for each dog\n    \n    def add_trick(self, trick):\n        self.tricks.append(trick)",
      "execution_count": 65,
      "outputs": []
    },
    {
      "metadata": {
        "trusted": true
      },
      "cell_type": "code",
      "source": "d = Dog('Fido')\ne = Dog('Buddy')\nd.add_trick('roll over')\ne.add_trick('play dead')\nprint(d.tricks)\nprint(e.tricks)",
      "execution_count": 66,
      "outputs": [
        {
          "output_type": "stream",
          "text": "['roll over']\n['play dead']\n",
          "name": "stdout"
        }
      ]
    },
    {
      "metadata": {},
      "cell_type": "markdown",
      "source": "### Multiple Inheritance\n\nCannot do multiple inheritance in Java!\n\n* Resolving attribute references: if an attribute is not found in `DerivedClassName`, it is searched for in `Base1`, then (recursively) in the base classes of `Base1`, and if it was not found there, it was searched for in `Base2`, and so on.\n\n```python\nclass DerivedClassName(Base1, Base2, Base3):\n    # statement-1\n    # statement-2\n    # ...\n    #\n    # statement-N\n```"
    },
    {
      "metadata": {},
      "cell_type": "markdown",
      "source": "### <u>Private</u> Instance Variables\n\n* These currently don’t exist in Python\n* Everything is Public\n* Use the convention of beginning a private instance variable with an underscore _ to symbolize that it is private"
    },
    {
      "metadata": {},
      "cell_type": "markdown",
      "source": "# The Biggest Topics to Know (I think)\n\n* Assignments\n* If Statements\n* Loops\n* Lists\n* Tuples\n* Dictionaries\n* List Comprehensions\n* Random Number Generation\n* Functions\n* OO\n\n\n## Other topics\n\n* Regular Expressions\n* While Loops\n* break, continue statements\n* ...\n\n\n"
    }
  ],
  "metadata": {
    "anaconda-cloud": {},
    "kernelspec": {
      "name": "python3",
      "display_name": "Python 3",
      "language": "python"
    },
    "language_info": {
      "mimetype": "text/x-python",
      "nbconvert_exporter": "python",
      "name": "python",
      "file_extension": ".py",
      "version": "3.5.4",
      "pygments_lexer": "ipython3",
      "codemirror_mode": {
        "version": 3,
        "name": "ipython"
      }
    }
  },
  "nbformat": 4,
  "nbformat_minor": 1
}