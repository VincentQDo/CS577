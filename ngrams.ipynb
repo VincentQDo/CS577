{
 "cells": [
  {
   "cell_type": "markdown",
   "metadata": {},
   "source": [
    "# ngrams\n",
    "\n",
    "Although NLTK is necessary for computing ngrams, it does make the job easier. This notebook demos some parts of the NLTK API for ngrams."
   ]
  },
  {
   "cell_type": "markdown",
   "metadata": {},
   "source": [
    "## References:\n",
    "\n",
    "**API:** https://www.nltk.org/api/nltk.html#nltk.util.ngrams"
   ]
  },
  {
   "cell_type": "markdown",
   "metadata": {},
   "source": [
    "Exploring the novel _Dracula_, available on Project Gutenberg:"
   ]
  },
  {
   "cell_type": "code",
   "execution_count": 1,
   "metadata": {},
   "outputs": [],
   "source": [
    "import nltk"
   ]
  },
  {
   "cell_type": "markdown",
   "metadata": {},
   "source": [
    "Download a text file version of _Dracula_ into our VM:"
   ]
  },
  {
   "cell_type": "code",
   "execution_count": 4,
   "metadata": {},
   "outputs": [],
   "source": [
    "import requests"
   ]
  },
  {
   "cell_type": "code",
   "execution_count": 10,
   "metadata": {},
   "outputs": [],
   "source": [
    "book = requests.get('http://www.gutenberg.org/cache/epub/345/pg345.txt')"
   ]
  },
  {
   "cell_type": "code",
   "execution_count": 13,
   "metadata": {},
   "outputs": [
    {
     "data": {
      "text/plain": [
       "'\\ufeffThe Project Gutenberg EBook of Dracula, by Bram Stoker\\r\\n\\r\\nThis eBook is for the use of anyone anywhere at no cost and with\\r\\nalmost no restrictions whatsoever.  You may copy it, give it away or\\r\\nre-use it under the terms of the Project Gutenberg License included\\r\\nwith this eBook or online at www.gutenberg.org/license\\r\\n\\r\\n\\r\\nTitle: Dracula\\r\\n\\r\\nAuthor: Bram Stoker\\r\\n\\r\\nRelease Date: August 16, 2013 [EBook #345]\\r\\n\\r\\nLanguage: English\\r\\n\\r\\n\\r\\n*** START OF THIS PROJECT GUTENBERG EBOOK DRACULA ***\\r\\n\\r\\n\\r\\n\\r\\n\\r\\nProduced by Chuck Greif and the Online Distributed\\r\\nProofreading Team at http://www.pgdp.net (This file was\\r\\nproduced from images generously made available by The\\r\\nInternet Archive)\\r\\n\\r\\n\\r\\n\\r\\n\\r\\n\\r\\n\\r\\n\\r\\n                                DRACULA\\r\\n\\r\\n\\r\\n\\r\\n\\r\\n\\r\\n                                DRACULA\\r\\n\\r\\n                                  _by_\\r\\n\\r\\n                              Bram Stoker\\r\\n\\r\\n                        [Illustration: colophon]\\r\\n\\r\\n                                NEW YORK\\r\\n\\r\\n                            G'"
      ]
     },
     "execution_count": 13,
     "metadata": {},
     "output_type": "execute_result"
    }
   ],
   "source": [
    "book.text[:1000]"
   ]
  },
  {
   "cell_type": "markdown",
   "metadata": {},
   "source": [
    "Built-in support for bigrams and trigrams:"
   ]
  },
  {
   "cell_type": "code",
   "execution_count": 16,
   "metadata": {},
   "outputs": [
    {
     "data": {
      "text/plain": [
       "<generator object bigrams at 0x1165b2f50>"
      ]
     },
     "execution_count": 16,
     "metadata": {},
     "output_type": "execute_result"
    }
   ],
   "source": [
    "nltk.bigrams(book.text)"
   ]
  },
  {
   "cell_type": "code",
   "execution_count": 20,
   "metadata": {},
   "outputs": [
    {
     "name": "stdout",
     "output_type": "stream",
     "text": [
      "('\\ufeff', 'T')\n",
      "('T', 'h')\n",
      "('h', 'e')\n",
      "('e', ' ')\n",
      "(' ', 'P')\n",
      "('P', 'r')\n",
      "('r', 'o')\n",
      "('o', 'j')\n",
      "('j', 'e')\n",
      "('e', 'c')\n"
     ]
    }
   ],
   "source": [
    "gen = nltk.bigrams(book.text)\n",
    "for i in range(10):\n",
    "    print(next(gen))"
   ]
  },
  {
   "cell_type": "markdown",
   "metadata": {},
   "source": [
    "Cleaning up: sentence segmentation, word segmentation"
   ]
  },
  {
   "cell_type": "code",
   "execution_count": 21,
   "metadata": {},
   "outputs": [],
   "source": [
    "words = nltk.word_tokenize(book.text)"
   ]
  },
  {
   "cell_type": "code",
   "execution_count": 22,
   "metadata": {},
   "outputs": [
    {
     "data": {
      "text/plain": [
       "193789"
      ]
     },
     "execution_count": 22,
     "metadata": {},
     "output_type": "execute_result"
    }
   ],
   "source": [
    "len(words)"
   ]
  },
  {
   "cell_type": "code",
   "execution_count": 24,
   "metadata": {},
   "outputs": [
    {
     "name": "stdout",
     "output_type": "stream",
     "text": [
      "('\\ufeffThe', 'Project')\n",
      "('Project', 'Gutenberg')\n",
      "('Gutenberg', 'EBook')\n",
      "('EBook', 'of')\n",
      "('of', 'Dracula')\n",
      "('Dracula', ',')\n",
      "(',', 'by')\n",
      "('by', 'Bram')\n",
      "('Bram', 'Stoker')\n",
      "('Stoker', 'This')\n"
     ]
    }
   ],
   "source": [
    "gen = nltk.bigrams(words)\n",
    "for i in range(10):\n",
    "    print(next(gen))"
   ]
  },
  {
   "cell_type": "code",
   "execution_count": 42,
   "metadata": {},
   "outputs": [
    {
     "name": "stdout",
     "output_type": "stream",
     "text": [
      "('\\ufeffThe', 'Project', 'Gutenberg')\n",
      "('Project', 'Gutenberg', 'EBook')\n",
      "('Gutenberg', 'EBook', 'of')\n",
      "('EBook', 'of', 'Dracula')\n",
      "('of', 'Dracula', ',')\n",
      "('Dracula', ',', 'by')\n",
      "(',', 'by', 'Bram')\n",
      "('by', 'Bram', 'Stoker')\n",
      "('Bram', 'Stoker', 'This')\n",
      "('Stoker', 'This', 'eBook')\n"
     ]
    }
   ],
   "source": [
    "gen = nltk.trigrams(words)\n",
    "for i in range(10):\n",
    "    print(next(gen))"
   ]
  },
  {
   "cell_type": "markdown",
   "metadata": {},
   "source": [
    "Some quick frequency calculations:"
   ]
  },
  {
   "cell_type": "code",
   "execution_count": 43,
   "metadata": {},
   "outputs": [],
   "source": [
    "fdist = nltk.FreqDist(list(gen))"
   ]
  },
  {
   "cell_type": "code",
   "execution_count": 44,
   "metadata": {},
   "outputs": [
    {
     "data": {
      "text/plain": [
       "[((':', '--', \"''\"), 445),\n",
       " (('*', '*', '*'), 393),\n",
       " ((',', 'and', 'I'), 209),\n",
       " ((',', 'and', 'the'), 197),\n",
       " (('.', \"''\", '``'), 153),\n",
       " (('.', '*', '*'), 110),\n",
       " (('said', ':', '--'), 106),\n",
       " ((',', 'and', 'we'), 104),\n",
       " ((',', 'for', 'I'), 97),\n",
       " (('me', ',', 'and'), 96),\n",
       " ((',', 'and', 'that'), 92),\n",
       " ((',', 'and', 'he'), 90),\n",
       " (('?', \"''\", '``'), 90),\n",
       " (('.', 'It', 'is'), 90),\n",
       " (('.', 'It', 'was'), 86)]"
      ]
     },
     "execution_count": 44,
     "metadata": {},
     "output_type": "execute_result"
    }
   ],
   "source": [
    "fdist.most_common(15)"
   ]
  },
  {
   "cell_type": "markdown",
   "metadata": {},
   "source": [
    "4-grams and higher are specified by a different method."
   ]
  },
  {
   "cell_type": "code",
   "execution_count": 28,
   "metadata": {},
   "outputs": [],
   "source": [
    "from nltk.util import ngrams"
   ]
  },
  {
   "cell_type": "code",
   "execution_count": 30,
   "metadata": {},
   "outputs": [
    {
     "name": "stdout",
     "output_type": "stream",
     "text": [
      "('\\ufeffThe', 'Project', 'Gutenberg', 'EBook')\n",
      "('Project', 'Gutenberg', 'EBook', 'of')\n",
      "('Gutenberg', 'EBook', 'of', 'Dracula')\n",
      "('EBook', 'of', 'Dracula', ',')\n",
      "('of', 'Dracula', ',', 'by')\n",
      "('Dracula', ',', 'by', 'Bram')\n",
      "(',', 'by', 'Bram', 'Stoker')\n",
      "('by', 'Bram', 'Stoker', 'This')\n",
      "('Bram', 'Stoker', 'This', 'eBook')\n",
      "('Stoker', 'This', 'eBook', 'is')\n"
     ]
    }
   ],
   "source": [
    "gen = ngrams(words,4)\n",
    "for i in range(10):\n",
    "    print(next(gen))"
   ]
  },
  {
   "cell_type": "code",
   "execution_count": 31,
   "metadata": {},
   "outputs": [
    {
     "name": "stdout",
     "output_type": "stream",
     "text": [
      "('\\ufeffThe', 'Project', 'Gutenberg', 'EBook', 'of')\n",
      "('Project', 'Gutenberg', 'EBook', 'of', 'Dracula')\n",
      "('Gutenberg', 'EBook', 'of', 'Dracula', ',')\n",
      "('EBook', 'of', 'Dracula', ',', 'by')\n",
      "('of', 'Dracula', ',', 'by', 'Bram')\n",
      "('Dracula', ',', 'by', 'Bram', 'Stoker')\n",
      "(',', 'by', 'Bram', 'Stoker', 'This')\n",
      "('by', 'Bram', 'Stoker', 'This', 'eBook')\n",
      "('Bram', 'Stoker', 'This', 'eBook', 'is')\n",
      "('Stoker', 'This', 'eBook', 'is', 'for')\n"
     ]
    }
   ],
   "source": [
    "gen = ngrams(words,5)\n",
    "for i in range(10):\n",
    "    print(next(gen))"
   ]
  },
  {
   "cell_type": "markdown",
   "metadata": {},
   "source": [
    "By examining the NLTK API, we see optional fields for `pad_left`, `pad_right`, `left_pad_symbol`, and `right_pad_symbol`."
   ]
  },
  {
   "cell_type": "code",
   "execution_count": 40,
   "metadata": {},
   "outputs": [
    {
     "name": "stdout",
     "output_type": "stream",
     "text": [
      "('<s>', '<s>', '\\ufeffThe')\n",
      "('<s>', '\\ufeffThe', 'Project')\n",
      "('\\ufeffThe', 'Project', 'Gutenberg')\n",
      "('Project', 'Gutenberg', 'EBook')\n",
      "('Gutenberg', 'EBook', 'of')\n",
      "('EBook', 'of', 'Dracula')\n",
      "('of', 'Dracula', ',')\n",
      "('Dracula', ',', 'by')\n",
      "(',', 'by', 'Bram')\n",
      "('by', 'Bram', 'Stoker')\n"
     ]
    }
   ],
   "source": [
    "gen = ngrams(words, 3, pad_left=True, left_pad_symbol='<s>')\n",
    "for i in range(10):\n",
    "    print(next(gen))"
   ]
  },
  {
   "cell_type": "markdown",
   "metadata": {},
   "source": [
    "Adding in sentence segmentation and `<s>` `</s>` markers."
   ]
  },
  {
   "cell_type": "code",
   "execution_count": 32,
   "metadata": {},
   "outputs": [],
   "source": [
    "sents = nltk.sent_tokenize(book.text)"
   ]
  },
  {
   "cell_type": "code",
   "execution_count": 33,
   "metadata": {},
   "outputs": [
    {
     "data": {
      "text/plain": [
       "8569"
      ]
     },
     "execution_count": 33,
     "metadata": {},
     "output_type": "execute_result"
    }
   ],
   "source": [
    "len(sents)"
   ]
  },
  {
   "cell_type": "code",
   "execution_count": 37,
   "metadata": {},
   "outputs": [
    {
     "data": {
      "text/plain": [
       "['\\ufeffThe Project Gutenberg EBook of Dracula, by Bram Stoker\\r\\n\\r\\nThis eBook is for the use of anyone anywhere at no cost and with\\r\\nalmost no restrictions whatsoever.',\n",
       " 'You may copy it, give it away or\\r\\nre-use it under the terms of the Project Gutenberg License included\\r\\nwith this eBook or online at www.gutenberg.org/license\\r\\n\\r\\n\\r\\nTitle: Dracula\\r\\n\\r\\nAuthor: Bram Stoker\\r\\n\\r\\nRelease Date: August 16, 2013 [EBook #345]\\r\\n\\r\\nLanguage: English\\r\\n\\r\\n\\r\\n*** START OF THIS PROJECT GUTENBERG EBOOK DRACULA ***\\r\\n\\r\\n\\r\\n\\r\\n\\r\\nProduced by Chuck Greif and the Online Distributed\\r\\nProofreading Team at http://www.pgdp.net (This file was\\r\\nproduced from images generously made available by The\\r\\nInternet Archive)\\r\\n\\r\\n\\r\\n\\r\\n\\r\\n\\r\\n\\r\\n\\r\\n                                DRACULA\\r\\n\\r\\n\\r\\n\\r\\n\\r\\n\\r\\n                                DRACULA\\r\\n\\r\\n                                  _by_\\r\\n\\r\\n                              Bram Stoker\\r\\n\\r\\n                        [Illustration: colophon]\\r\\n\\r\\n                                NEW YORK\\r\\n\\r\\n                            GROSSET & DUNLAP\\r\\n\\r\\n                              _Publishers_\\r\\n\\r\\n      Copyright, 1897, in the United States of America, according\\r\\n                   to Act of Congress, by Bram Stoker\\r\\n\\r\\n                        [_All rights reserved._]\\r\\n\\r\\n                      PRINTED IN THE UNITED STATES\\r\\n                                   AT\\r\\n               THE COUNTRY LIFE PRESS, GARDEN CITY, N.Y.\\r\\n\\r\\n\\r\\n\\r\\n\\r\\n                                   TO\\r\\n\\r\\n                             MY DEAR FRIEND\\r\\n\\r\\n                               HOMMY-BEG\\r\\n\\r\\n\\r\\n\\r\\n\\r\\nCONTENTS\\r\\n\\r\\n\\r\\nCHAPTER I\\r\\n                                                                    Page\\r\\n\\r\\nJonathan Harker\\'s Journal                                              1\\r\\n\\r\\nCHAPTER II\\r\\n\\r\\nJonathan Harker\\'s Journal                                             14\\r\\n\\r\\nCHAPTER III\\r\\n\\r\\nJonathan Harker\\'s Journal                                             26\\r\\n\\r\\nCHAPTER IV\\r\\n\\r\\nJonathan Harker\\'s Journal                                             38\\r\\n\\r\\nCHAPTER V\\r\\n\\r\\nLetters--Lucy and Mina                                                51\\r\\n\\r\\nCHAPTER VI\\r\\n\\r\\nMina Murray\\'s Journal                                                 59\\r\\n\\r\\nCHAPTER VII\\r\\n\\r\\nCutting from \"The Dailygraph,\" 8 August                               71\\r\\n\\r\\nCHAPTER VIII\\r\\n\\r\\nMina Murray\\'s Journal                                                 84\\r\\n\\r\\nCHAPTER IX\\r\\n\\r\\nMina Murray\\'s Journal                                                 98\\r\\n\\r\\nCHAPTER X\\r\\n\\r\\nMina Murray\\'s Journal                                                111\\r\\n\\r\\nCHAPTER XI\\r\\n\\r\\nLucy Westenra\\'s Diary                                                124\\r\\n\\r\\nCHAPTER XII\\r\\n\\r\\nDr. Seward\\'s Diary                                                   136\\r\\n\\r\\nCHAPTER XIII\\r\\n\\r\\nDr. Seward\\'s Diary                                                   152\\r\\n\\r\\nCHAPTER XIV\\r\\n\\r\\nMina Harker\\'s Journal                                                167\\r\\n\\r\\nCHAPTER XV\\r\\n\\r\\nDr. Seward\\'s Diary                                                   181\\r\\n\\r\\nCHAPTER XVI\\r\\n\\r\\nDr. Seward\\'s Diary                                                   194\\r\\n\\r\\nCHAPTER XVII\\r\\n\\r\\nDr. Seward\\'s Diary                                                   204\\r\\n\\r\\nCHAPTER XVIII\\r\\n\\r\\nDr. Seward\\'s Diary                                                   216\\r\\n\\r\\nCHAPTER XIX\\r\\n\\r\\nJonathan Harker\\'s Journal                                            231\\r\\n\\r\\nCHAPTER XX\\r\\n\\r\\nJonathan Harker\\'s Journal                                            243\\r\\n\\r\\nCHAPTER XXI\\r\\n\\r\\nDr. Seward\\'s Diary                                                   256\\r\\n\\r\\nCHAPTER XXII\\r\\n\\r\\nJonathan Harker\\'s Journal                                            269\\r\\n\\r\\nCHAPTER XXIII\\r\\n\\r\\nDr. Seward\\'s Diary                                                   281\\r\\n\\r\\nCHAPTER XXIV\\r\\n\\r\\nDr. Seward\\'s Phonograph Diary, spoken by Van Helsing                 294\\r\\n\\r\\nCHAPTER XXV\\r\\n\\r\\nDr. Seward\\'s Diary                                                   308\\r\\n\\r\\nCHAPTER XXVI\\r\\n\\r\\nDr. Seward\\'s Diary                                                   322\\r\\n\\r\\nCHAPTER XXVII\\r\\n\\r\\nMina Harker\\'s Journal                                                338\\r\\n\\r\\n\\r\\n\\r\\n\\r\\nDRACULA\\r\\n\\r\\n\\r\\n\\r\\n\\r\\nCHAPTER I\\r\\n\\r\\nJONATHAN HARKER\\'S JOURNAL\\r\\n\\r\\n(_Kept in shorthand._)\\r\\n\\r\\n\\r\\n_3 May.',\n",
       " 'Bistritz._--Left Munich at 8:35 P. M., on 1st May, arriving at\\r\\nVienna early next morning; should have arrived at 6:46, but train was an\\r\\nhour late.',\n",
       " 'Buda-Pesth seems a wonderful place, from the glimpse which I\\r\\ngot of it from the train and the little I could walk through the\\r\\nstreets.',\n",
       " 'I feared to go very far from the station, as we had arrived\\r\\nlate and would start as near the correct time as possible.',\n",
       " 'The\\r\\nimpression I had was that we were leaving the West and entering the\\r\\nEast; the most western of splendid bridges over the Danube, which is\\r\\nhere of noble width and depth, took us among the traditions of Turkish\\r\\nrule.',\n",
       " 'We left in pretty good time, and came after nightfall to Klausenburgh.',\n",
       " 'Here I stopped for the night at the Hotel Royale.',\n",
       " 'I had for dinner, or\\r\\nrather supper, a chicken done up some way with red pepper, which was\\r\\nvery good but thirsty.',\n",
       " '(_Mem._, get recipe for Mina.)']"
      ]
     },
     "execution_count": 37,
     "metadata": {},
     "output_type": "execute_result"
    }
   ],
   "source": [
    "sents[:10]"
   ]
  },
  {
   "cell_type": "code",
   "execution_count": 36,
   "metadata": {},
   "outputs": [
    {
     "data": {
      "text/plain": [
       "['With some difficulty I got a\\r\\nfellow-passenger to tell me what they meant; he would not answer at\\r\\nfirst, but on learning that I was English, he explained that it was a\\r\\ncharm or guard against the evil eye.',\n",
       " 'This was not very pleasant for me,\\r\\njust starting for an unknown place to meet an unknown man; but every one\\r\\nseemed so kind-hearted, and so sorrowful, and so sympathetic that I\\r\\ncould not but be touched.',\n",
       " 'I shall never forget the last glimpse which I\\r\\nhad of the inn-yard and its crowd of picturesque figures, all crossing\\r\\nthemselves, as they stood round the wide archway, with its background of\\r\\nrich foliage of oleander and orange trees in green tubs clustered in the\\r\\ncentre of the yard.',\n",
       " 'Then our driver, whose wide linen drawers covered\\r\\nthe whole front of the box-seat--\"gotza\" they call them--cracked his big\\r\\nwhip over his four small horses, which ran abreast, and we set off on\\r\\nour journey.',\n",
       " 'I soon lost sight and recollection of ghostly fears in the beauty of the\\r\\nscene as we drove along, although had I known the language, or rather\\r\\nlanguages, which my fellow-passengers were speaking, I might not have\\r\\nbeen able to throw them off so easily.',\n",
       " 'Before us lay a green sloping\\r\\nland full of forests and woods, with here and there steep hills, crowned\\r\\nwith clumps of trees or with farmhouses, the blank gable end to the\\r\\nroad.',\n",
       " 'There was everywhere a bewildering mass of fruit blossom--apple,\\r\\nplum, pear, cherry; and as we drove by I could see the green grass under\\r\\nthe trees spangled with the fallen petals.',\n",
       " 'In and out amongst these\\r\\ngreen hills of what they call here the \"Mittel Land\" ran the road,\\r\\nlosing itself as it swept round the grassy curve, or was shut out by the\\r\\nstraggling ends of pine woods, which here and there ran down the\\r\\nhillsides like tongues of flame.',\n",
       " 'The road was rugged, but still we\\r\\nseemed to fly over it with a feverish haste.',\n",
       " 'I could not understand then\\r\\nwhat the haste meant, but the driver was evidently bent on losing no\\r\\ntime in reaching Borgo Prund.']"
      ]
     },
     "execution_count": 36,
     "metadata": {},
     "output_type": "execute_result"
    }
   ],
   "source": [
    "sents[100:110]"
   ]
  },
  {
   "cell_type": "code",
   "execution_count": 38,
   "metadata": {},
   "outputs": [
    {
     "name": "stdout",
     "output_type": "stream",
     "text": [
      "('\\ufeffThe Project Gutenberg EBook of Dracula, by Bram Stoker\\r\\n\\r\\nThis eBook is for the use of anyone anywhere at no cost and with\\r\\nalmost no restrictions whatsoever.', 'You may copy it, give it away or\\r\\nre-use it under the terms of the Project Gutenberg License included\\r\\nwith this eBook or online at www.gutenberg.org/license\\r\\n\\r\\n\\r\\nTitle: Dracula\\r\\n\\r\\nAuthor: Bram Stoker\\r\\n\\r\\nRelease Date: August 16, 2013 [EBook #345]\\r\\n\\r\\nLanguage: English\\r\\n\\r\\n\\r\\n*** START OF THIS PROJECT GUTENBERG EBOOK DRACULA ***\\r\\n\\r\\n\\r\\n\\r\\n\\r\\nProduced by Chuck Greif and the Online Distributed\\r\\nProofreading Team at http://www.pgdp.net (This file was\\r\\nproduced from images generously made available by The\\r\\nInternet Archive)\\r\\n\\r\\n\\r\\n\\r\\n\\r\\n\\r\\n\\r\\n\\r\\n                                DRACULA\\r\\n\\r\\n\\r\\n\\r\\n\\r\\n\\r\\n                                DRACULA\\r\\n\\r\\n                                  _by_\\r\\n\\r\\n                              Bram Stoker\\r\\n\\r\\n                        [Illustration: colophon]\\r\\n\\r\\n                                NEW YORK\\r\\n\\r\\n                            GROSSET & DUNLAP\\r\\n\\r\\n                              _Publishers_\\r\\n\\r\\n      Copyright, 1897, in the United States of America, according\\r\\n                   to Act of Congress, by Bram Stoker\\r\\n\\r\\n                        [_All rights reserved._]\\r\\n\\r\\n                      PRINTED IN THE UNITED STATES\\r\\n                                   AT\\r\\n               THE COUNTRY LIFE PRESS, GARDEN CITY, N.Y.\\r\\n\\r\\n\\r\\n\\r\\n\\r\\n                                   TO\\r\\n\\r\\n                             MY DEAR FRIEND\\r\\n\\r\\n                               HOMMY-BEG\\r\\n\\r\\n\\r\\n\\r\\n\\r\\nCONTENTS\\r\\n\\r\\n\\r\\nCHAPTER I\\r\\n                                                                    Page\\r\\n\\r\\nJonathan Harker\\'s Journal                                              1\\r\\n\\r\\nCHAPTER II\\r\\n\\r\\nJonathan Harker\\'s Journal                                             14\\r\\n\\r\\nCHAPTER III\\r\\n\\r\\nJonathan Harker\\'s Journal                                             26\\r\\n\\r\\nCHAPTER IV\\r\\n\\r\\nJonathan Harker\\'s Journal                                             38\\r\\n\\r\\nCHAPTER V\\r\\n\\r\\nLetters--Lucy and Mina                                                51\\r\\n\\r\\nCHAPTER VI\\r\\n\\r\\nMina Murray\\'s Journal                                                 59\\r\\n\\r\\nCHAPTER VII\\r\\n\\r\\nCutting from \"The Dailygraph,\" 8 August                               71\\r\\n\\r\\nCHAPTER VIII\\r\\n\\r\\nMina Murray\\'s Journal                                                 84\\r\\n\\r\\nCHAPTER IX\\r\\n\\r\\nMina Murray\\'s Journal                                                 98\\r\\n\\r\\nCHAPTER X\\r\\n\\r\\nMina Murray\\'s Journal                                                111\\r\\n\\r\\nCHAPTER XI\\r\\n\\r\\nLucy Westenra\\'s Diary                                                124\\r\\n\\r\\nCHAPTER XII\\r\\n\\r\\nDr. Seward\\'s Diary                                                   136\\r\\n\\r\\nCHAPTER XIII\\r\\n\\r\\nDr. Seward\\'s Diary                                                   152\\r\\n\\r\\nCHAPTER XIV\\r\\n\\r\\nMina Harker\\'s Journal                                                167\\r\\n\\r\\nCHAPTER XV\\r\\n\\r\\nDr. Seward\\'s Diary                                                   181\\r\\n\\r\\nCHAPTER XVI\\r\\n\\r\\nDr. Seward\\'s Diary                                                   194\\r\\n\\r\\nCHAPTER XVII\\r\\n\\r\\nDr. Seward\\'s Diary                                                   204\\r\\n\\r\\nCHAPTER XVIII\\r\\n\\r\\nDr. Seward\\'s Diary                                                   216\\r\\n\\r\\nCHAPTER XIX\\r\\n\\r\\nJonathan Harker\\'s Journal                                            231\\r\\n\\r\\nCHAPTER XX\\r\\n\\r\\nJonathan Harker\\'s Journal                                            243\\r\\n\\r\\nCHAPTER XXI\\r\\n\\r\\nDr. Seward\\'s Diary                                                   256\\r\\n\\r\\nCHAPTER XXII\\r\\n\\r\\nJonathan Harker\\'s Journal                                            269\\r\\n\\r\\nCHAPTER XXIII\\r\\n\\r\\nDr. Seward\\'s Diary                                                   281\\r\\n\\r\\nCHAPTER XXIV\\r\\n\\r\\nDr. Seward\\'s Phonograph Diary, spoken by Van Helsing                 294\\r\\n\\r\\nCHAPTER XXV\\r\\n\\r\\nDr. Seward\\'s Diary                                                   308\\r\\n\\r\\nCHAPTER XXVI\\r\\n\\r\\nDr. Seward\\'s Diary                                                   322\\r\\n\\r\\nCHAPTER XXVII\\r\\n\\r\\nMina Harker\\'s Journal                                                338\\r\\n\\r\\n\\r\\n\\r\\n\\r\\nDRACULA\\r\\n\\r\\n\\r\\n\\r\\n\\r\\nCHAPTER I\\r\\n\\r\\nJONATHAN HARKER\\'S JOURNAL\\r\\n\\r\\n(_Kept in shorthand._)\\r\\n\\r\\n\\r\\n_3 May.', 'Bistritz._--Left Munich at 8:35 P. M., on 1st May, arriving at\\r\\nVienna early next morning; should have arrived at 6:46, but train was an\\r\\nhour late.')\n",
      "('You may copy it, give it away or\\r\\nre-use it under the terms of the Project Gutenberg License included\\r\\nwith this eBook or online at www.gutenberg.org/license\\r\\n\\r\\n\\r\\nTitle: Dracula\\r\\n\\r\\nAuthor: Bram Stoker\\r\\n\\r\\nRelease Date: August 16, 2013 [EBook #345]\\r\\n\\r\\nLanguage: English\\r\\n\\r\\n\\r\\n*** START OF THIS PROJECT GUTENBERG EBOOK DRACULA ***\\r\\n\\r\\n\\r\\n\\r\\n\\r\\nProduced by Chuck Greif and the Online Distributed\\r\\nProofreading Team at http://www.pgdp.net (This file was\\r\\nproduced from images generously made available by The\\r\\nInternet Archive)\\r\\n\\r\\n\\r\\n\\r\\n\\r\\n\\r\\n\\r\\n\\r\\n                                DRACULA\\r\\n\\r\\n\\r\\n\\r\\n\\r\\n\\r\\n                                DRACULA\\r\\n\\r\\n                                  _by_\\r\\n\\r\\n                              Bram Stoker\\r\\n\\r\\n                        [Illustration: colophon]\\r\\n\\r\\n                                NEW YORK\\r\\n\\r\\n                            GROSSET & DUNLAP\\r\\n\\r\\n                              _Publishers_\\r\\n\\r\\n      Copyright, 1897, in the United States of America, according\\r\\n                   to Act of Congress, by Bram Stoker\\r\\n\\r\\n                        [_All rights reserved._]\\r\\n\\r\\n                      PRINTED IN THE UNITED STATES\\r\\n                                   AT\\r\\n               THE COUNTRY LIFE PRESS, GARDEN CITY, N.Y.\\r\\n\\r\\n\\r\\n\\r\\n\\r\\n                                   TO\\r\\n\\r\\n                             MY DEAR FRIEND\\r\\n\\r\\n                               HOMMY-BEG\\r\\n\\r\\n\\r\\n\\r\\n\\r\\nCONTENTS\\r\\n\\r\\n\\r\\nCHAPTER I\\r\\n                                                                    Page\\r\\n\\r\\nJonathan Harker\\'s Journal                                              1\\r\\n\\r\\nCHAPTER II\\r\\n\\r\\nJonathan Harker\\'s Journal                                             14\\r\\n\\r\\nCHAPTER III\\r\\n\\r\\nJonathan Harker\\'s Journal                                             26\\r\\n\\r\\nCHAPTER IV\\r\\n\\r\\nJonathan Harker\\'s Journal                                             38\\r\\n\\r\\nCHAPTER V\\r\\n\\r\\nLetters--Lucy and Mina                                                51\\r\\n\\r\\nCHAPTER VI\\r\\n\\r\\nMina Murray\\'s Journal                                                 59\\r\\n\\r\\nCHAPTER VII\\r\\n\\r\\nCutting from \"The Dailygraph,\" 8 August                               71\\r\\n\\r\\nCHAPTER VIII\\r\\n\\r\\nMina Murray\\'s Journal                                                 84\\r\\n\\r\\nCHAPTER IX\\r\\n\\r\\nMina Murray\\'s Journal                                                 98\\r\\n\\r\\nCHAPTER X\\r\\n\\r\\nMina Murray\\'s Journal                                                111\\r\\n\\r\\nCHAPTER XI\\r\\n\\r\\nLucy Westenra\\'s Diary                                                124\\r\\n\\r\\nCHAPTER XII\\r\\n\\r\\nDr. Seward\\'s Diary                                                   136\\r\\n\\r\\nCHAPTER XIII\\r\\n\\r\\nDr. Seward\\'s Diary                                                   152\\r\\n\\r\\nCHAPTER XIV\\r\\n\\r\\nMina Harker\\'s Journal                                                167\\r\\n\\r\\nCHAPTER XV\\r\\n\\r\\nDr. Seward\\'s Diary                                                   181\\r\\n\\r\\nCHAPTER XVI\\r\\n\\r\\nDr. Seward\\'s Diary                                                   194\\r\\n\\r\\nCHAPTER XVII\\r\\n\\r\\nDr. Seward\\'s Diary                                                   204\\r\\n\\r\\nCHAPTER XVIII\\r\\n\\r\\nDr. Seward\\'s Diary                                                   216\\r\\n\\r\\nCHAPTER XIX\\r\\n\\r\\nJonathan Harker\\'s Journal                                            231\\r\\n\\r\\nCHAPTER XX\\r\\n\\r\\nJonathan Harker\\'s Journal                                            243\\r\\n\\r\\nCHAPTER XXI\\r\\n\\r\\nDr. Seward\\'s Diary                                                   256\\r\\n\\r\\nCHAPTER XXII\\r\\n\\r\\nJonathan Harker\\'s Journal                                            269\\r\\n\\r\\nCHAPTER XXIII\\r\\n\\r\\nDr. Seward\\'s Diary                                                   281\\r\\n\\r\\nCHAPTER XXIV\\r\\n\\r\\nDr. Seward\\'s Phonograph Diary, spoken by Van Helsing                 294\\r\\n\\r\\nCHAPTER XXV\\r\\n\\r\\nDr. Seward\\'s Diary                                                   308\\r\\n\\r\\nCHAPTER XXVI\\r\\n\\r\\nDr. Seward\\'s Diary                                                   322\\r\\n\\r\\nCHAPTER XXVII\\r\\n\\r\\nMina Harker\\'s Journal                                                338\\r\\n\\r\\n\\r\\n\\r\\n\\r\\nDRACULA\\r\\n\\r\\n\\r\\n\\r\\n\\r\\nCHAPTER I\\r\\n\\r\\nJONATHAN HARKER\\'S JOURNAL\\r\\n\\r\\n(_Kept in shorthand._)\\r\\n\\r\\n\\r\\n_3 May.', 'Bistritz._--Left Munich at 8:35 P. M., on 1st May, arriving at\\r\\nVienna early next morning; should have arrived at 6:46, but train was an\\r\\nhour late.', 'Buda-Pesth seems a wonderful place, from the glimpse which I\\r\\ngot of it from the train and the little I could walk through the\\r\\nstreets.')\n",
      "('Bistritz._--Left Munich at 8:35 P. M., on 1st May, arriving at\\r\\nVienna early next morning; should have arrived at 6:46, but train was an\\r\\nhour late.', 'Buda-Pesth seems a wonderful place, from the glimpse which I\\r\\ngot of it from the train and the little I could walk through the\\r\\nstreets.', 'I feared to go very far from the station, as we had arrived\\r\\nlate and would start as near the correct time as possible.')\n",
      "('Buda-Pesth seems a wonderful place, from the glimpse which I\\r\\ngot of it from the train and the little I could walk through the\\r\\nstreets.', 'I feared to go very far from the station, as we had arrived\\r\\nlate and would start as near the correct time as possible.', 'The\\r\\nimpression I had was that we were leaving the West and entering the\\r\\nEast; the most western of splendid bridges over the Danube, which is\\r\\nhere of noble width and depth, took us among the traditions of Turkish\\r\\nrule.')\n",
      "('I feared to go very far from the station, as we had arrived\\r\\nlate and would start as near the correct time as possible.', 'The\\r\\nimpression I had was that we were leaving the West and entering the\\r\\nEast; the most western of splendid bridges over the Danube, which is\\r\\nhere of noble width and depth, took us among the traditions of Turkish\\r\\nrule.', 'We left in pretty good time, and came after nightfall to Klausenburgh.')\n",
      "('The\\r\\nimpression I had was that we were leaving the West and entering the\\r\\nEast; the most western of splendid bridges over the Danube, which is\\r\\nhere of noble width and depth, took us among the traditions of Turkish\\r\\nrule.', 'We left in pretty good time, and came after nightfall to Klausenburgh.', 'Here I stopped for the night at the Hotel Royale.')\n",
      "('We left in pretty good time, and came after nightfall to Klausenburgh.', 'Here I stopped for the night at the Hotel Royale.', 'I had for dinner, or\\r\\nrather supper, a chicken done up some way with red pepper, which was\\r\\nvery good but thirsty.')\n",
      "('Here I stopped for the night at the Hotel Royale.', 'I had for dinner, or\\r\\nrather supper, a chicken done up some way with red pepper, which was\\r\\nvery good but thirsty.', '(_Mem._, get recipe for Mina.)')\n",
      "('I had for dinner, or\\r\\nrather supper, a chicken done up some way with red pepper, which was\\r\\nvery good but thirsty.', '(_Mem._, get recipe for Mina.)', 'I asked the\\r\\nwaiter, and he said it was called \"paprika hendl,\" and that, as it was a\\r\\nnational dish, I should be able to get it anywhere along the\\r\\nCarpathians.')\n",
      "('(_Mem._, get recipe for Mina.)', 'I asked the\\r\\nwaiter, and he said it was called \"paprika hendl,\" and that, as it was a\\r\\nnational dish, I should be able to get it anywhere along the\\r\\nCarpathians.', \"I found my smattering of German very useful here; indeed, I\\r\\ndon't know how I should be able to get on without it.\")\n"
     ]
    }
   ],
   "source": [
    "gen = ngrams(sents,3)\n",
    "for i in range(10):\n",
    "    print(next(gen))"
   ]
  },
  {
   "cell_type": "code",
   "execution_count": null,
   "metadata": {},
   "outputs": [],
   "source": []
  }
 ],
 "metadata": {
  "kernelspec": {
   "display_name": "Python 3",
   "language": "python",
   "name": "python3"
  },
  "language_info": {
   "codemirror_mode": {
    "name": "ipython",
    "version": 3
   },
   "file_extension": ".py",
   "mimetype": "text/x-python",
   "name": "python",
   "nbconvert_exporter": "python",
   "pygments_lexer": "ipython3",
   "version": "3.7.6"
  }
 },
 "nbformat": 4,
 "nbformat_minor": 2
}
