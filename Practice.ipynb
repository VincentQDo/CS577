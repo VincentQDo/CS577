{
  "cells": [
    {
      "metadata": {},
      "cell_type": "markdown",
      "source": "# Python and NLTK Practice\n\nThis notebook contains some basic-to-intermediate practice problems to get you more familiar with coding Python, using the NLTK API, and interacting with Jupyter notebooks.\n\nRecall that each Jupypter notebook cell is either \"code\" or \"markdown\". If you are learning markdown syntax for the first time, I encourage you to also explore the markdown formatting of each of the below cells.\n\n*Reference*:\n* Some of these exercises are motivated by Chapter 1 of the NLTK book."
    },
    {
      "metadata": {},
      "cell_type": "markdown",
      "source": "<hr>"
    },
    {
      "metadata": {},
      "cell_type": "markdown",
      "source": "**I've already completed this problem for you below.**\n\n1. Define a function `two_max` that takes two integer arguments and returns the largest. (Although it is true that Python already has the <code>max()</code> function built-in, writing it yourself is nevertheless a good exercise.)"
    },
    {
      "metadata": {
        "trusted": true
      },
      "cell_type": "code",
      "source": "def two_max(x,y):\n    if x >= y:\n        return x\n    else:\n        return y",
      "execution_count": 1,
      "outputs": []
    },
    {
      "metadata": {},
      "cell_type": "markdown",
      "source": "Trying out the above function, taking advantage of Python's `input` function to grab `string` input, and then converting that to an `int`:"
    },
    {
      "metadata": {
        "trusted": true
      },
      "cell_type": "code",
      "source": "num1 = int(input('Enter first number: '))\nnum2 = int(input('Enter second number: '))\ntwo_max(num1, num2)",
      "execution_count": 2,
      "outputs": [
        {
          "output_type": "stream",
          "name": "stdout",
          "text": "Enter first number: 6\nEnter second number: 8\n"
        },
        {
          "output_type": "execute_result",
          "execution_count": 2,
          "data": {
            "text/plain": "8"
          },
          "metadata": {}
        }
      ]
    },
    {
      "metadata": {},
      "cell_type": "markdown",
      "source": "<hr>"
    },
    {
      "metadata": {},
      "cell_type": "markdown",
      "source": "**Now it's your turn.** (You don't need to use the `input` function when testing your code unless it really makes sense to. I only provided it above to serve as an example.)\n\n2. Define a function `three_max` that takes three arguments and returns the largest of them. (Once again, do not take advantage of the Python <code>max()</code> function.)"
    },
    {
      "metadata": {
        "trusted": false
      },
      "cell_type": "code",
      "source": "# YOUR PYTHON CODE HERE",
      "execution_count": null,
      "outputs": []
    },
    {
      "metadata": {
        "trusted": false
      },
      "cell_type": "code",
      "source": "# TEST YOUR FUNCTION HERE",
      "execution_count": null,
      "outputs": []
    },
    {
      "metadata": {},
      "cell_type": "markdown",
      "source": "3. Write a function <code>starts_with_vowel</code> that takes a character (a string of length <samp>1</samp>) and returns <samp>True</samp> if it is a vowel, <samp>False</samp> otherwise. The function should handle both uppercase and lowercase."
    },
    {
      "metadata": {
        "trusted": false
      },
      "cell_type": "code",
      "source": "# YOUR PYTHON CODE HERE",
      "execution_count": null,
      "outputs": []
    },
    {
      "metadata": {
        "trusted": false
      },
      "cell_type": "code",
      "source": "# TEST YOUR FUNCTION HERE",
      "execution_count": null,
      "outputs": []
    },
    {
      "metadata": {},
      "cell_type": "markdown",
      "source": "4. Define a function <code>multiply()</code> that multiplies all the numbers in a list of numbers. For example, <code>multiply([1, 2, 3, 4])</code> should return <samp>24</samp>."
    },
    {
      "metadata": {
        "trusted": false
      },
      "cell_type": "code",
      "source": "# YOUR PYTHON CODE HERE",
      "execution_count": null,
      "outputs": []
    },
    {
      "metadata": {
        "trusted": false
      },
      "cell_type": "code",
      "source": "# TEST YOUR FUNCTION HERE",
      "execution_count": null,
      "outputs": []
    },
    {
      "metadata": {},
      "cell_type": "markdown",
      "source": "5. Write a function <code>remove_spaces_from_keys</code> that takes a dictionary and mutates it so that all spaces are removed from the keys."
    },
    {
      "metadata": {
        "trusted": false
      },
      "cell_type": "code",
      "source": "# YOUR PYTHON CODE HERE",
      "execution_count": null,
      "outputs": []
    },
    {
      "metadata": {
        "trusted": false
      },
      "cell_type": "code",
      "source": "# TEST YOUR FUNCTION HERE",
      "execution_count": null,
      "outputs": []
    },
    {
      "metadata": {},
      "cell_type": "markdown",
      "source": "6. Write a function <code>print_vowel_words</code> that takes a list of strings and returns a new list that only contains the words that end in a vowel. (Hint: use a list comprehension)"
    },
    {
      "metadata": {
        "trusted": false
      },
      "cell_type": "code",
      "source": "# YOUR PYTHON CODE HERE",
      "execution_count": null,
      "outputs": []
    },
    {
      "metadata": {
        "trusted": false
      },
      "cell_type": "code",
      "source": "# TEST YOUR FUNCTION HERE",
      "execution_count": null,
      "outputs": []
    },
    {
      "metadata": {},
      "cell_type": "markdown",
      "source": "7. How many words are there in NLTK's `nltk.book.text2`? How many distinct words are there?"
    },
    {
      "metadata": {
        "trusted": false
      },
      "cell_type": "code",
      "source": "# YOUR PYTHON CODE HERE",
      "execution_count": null,
      "outputs": []
    },
    {
      "metadata": {},
      "cell_type": "markdown",
      "source": "8. Find all words in the Chat Corpus (`nltk.book.text5`) starting with the letter <samp>b</samp>. Show them in alphabetical order."
    },
    {
      "metadata": {
        "trusted": false
      },
      "cell_type": "code",
      "source": "# YOUR PYTHON CODE HERE",
      "execution_count": null,
      "outputs": []
    },
    {
      "metadata": {},
      "cell_type": "markdown",
      "source": "9. Compare the lexical diversity scores for humor against romance fiction. Which genre is more lexically diverse?"
    },
    {
      "metadata": {
        "trusted": false
      },
      "cell_type": "code",
      "source": "# YOUR PYTHON CODE HERE",
      "execution_count": null,
      "outputs": []
    },
    {
      "metadata": {},
      "cell_type": "markdown",
      "source": "10. Produce a dispersion plot of the four main protagonists in Sense and Sensibility: Elinor, Marianne, Edward, and Willoughby. What can you observe about the different roles played by the males and females in this novel? Can you identify the couples?"
    },
    {
      "metadata": {
        "trusted": false
      },
      "cell_type": "code",
      "source": "# YOUR PYTHON CODE HERE",
      "execution_count": null,
      "outputs": []
    },
    {
      "metadata": {},
      "cell_type": "markdown",
      "source": "11. Find all the four-letter words in the Chat Corpus (`nltk.book.text5`). With the help of a frequency distribution (`FreqDist`), show these words in decreasing order of frequency."
    },
    {
      "metadata": {
        "trusted": false
      },
      "cell_type": "code",
      "source": "# YOUR PYTHON CODE HERE",
      "execution_count": null,
      "outputs": []
    },
    {
      "metadata": {},
      "cell_type": "markdown",
      "source": "12. Define a function `percent(word, text)` that calculates how often a given word occurs in a text, and expresses the result as a percentage."
    },
    {
      "metadata": {
        "trusted": false
      },
      "cell_type": "code",
      "source": "# YOUR PYTHON CODE HERE",
      "execution_count": null,
      "outputs": []
    },
    {
      "metadata": {
        "trusted": false
      },
      "cell_type": "code",
      "source": "# TEST YOUR FUNCTION HERE",
      "execution_count": null,
      "outputs": []
    },
    {
      "metadata": {},
      "cell_type": "markdown",
      "source": "13. **Programming Challenge:** On page 25 of Chapter 2 in Section 2.5 of Jurafsky and Martin (3rd edition) -- see link under \"Primary Resources\" on the course page -- a pseudocode implementation is given of the minimum edit distance algorithm, as discussed in class on Tuesday. Implement it."
    },
    {
      "metadata": {
        "trusted": false
      },
      "cell_type": "code",
      "source": "# YOUR PYTHON CODE HERE",
      "execution_count": null,
      "outputs": []
    },
    {
      "metadata": {
        "trusted": false
      },
      "cell_type": "code",
      "source": "# TEST YOUR FUNCTION HERE",
      "execution_count": null,
      "outputs": []
    }
  ],
  "metadata": {
    "kernelspec": {
      "name": "python3",
      "display_name": "Python 3",
      "language": "python"
    },
    "language_info": {
      "mimetype": "text/x-python",
      "nbconvert_exporter": "python",
      "name": "python",
      "file_extension": ".py",
      "version": "3.5.4",
      "pygments_lexer": "ipython3",
      "codemirror_mode": {
        "version": 3,
        "name": "ipython"
      }
    }
  },
  "nbformat": 4,
  "nbformat_minor": 2
}